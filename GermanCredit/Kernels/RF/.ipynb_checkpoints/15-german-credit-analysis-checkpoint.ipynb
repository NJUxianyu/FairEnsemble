{
 "cells": [
  {
   "cell_type": "markdown",
   "metadata": {
    "_uuid": "c8b6bf67fdcb32a166faeedb13717d8c16bbf1bd"
   },
   "source": [
    "# Credit Data Analysis\n",
    "![!image.png](attachment:image.png)](http://www.cfrontier.com/wp-content/uploads/2017/10/cr.png)"
   ]
  },
  {
   "cell_type": "code",
   "execution_count": null,
   "metadata": {
    "_cell_guid": "b1076dfc-b9ad-4769-8c92-a6c4dae69d19",
    "_uuid": "8f2839f25d086af736a60e9eeb907d3b93b6e0e5"
   },
   "outputs": [],
   "source": [
    "# This Python 3 environment comes with many helpful analytics libraries installed\n",
    "# It is defined by the kaggle/python docker image: https://github.com/kaggle/docker-python\n",
    "# For example, here's several helpful packages to load in \n",
    "\n",
    "import numpy as np # linear algebra\n",
    "import pandas as pd # data processing, CSV file I/O (e.g. pd.read_csv)\n",
    "import matplotlib.pyplot as plt\n",
    "import seaborn as sns\n",
    "color = sns.color_palette()\n",
    "import plotly.offline as py\n",
    "py.init_notebook_mode(connected=True)\n",
    "import plotly.graph_objs as go\n",
    "import plotly.offline as offline\n",
    "offline.init_notebook_mode()\n",
    "import plotly.tools as tls\n",
    "import squarify\n",
    "# Input data files are available in the \"../input/\" directory.\n",
    "# For example, running this (by clicking run or pressing Shift+Enter) will list the files in the input directory\n",
    "\n",
    "import os\n",
    "print(os.listdir(\"../input\"))\n",
    "\n",
    "# Any results you write to the current directory are saved as output."
   ]
  },
  {
   "cell_type": "code",
   "execution_count": null,
   "metadata": {
    "_cell_guid": "79c7e3d0-c299-4dcb-8224-4455121ee9b0",
    "_uuid": "d629ff2d2480ee46fbb7e2d37f6b5fab8052498a"
   },
   "outputs": [],
   "source": [
    "df = pd.read_csv('../input/german-credit-data-with-risk/german_credit_data.csv', index_col = 0)\n",
    "df.head()"
   ]
  },
  {
   "cell_type": "code",
   "execution_count": null,
   "metadata": {
    "_uuid": "8defc7385b08976061d9a3ef1fef4e4a615029c7"
   },
   "outputs": [],
   "source": [
    "df.shape"
   ]
  },
  {
   "cell_type": "code",
   "execution_count": null,
   "metadata": {
    "_uuid": "84a75811c061b936ef0eec910ab031f0dcaaf2a0"
   },
   "outputs": [],
   "source": [
    "df.info()"
   ]
  },
  {
   "cell_type": "code",
   "execution_count": null,
   "metadata": {
    "_uuid": "f3ea0923506cc61ea0b32b578329d52c11c7fa24"
   },
   "outputs": [],
   "source": [
    "df.describe()"
   ]
  },
  {
   "cell_type": "code",
   "execution_count": null,
   "metadata": {
    "_uuid": "b586996ed858a7318414a8f10e508baacfac1802"
   },
   "outputs": [],
   "source": [
    "sns.countplot('Risk', data=df)\n",
    "plt.title('Risk Distribution', fontsize=14)\n",
    "plt.show()"
   ]
  },
  {
   "cell_type": "code",
   "execution_count": null,
   "metadata": {
    "_uuid": "f773aa4b68cc9e5556b20d2f7fceb701b8b7b90c"
   },
   "outputs": [],
   "source": [
    "plt.figure(figsize =(20,20))\n",
    "Corr=df[df.columns].corr()\n",
    "sns.heatmap(Corr,annot=True)"
   ]
  },
  {
   "cell_type": "code",
   "execution_count": null,
   "metadata": {
    "_uuid": "4914d2a0701f32ddd3b261a6b47644d796e4d55b"
   },
   "outputs": [],
   "source": [
    "# now let us check in the number of Percentage\n",
    "Count_good_transaction = len(df[df[\"Risk\"]=='good']) # good transaction are repersented by 0\n",
    "Count_bad_transaction = len(df[df[\"Risk\"]=='bad']) # bad by 1\n",
    "Percentage_of_good_transaction = Count_good_transaction/(Count_good_transaction+Count_bad_transaction)\n",
    "print(\"percentage of good transaction is\",Percentage_of_good_transaction*100)\n",
    "Percentage_of_bad_transaction= Count_bad_transaction/(Count_good_transaction+Count_bad_transaction)\n",
    "print(\"percentage of bad transaction is\",Percentage_of_bad_transaction*100)"
   ]
  },
  {
   "cell_type": "code",
   "execution_count": null,
   "metadata": {
    "_uuid": "c6deff14303a4670445ac0ed1449c1181bc95f8a"
   },
   "outputs": [],
   "source": [
    "df = df.rename(columns={'Credit amount':'Credit'})"
   ]
  },
  {
   "cell_type": "code",
   "execution_count": null,
   "metadata": {
    "_uuid": "5f664794cab0e3fe1125d3a8eea7393f8cf9880d"
   },
   "outputs": [],
   "source": [
    "temp = df['Checking account'].value_counts()\n",
    "plt.figure(figsize=(15,8))\n",
    "sns.barplot(temp.index, temp.values, alpha=0.9, color=color[0])\n",
    "plt.xticks(rotation='vertical', fontsize=20)\n",
    "plt.xlabel('Range of the people', fontsize=12)\n",
    "plt.ylabel('count', fontsize=12)\n",
    "plt.title(\"Count of people status\", fontsize=16)\n",
    "plt.show()"
   ]
  },
  {
   "cell_type": "code",
   "execution_count": null,
   "metadata": {
    "_uuid": "97ab67f75b517942f26467a15e44415e55d03c6b"
   },
   "outputs": [],
   "source": [
    "good_transaction = df[df[\"Risk\"]=='good']\n",
    "bad_transaction= df[df[\"Risk\"]=='bad']\n",
    "plt.figure(figsize=(10,6))\n",
    "plt.subplot(121)\n",
    "good_transaction.Credit.plot.hist(title=\"Good Transaction\")\n",
    "plt.subplot(122)\n",
    "bad_transaction.Credit.plot.hist(title=\"Bad Transaction\")"
   ]
  },
  {
   "cell_type": "code",
   "execution_count": null,
   "metadata": {
    "_uuid": "de62e7dd9ff136a2fd3898e8d50ee7851aa45589"
   },
   "outputs": [],
   "source": [
    "good_transaction = df[df[\"Risk\"]=='good']\n",
    "bad_transaction= df[df[\"Risk\"]=='bad']\n",
    "plt.figure(figsize=(10,6))\n",
    "plt.subplot(121)\n",
    "good_transaction.Duration.plot.hist(title=\"Good Transaction\")\n",
    "plt.subplot(122)\n",
    "bad_transaction.Duration.plot.hist(title=\"Bad Transaction\")"
   ]
  },
  {
   "cell_type": "code",
   "execution_count": null,
   "metadata": {
    "_uuid": "0d588cfe1c4abb4bff0be00d0ec1a7108dd8010f"
   },
   "outputs": [],
   "source": [
    "good = df[df[\"Risk\"]=='good']\n",
    "bad = df[df[\"Risk\"]=='bad']"
   ]
  },
  {
   "cell_type": "code",
   "execution_count": null,
   "metadata": {
    "_uuid": "0d5314ca4e95de4d0ab746a550a72c223fc039e4"
   },
   "outputs": [],
   "source": [
    "f, (ax1, ax2) = plt.subplots(2, 1, sharex=True)\n",
    "f.suptitle('Time of transaction vs Amount by class')\n",
    "ax1.scatter(bad.Duration, bad.Credit)\n",
    "ax1.set_title('Fraud')\n",
    "ax2.scatter(good.Duration, good.Credit)\n",
    "ax2.set_title('Normal')\n",
    "plt.xlabel('Time (in Seconds)')\n",
    "plt.ylabel('Amount')\n",
    "plt.show()\n"
   ]
  },
  {
   "cell_type": "code",
   "execution_count": null,
   "metadata": {
    "_uuid": "f40f7cd9cb8da5013525e40f856ee51ae4c5a563"
   },
   "outputs": [],
   "source": [
    "f, (ax1, ax2) = plt.subplots(2, 1, sharex=True)\n",
    "f.suptitle('Age of transaction vs Amount by class')\n",
    "ax1.scatter(bad.Age, bad.Credit)\n",
    "ax1.set_title('Bad')\n",
    "ax2.scatter(good.Age, good.Credit)\n",
    "ax2.set_title('Good')\n",
    "plt.xlabel('Age (in years)')\n",
    "plt.ylabel('Amount')\n",
    "plt.show()\n"
   ]
  },
  {
   "cell_type": "code",
   "execution_count": null,
   "metadata": {
    "_uuid": "86d193464de7f951b1289b225bc389d468353526"
   },
   "outputs": [],
   "source": [
    "f, (ax1, ax2) = plt.subplots(2, 1, sharex=True)\n",
    "f.suptitle('Gender of transaction vs Amount by class')\n",
    "ax1.scatter(bad.Sex, bad.Credit)\n",
    "ax1.set_title('Bad')\n",
    "ax2.scatter(good.Sex, good.Credit)\n",
    "ax2.set_title('Good')\n",
    "plt.xlabel('Gender')\n",
    "plt.ylabel('Amount')\n",
    "plt.show()\n"
   ]
  },
  {
   "cell_type": "code",
   "execution_count": null,
   "metadata": {
    "_uuid": "bc8dcd1bc8fd5fde164b1b87a3ef18968f9bfb90"
   },
   "outputs": [],
   "source": [
    "f, (ax1, ax2) = plt.subplots(2, 1, sharex=True)\n",
    "f.suptitle('Job vs Amount by class')\n",
    "ax1.scatter(bad.Job, bad.Credit)\n",
    "ax1.set_title('Bad')\n",
    "ax2.scatter(good.Job, good.Credit)\n",
    "ax2.set_title('Good')\n",
    "plt.xlabel('Based on Job Grading')\n",
    "plt.ylabel('Amount')\n",
    "plt.show()"
   ]
  },
  {
   "cell_type": "code",
   "execution_count": null,
   "metadata": {
    "_uuid": "44d9930cdd4b99f5d302456bfe16adb7bb013cbc"
   },
   "outputs": [],
   "source": [
    "from sklearn.preprocessing import LabelEncoder\n",
    "le= LabelEncoder()\n",
    "df[\"Risk\"]= le.fit_transform(df[\"Risk\"])\n",
    "df[\"Sex\"] = le.fit_transform(df[\"Sex\"])\n",
    "df[\"Housing\"] = le.fit_transform(df[\"Housing\"])"
   ]
  },
  {
   "cell_type": "code",
   "execution_count": null,
   "metadata": {
    "_uuid": "d075a54b285adefa2bce02d00e8cfd22adc6a19c"
   },
   "outputs": [],
   "source": [
    "df[\"Saving accounts\"] = df[\"Saving accounts\"].replace({\"little\":0, \"moderate\":1, \"rich\":2, \"quite rich\":3})\n",
    "df[\"Checking account\"] = df[\"Checking account\"].replace({\"little\":0, \"moderate\":1, \"rich\":2})"
   ]
  },
  {
   "cell_type": "code",
   "execution_count": null,
   "metadata": {
    "_uuid": "2f692e0f8f8246611fcc3c7ddddb5de49992813f"
   },
   "outputs": [],
   "source": [
    "df = df.fillna(1)\n",
    "df1 = df.drop(columns = 'Purpose')\n",
    "df1.head()"
   ]
  },
  {
   "cell_type": "code",
   "execution_count": null,
   "metadata": {
    "_uuid": "13033229b2a2682a9e245d944b222508d8e3f82b"
   },
   "outputs": [],
   "source": [
    "plt.figure(figsize =(20,20))\n",
    "Corr=df[df.columns].corr()\n",
    "sns.heatmap(Corr,annot=True)"
   ]
  },
  {
   "cell_type": "code",
   "execution_count": null,
   "metadata": {
    "_uuid": "48b06a96d4a262f9dfb8cc7d267790acc03f6862"
   },
   "outputs": [],
   "source": [
    "from sklearn.metrics import classification_report,accuracy_score\n",
    "from sklearn.ensemble import IsolationForest\n",
    "from sklearn.neighbors import LocalOutlierFactor\n",
    "from sklearn.svm import OneClassSVM\n",
    "from pylab import rcParams\n",
    "rcParams['figure.figsize'] = 14, 8\n",
    "RANDOM_SEED = 42"
   ]
  },
  {
   "cell_type": "code",
   "execution_count": null,
   "metadata": {
    "_uuid": "76142f3c87d684bf12eb24ce4290e20c38dac7f3"
   },
   "outputs": [],
   "source": [
    "columns = df1.columns.tolist()\n",
    "# Filter the columns to remove data we do not want \n",
    "columns = [c for c in columns if c not in [\"Risk\"]]\n",
    "# Store the variable we are predicting \n",
    "target = \"Risk\"\n",
    "# Define a random state \n",
    "state = np.random.RandomState(42)\n",
    "X = df1[columns]\n",
    "Y = df1[target]\n",
    "X_outliers = state.uniform(low=0, high=1, size=(X.shape[0], X.shape[1]))\n",
    "# Print the shapes of X & Y\n",
    "print(X.shape)\n",
    "print(Y.shape)"
   ]
  },
  {
   "cell_type": "code",
   "execution_count": null,
   "metadata": {
    "_uuid": "e273f421933f43654bc874a675e8368f1f94edbe"
   },
   "outputs": [],
   "source": [
    "outlier_fraction = len(bad)/float(len(good))"
   ]
  },
  {
   "cell_type": "code",
   "execution_count": null,
   "metadata": {
    "_uuid": "115234876e0521fc914e8fb27d920f50755d3bea"
   },
   "outputs": [],
   "source": [
    "classifiers = {\n",
    "    \"Isolation Forest\":IsolationForest(n_estimators=100, max_samples=len(X), \n",
    "                                       contamination=outlier_fraction,random_state=42, verbose=0),\n",
    "    \"Local Outlier Factor\":LocalOutlierFactor(n_neighbors=20, algorithm='auto', \n",
    "                                              leaf_size=30, metric='minkowski',\n",
    "                                              p=2, metric_params=None, contamination=outlier_fraction),\n",
    "    \"Support Vector Machine\":OneClassSVM(kernel='rbf', degree=3, gamma=0.1,nu=0.05, \n",
    "                                         max_iter=-1, random_state=43)\n",
    "   \n",
    "}"
   ]
  },
  {
   "cell_type": "code",
   "execution_count": null,
   "metadata": {
    "_uuid": "0fc2ea4f07ff3b9736755644fd13ccc0a57ee444"
   },
   "outputs": [],
   "source": [
    "n_outliers = len(bad)\n",
    "for i, (clf_name,clf) in enumerate(classifiers.items()):\n",
    "    #Fit the data and tag outliers\n",
    "    if clf_name == \"Local Outlier Factor\":\n",
    "        y_pred = clf.fit_predict(X)\n",
    "        scores_prediction = clf.negative_outlier_factor_\n",
    "    elif clf_name == \"Support Vector Machine\":\n",
    "        clf.fit(X)\n",
    "        y_pred = clf.predict(X)\n",
    "    else:    \n",
    "        clf.fit(X)\n",
    "        scores_prediction = clf.decision_function(X)\n",
    "        y_pred = clf.predict(X)\n",
    "    #Reshape the prediction values to 1 for good transactions , 0 for bad transactions\n",
    "    y_pred[y_pred == 1] = 0\n",
    "    y_pred[y_pred == -1] = 1\n",
    "    n_errors = (y_pred != Y).sum()\n",
    "    # Run Classification Metrics\n",
    "    print(\"{}: {}\".format(clf_name,n_errors))\n",
    "    print(\"Accuracy Score :\")\n",
    "    print(accuracy_score(Y,y_pred))\n",
    "    print(\"Classification Report :\")\n",
    "    print(classification_report(Y,y_pred))"
   ]
  },
  {
   "cell_type": "markdown",
   "metadata": {
    "_uuid": "3cf836d98fb8728526473720200eb3356a95b59d"
   },
   "source": [
    "# Thanks for spending your time in my kernel. If you like this kernel please do upvote."
   ]
  }
 ],
 "metadata": {
  "kernelspec": {
   "display_name": "Python 3",
   "language": "python",
   "name": "python3"
  },
  "language_info": {
   "codemirror_mode": {
    "name": "ipython",
    "version": 3
   },
   "file_extension": ".py",
   "mimetype": "text/x-python",
   "name": "python",
   "nbconvert_exporter": "python",
   "pygments_lexer": "ipython3",
   "version": "3.8.5"
  }
 },
 "nbformat": 4,
 "nbformat_minor": 1
}
