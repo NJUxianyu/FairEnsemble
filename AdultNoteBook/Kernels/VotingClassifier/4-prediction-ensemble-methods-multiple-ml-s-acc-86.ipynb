{
 "cells": [
  {
   "cell_type": "markdown",
   "metadata": {
    "_uuid": "32b2ef04814b284c19f71e623e98022efd322732"
   },
   "source": [
    "# Adult Census Income Analysis - Decision TREE, Random Forest, CV, Tuning the model with Ensemble Techniques(Baaging , ADAboost)\n"
   ]
  },
  {
   "cell_type": "markdown",
   "metadata": {
    "_uuid": "7462e6028fbfac80717afb34961109db9f1d26b4"
   },
   "source": [
    "### A stable and optimized model to predict the income of a given population, which is labelled as <= 50K and >50K. The attributes (predictors) are age, working class type, marital status, gender, race etc.\n",
    "#### Following are the steps, \n",
    "#### 1.clean and prepare the data,\n",
    "#### 2.Analyze Data,\n",
    "#### 3.Label Encoding,\n",
    "#### 4.Build a decision tree and Random forest with default hyperparameters,\n",
    "#### 5.Build several classifier models to compare, cross validate and for voting classifier model\n",
    "#### 6.choose the optimal hyperparameters using grid search cross-validation.\n",
    "#### 7.Build optimized Random forest model with tuned hyperparameters from grid search model\n",
    "#### 8.Increase Accuracy by Applying Ensemble technique BAGGING to our tuned random forest model\n",
    "#### 9.Increase Accuracy by Applying Ensemble technique ADABOOST to our tuned random forest model\n",
    "####  I hope you enjoy this notebook and find it useful!"
   ]
  },
  {
   "cell_type": "markdown",
   "metadata": {
    "_uuid": "ce6da2377aff6dd18a2a76b7d0b67e732e00bfcb"
   },
   "source": [
    "## Clean & Analyze Data,"
   ]
  },
  {
   "cell_type": "code",
   "execution_count": 4,
   "metadata": {
    "_uuid": "7361e3b94dfc782419e36e24e47650f6bee7acbf"
   },
   "outputs": [],
   "source": [
    "import numpy as np\n",
    "import pandas as pd\n",
    "import seaborn as sns\n",
    "import matplotlib.pyplot as plt\n",
    "# from sklearn.cross_validation import cross_val_score\n",
    "from sklearn.model_selection import GridSearchCV\n",
    "from sklearn.model_selection import RandomizedSearchCV\n",
    "from sklearn.tree import DecisionTreeClassifier \n",
    "from sklearn.ensemble import RandomForestClassifier\n",
    "# from sklearn.cross_validation import train_test_split\n",
    "import warnings\n",
    "warnings.filterwarnings('ignore')"
   ]
  },
  {
   "cell_type": "code",
   "execution_count": 5,
   "metadata": {},
   "outputs": [],
   "source": [
    "from aif360.datasets import StandardDataset\n",
    "from aif360.metrics import BinaryLabelDatasetMetric, ClassificationMetric\n",
    "import matplotlib.patches as patches\n",
    "from aif360.algorithms.preprocessing import Reweighing\n",
    "#from packages import *\n",
    "#from ml_fairness import *\n",
    "import matplotlib.pyplot as plt\n",
    "import seaborn as sns\n",
    "\n",
    "\n",
    "\n",
    "from IPython.display import Markdown, display"
   ]
  },
  {
   "cell_type": "code",
   "execution_count": 6,
   "metadata": {
    "_uuid": "39f4cd7d56fe0b06e47bfc6cf2c950feaad7e8e4"
   },
   "outputs": [],
   "source": [
    "from sklearn.model_selection import cross_val_score"
   ]
  },
  {
   "cell_type": "code",
   "execution_count": 4,
   "metadata": {
    "_uuid": "ffa2817a5eb614c43310643022ddbd8a7afa8d42"
   },
   "outputs": [],
   "source": [
    "from sklearn.model_selection import train_test_split"
   ]
  },
  {
   "cell_type": "code",
   "execution_count": 5,
   "metadata": {
    "_uuid": "04d567bee2cf3de195c43c3a9ecae60f33b93f38"
   },
   "outputs": [],
   "source": [
    "data =  pd.read_csv(\"../../Data/adult.csv\")"
   ]
  },
  {
   "cell_type": "code",
   "execution_count": 6,
   "metadata": {
    "_uuid": "0ef0457d40b0333ae9687a364eb00ea6f386bf67"
   },
   "outputs": [
    {
     "data": {
      "text/html": [
       "<div>\n",
       "<style scoped>\n",
       "    .dataframe tbody tr th:only-of-type {\n",
       "        vertical-align: middle;\n",
       "    }\n",
       "\n",
       "    .dataframe tbody tr th {\n",
       "        vertical-align: top;\n",
       "    }\n",
       "\n",
       "    .dataframe thead th {\n",
       "        text-align: right;\n",
       "    }\n",
       "</style>\n",
       "<table border=\"1\" class=\"dataframe\">\n",
       "  <thead>\n",
       "    <tr style=\"text-align: right;\">\n",
       "      <th></th>\n",
       "      <th>age</th>\n",
       "      <th>workclass</th>\n",
       "      <th>fnlwgt</th>\n",
       "      <th>education</th>\n",
       "      <th>education.num</th>\n",
       "      <th>marital.status</th>\n",
       "      <th>occupation</th>\n",
       "      <th>relationship</th>\n",
       "      <th>race</th>\n",
       "      <th>sex</th>\n",
       "      <th>capital.gain</th>\n",
       "      <th>capital.loss</th>\n",
       "      <th>hours.per.week</th>\n",
       "      <th>native.country</th>\n",
       "      <th>income</th>\n",
       "    </tr>\n",
       "  </thead>\n",
       "  <tbody>\n",
       "    <tr>\n",
       "      <th>0</th>\n",
       "      <td>90</td>\n",
       "      <td>?</td>\n",
       "      <td>77053</td>\n",
       "      <td>HS-grad</td>\n",
       "      <td>9</td>\n",
       "      <td>Widowed</td>\n",
       "      <td>?</td>\n",
       "      <td>Not-in-family</td>\n",
       "      <td>White</td>\n",
       "      <td>Female</td>\n",
       "      <td>0</td>\n",
       "      <td>4356</td>\n",
       "      <td>40</td>\n",
       "      <td>United-States</td>\n",
       "      <td>&lt;=50K</td>\n",
       "    </tr>\n",
       "    <tr>\n",
       "      <th>1</th>\n",
       "      <td>82</td>\n",
       "      <td>Private</td>\n",
       "      <td>132870</td>\n",
       "      <td>HS-grad</td>\n",
       "      <td>9</td>\n",
       "      <td>Widowed</td>\n",
       "      <td>Exec-managerial</td>\n",
       "      <td>Not-in-family</td>\n",
       "      <td>White</td>\n",
       "      <td>Female</td>\n",
       "      <td>0</td>\n",
       "      <td>4356</td>\n",
       "      <td>18</td>\n",
       "      <td>United-States</td>\n",
       "      <td>&lt;=50K</td>\n",
       "    </tr>\n",
       "    <tr>\n",
       "      <th>2</th>\n",
       "      <td>66</td>\n",
       "      <td>?</td>\n",
       "      <td>186061</td>\n",
       "      <td>Some-college</td>\n",
       "      <td>10</td>\n",
       "      <td>Widowed</td>\n",
       "      <td>?</td>\n",
       "      <td>Unmarried</td>\n",
       "      <td>Black</td>\n",
       "      <td>Female</td>\n",
       "      <td>0</td>\n",
       "      <td>4356</td>\n",
       "      <td>40</td>\n",
       "      <td>United-States</td>\n",
       "      <td>&lt;=50K</td>\n",
       "    </tr>\n",
       "    <tr>\n",
       "      <th>3</th>\n",
       "      <td>54</td>\n",
       "      <td>Private</td>\n",
       "      <td>140359</td>\n",
       "      <td>7th-8th</td>\n",
       "      <td>4</td>\n",
       "      <td>Divorced</td>\n",
       "      <td>Machine-op-inspct</td>\n",
       "      <td>Unmarried</td>\n",
       "      <td>White</td>\n",
       "      <td>Female</td>\n",
       "      <td>0</td>\n",
       "      <td>3900</td>\n",
       "      <td>40</td>\n",
       "      <td>United-States</td>\n",
       "      <td>&lt;=50K</td>\n",
       "    </tr>\n",
       "    <tr>\n",
       "      <th>4</th>\n",
       "      <td>41</td>\n",
       "      <td>Private</td>\n",
       "      <td>264663</td>\n",
       "      <td>Some-college</td>\n",
       "      <td>10</td>\n",
       "      <td>Separated</td>\n",
       "      <td>Prof-specialty</td>\n",
       "      <td>Own-child</td>\n",
       "      <td>White</td>\n",
       "      <td>Female</td>\n",
       "      <td>0</td>\n",
       "      <td>3900</td>\n",
       "      <td>40</td>\n",
       "      <td>United-States</td>\n",
       "      <td>&lt;=50K</td>\n",
       "    </tr>\n",
       "  </tbody>\n",
       "</table>\n",
       "</div>"
      ],
      "text/plain": [
       "   age workclass  fnlwgt     education  education.num marital.status  \\\n",
       "0   90         ?   77053       HS-grad              9        Widowed   \n",
       "1   82   Private  132870       HS-grad              9        Widowed   \n",
       "2   66         ?  186061  Some-college             10        Widowed   \n",
       "3   54   Private  140359       7th-8th              4       Divorced   \n",
       "4   41   Private  264663  Some-college             10      Separated   \n",
       "\n",
       "          occupation   relationship   race     sex  capital.gain  \\\n",
       "0                  ?  Not-in-family  White  Female             0   \n",
       "1    Exec-managerial  Not-in-family  White  Female             0   \n",
       "2                  ?      Unmarried  Black  Female             0   \n",
       "3  Machine-op-inspct      Unmarried  White  Female             0   \n",
       "4     Prof-specialty      Own-child  White  Female             0   \n",
       "\n",
       "   capital.loss  hours.per.week native.country income  \n",
       "0          4356              40  United-States  <=50K  \n",
       "1          4356              18  United-States  <=50K  \n",
       "2          4356              40  United-States  <=50K  \n",
       "3          3900              40  United-States  <=50K  \n",
       "4          3900              40  United-States  <=50K  "
      ]
     },
     "execution_count": 6,
     "metadata": {},
     "output_type": "execute_result"
    }
   ],
   "source": [
    "data.head()"
   ]
  },
  {
   "cell_type": "code",
   "execution_count": 7,
   "metadata": {
    "_uuid": "59ecb2faafed022b16c91590939620ae684e868f"
   },
   "outputs": [
    {
     "name": "stdout",
     "output_type": "stream",
     "text": [
      "<class 'pandas.core.frame.DataFrame'>\n",
      "RangeIndex: 32561 entries, 0 to 32560\n",
      "Data columns (total 15 columns):\n",
      " #   Column          Non-Null Count  Dtype \n",
      "---  ------          --------------  ----- \n",
      " 0   age             32561 non-null  int64 \n",
      " 1   workclass       32561 non-null  object\n",
      " 2   fnlwgt          32561 non-null  int64 \n",
      " 3   education       32561 non-null  object\n",
      " 4   education.num   32561 non-null  int64 \n",
      " 5   marital.status  32561 non-null  object\n",
      " 6   occupation      32561 non-null  object\n",
      " 7   relationship    32561 non-null  object\n",
      " 8   race            32561 non-null  object\n",
      " 9   sex             32561 non-null  object\n",
      " 10  capital.gain    32561 non-null  int64 \n",
      " 11  capital.loss    32561 non-null  int64 \n",
      " 12  hours.per.week  32561 non-null  int64 \n",
      " 13  native.country  32561 non-null  object\n",
      " 14  income          32561 non-null  object\n",
      "dtypes: int64(6), object(9)\n",
      "memory usage: 3.7+ MB\n"
     ]
    }
   ],
   "source": [
    "data.info()"
   ]
  },
  {
   "cell_type": "code",
   "execution_count": 8,
   "metadata": {
    "_uuid": "a62594b2ac936da01d921ac9ee380394803c7e60"
   },
   "outputs": [
    {
     "data": {
      "text/plain": [
       "age               0\n",
       "workclass         0\n",
       "fnlwgt            0\n",
       "education         0\n",
       "education.num     0\n",
       "marital.status    0\n",
       "occupation        0\n",
       "relationship      0\n",
       "race              0\n",
       "sex               0\n",
       "capital.gain      0\n",
       "capital.loss      0\n",
       "hours.per.week    0\n",
       "native.country    0\n",
       "income            0\n",
       "dtype: int64"
      ]
     },
     "execution_count": 8,
     "metadata": {},
     "output_type": "execute_result"
    }
   ],
   "source": [
    "data.isnull().sum()"
   ]
  },
  {
   "cell_type": "code",
   "execution_count": 9,
   "metadata": {
    "_uuid": "de0c8f4d41821ac89947f1ce11c69bf410424321"
   },
   "outputs": [
    {
     "data": {
      "text/plain": [
       "workclass         1836\n",
       "education            0\n",
       "marital.status       0\n",
       "occupation        1843\n",
       "relationship         0\n",
       "race                 0\n",
       "sex                  0\n",
       "native.country     583\n",
       "income               0\n",
       "dtype: int64"
      ]
     },
     "execution_count": 9,
     "metadata": {},
     "output_type": "execute_result"
    }
   ],
   "source": [
    "# select all categorical variables\n",
    "df_categorical = data.select_dtypes(include=['object'])\n",
    "\n",
    "# checking whether any other columns contain a \"?\"\n",
    "df_categorical.apply(lambda x: x==\"?\", axis=0).sum()"
   ]
  },
  {
   "cell_type": "code",
   "execution_count": 10,
   "metadata": {
    "_uuid": "801d05ea01a07ece2c0bbe4b7f95160e9fbefbc3",
    "scrolled": true
   },
   "outputs": [
    {
     "data": {
      "text/plain": [
       "age               1836\n",
       "workclass         1836\n",
       "fnlwgt            1836\n",
       "education         1836\n",
       "education.num     1836\n",
       "marital.status    1836\n",
       "occupation        1836\n",
       "relationship      1836\n",
       "race              1836\n",
       "sex               1836\n",
       "capital.gain      1836\n",
       "capital.loss      1836\n",
       "hours.per.week    1836\n",
       "native.country    1836\n",
       "income            1836\n",
       "dtype: int64"
      ]
     },
     "execution_count": 10,
     "metadata": {},
     "output_type": "execute_result"
    }
   ],
   "source": [
    "data[data['workclass'] == '?' ].count()"
   ]
  },
  {
   "cell_type": "code",
   "execution_count": 11,
   "metadata": {
    "_uuid": "4a990ca11cc0710e10062a60b16781df33255cb1"
   },
   "outputs": [
    {
     "data": {
      "text/plain": [
       "age               1843\n",
       "workclass         1843\n",
       "fnlwgt            1843\n",
       "education         1843\n",
       "education.num     1843\n",
       "marital.status    1843\n",
       "occupation        1843\n",
       "relationship      1843\n",
       "race              1843\n",
       "sex               1843\n",
       "capital.gain      1843\n",
       "capital.loss      1843\n",
       "hours.per.week    1843\n",
       "native.country    1843\n",
       "income            1843\n",
       "dtype: int64"
      ]
     },
     "execution_count": 11,
     "metadata": {},
     "output_type": "execute_result"
    }
   ],
   "source": [
    "data[data['occupation'] == '?' ].count()"
   ]
  },
  {
   "cell_type": "code",
   "execution_count": 12,
   "metadata": {
    "_uuid": "3141dc44e649ffc20f10424b190ac9c8d6f88b7e"
   },
   "outputs": [
    {
     "data": {
      "text/plain": [
       "age               583\n",
       "workclass         583\n",
       "fnlwgt            583\n",
       "education         583\n",
       "education.num     583\n",
       "marital.status    583\n",
       "occupation        583\n",
       "relationship      583\n",
       "race              583\n",
       "sex               583\n",
       "capital.gain      583\n",
       "capital.loss      583\n",
       "hours.per.week    583\n",
       "native.country    583\n",
       "income            583\n",
       "dtype: int64"
      ]
     },
     "execution_count": 12,
     "metadata": {},
     "output_type": "execute_result"
    }
   ],
   "source": [
    "data[data['native.country'] == '?' ].count()"
   ]
  },
  {
   "cell_type": "code",
   "execution_count": 13,
   "metadata": {
    "_uuid": "a6ed9e88a758c17b6aa9e2dd8d472fd09f9dac26"
   },
   "outputs": [
    {
     "data": {
      "text/plain": [
       "0.0005638647461687295"
      ]
     },
     "execution_count": 13,
     "metadata": {},
     "output_type": "execute_result"
    }
   ],
   "source": [
    "(1836/32561)/100"
   ]
  },
  {
   "cell_type": "markdown",
   "metadata": {
    "_uuid": "f51a8e4950eb27e6854f8cf9c6d83f212a1d83b2"
   },
   "source": [
    " ### Missing Value % is very insignificant  so we will drop those values"
   ]
  },
  {
   "cell_type": "code",
   "execution_count": 14,
   "metadata": {
    "_uuid": "539c79a31706c11cc52d70f431401e52d896dc68"
   },
   "outputs": [
    {
     "data": {
      "text/plain": [
       "age               32561\n",
       "workclass         32561\n",
       "fnlwgt            32561\n",
       "education         32561\n",
       "education.num     32561\n",
       "marital.status    32561\n",
       "occupation        32561\n",
       "relationship      32561\n",
       "race              32561\n",
       "sex               32561\n",
       "capital.gain      32561\n",
       "capital.loss      32561\n",
       "hours.per.week    32561\n",
       "native.country    32561\n",
       "income            32561\n",
       "dtype: int64"
      ]
     },
     "execution_count": 14,
     "metadata": {},
     "output_type": "execute_result"
    }
   ],
   "source": [
    "data.count()"
   ]
  },
  {
   "cell_type": "code",
   "execution_count": 15,
   "metadata": {
    "_uuid": "3429d7ada61be066e494c6acd19cffdbfa035e29"
   },
   "outputs": [],
   "source": [
    "data = data[data[\"workclass\"] != \"?\" ]"
   ]
  },
  {
   "cell_type": "code",
   "execution_count": 16,
   "metadata": {
    "_uuid": "1349aa0ed7099010bfd8e96ffbdb858d2277ea9f"
   },
   "outputs": [],
   "source": [
    "data = data[data[\"occupation\"] != \"?\" ]"
   ]
  },
  {
   "cell_type": "code",
   "execution_count": 17,
   "metadata": {
    "_uuid": "8a0b26a32092dd60ce36765d66eb2f5ed68f76c9"
   },
   "outputs": [],
   "source": [
    "data = data[data[\"native.country\"] != \"?\" ]"
   ]
  },
  {
   "cell_type": "code",
   "execution_count": 18,
   "metadata": {
    "_uuid": "4d67c1faab29f37a890aaa4b8d69a6d1524fe964"
   },
   "outputs": [
    {
     "data": {
      "text/plain": [
       "age               30162\n",
       "workclass         30162\n",
       "fnlwgt            30162\n",
       "education         30162\n",
       "education.num     30162\n",
       "marital.status    30162\n",
       "occupation        30162\n",
       "relationship      30162\n",
       "race              30162\n",
       "sex               30162\n",
       "capital.gain      30162\n",
       "capital.loss      30162\n",
       "hours.per.week    30162\n",
       "native.country    30162\n",
       "income            30162\n",
       "dtype: int64"
      ]
     },
     "execution_count": 18,
     "metadata": {},
     "output_type": "execute_result"
    }
   ],
   "source": [
    "data.count()"
   ]
  },
  {
   "cell_type": "code",
   "execution_count": 19,
   "metadata": {
    "_uuid": "377e5040e9ec46e875f1648a388dda15a282b15e"
   },
   "outputs": [
    {
     "data": {
      "text/html": [
       "<div>\n",
       "<style scoped>\n",
       "    .dataframe tbody tr th:only-of-type {\n",
       "        vertical-align: middle;\n",
       "    }\n",
       "\n",
       "    .dataframe tbody tr th {\n",
       "        vertical-align: top;\n",
       "    }\n",
       "\n",
       "    .dataframe thead th {\n",
       "        text-align: right;\n",
       "    }\n",
       "</style>\n",
       "<table border=\"1\" class=\"dataframe\">\n",
       "  <thead>\n",
       "    <tr style=\"text-align: right;\">\n",
       "      <th></th>\n",
       "      <th>age</th>\n",
       "      <th>workclass</th>\n",
       "      <th>fnlwgt</th>\n",
       "      <th>education</th>\n",
       "      <th>education.num</th>\n",
       "      <th>marital.status</th>\n",
       "      <th>occupation</th>\n",
       "      <th>relationship</th>\n",
       "      <th>race</th>\n",
       "      <th>sex</th>\n",
       "      <th>capital.gain</th>\n",
       "      <th>capital.loss</th>\n",
       "      <th>hours.per.week</th>\n",
       "      <th>native.country</th>\n",
       "      <th>income</th>\n",
       "    </tr>\n",
       "  </thead>\n",
       "  <tbody>\n",
       "    <tr>\n",
       "      <th>1</th>\n",
       "      <td>82</td>\n",
       "      <td>Private</td>\n",
       "      <td>132870</td>\n",
       "      <td>HS-grad</td>\n",
       "      <td>9</td>\n",
       "      <td>Widowed</td>\n",
       "      <td>Exec-managerial</td>\n",
       "      <td>Not-in-family</td>\n",
       "      <td>White</td>\n",
       "      <td>Female</td>\n",
       "      <td>0</td>\n",
       "      <td>4356</td>\n",
       "      <td>18</td>\n",
       "      <td>United-States</td>\n",
       "      <td>&lt;=50K</td>\n",
       "    </tr>\n",
       "    <tr>\n",
       "      <th>3</th>\n",
       "      <td>54</td>\n",
       "      <td>Private</td>\n",
       "      <td>140359</td>\n",
       "      <td>7th-8th</td>\n",
       "      <td>4</td>\n",
       "      <td>Divorced</td>\n",
       "      <td>Machine-op-inspct</td>\n",
       "      <td>Unmarried</td>\n",
       "      <td>White</td>\n",
       "      <td>Female</td>\n",
       "      <td>0</td>\n",
       "      <td>3900</td>\n",
       "      <td>40</td>\n",
       "      <td>United-States</td>\n",
       "      <td>&lt;=50K</td>\n",
       "    </tr>\n",
       "    <tr>\n",
       "      <th>4</th>\n",
       "      <td>41</td>\n",
       "      <td>Private</td>\n",
       "      <td>264663</td>\n",
       "      <td>Some-college</td>\n",
       "      <td>10</td>\n",
       "      <td>Separated</td>\n",
       "      <td>Prof-specialty</td>\n",
       "      <td>Own-child</td>\n",
       "      <td>White</td>\n",
       "      <td>Female</td>\n",
       "      <td>0</td>\n",
       "      <td>3900</td>\n",
       "      <td>40</td>\n",
       "      <td>United-States</td>\n",
       "      <td>&lt;=50K</td>\n",
       "    </tr>\n",
       "    <tr>\n",
       "      <th>5</th>\n",
       "      <td>34</td>\n",
       "      <td>Private</td>\n",
       "      <td>216864</td>\n",
       "      <td>HS-grad</td>\n",
       "      <td>9</td>\n",
       "      <td>Divorced</td>\n",
       "      <td>Other-service</td>\n",
       "      <td>Unmarried</td>\n",
       "      <td>White</td>\n",
       "      <td>Female</td>\n",
       "      <td>0</td>\n",
       "      <td>3770</td>\n",
       "      <td>45</td>\n",
       "      <td>United-States</td>\n",
       "      <td>&lt;=50K</td>\n",
       "    </tr>\n",
       "    <tr>\n",
       "      <th>6</th>\n",
       "      <td>38</td>\n",
       "      <td>Private</td>\n",
       "      <td>150601</td>\n",
       "      <td>10th</td>\n",
       "      <td>6</td>\n",
       "      <td>Separated</td>\n",
       "      <td>Adm-clerical</td>\n",
       "      <td>Unmarried</td>\n",
       "      <td>White</td>\n",
       "      <td>Male</td>\n",
       "      <td>0</td>\n",
       "      <td>3770</td>\n",
       "      <td>40</td>\n",
       "      <td>United-States</td>\n",
       "      <td>&lt;=50K</td>\n",
       "    </tr>\n",
       "  </tbody>\n",
       "</table>\n",
       "</div>"
      ],
      "text/plain": [
       "   age workclass  fnlwgt     education  education.num marital.status  \\\n",
       "1   82   Private  132870       HS-grad              9        Widowed   \n",
       "3   54   Private  140359       7th-8th              4       Divorced   \n",
       "4   41   Private  264663  Some-college             10      Separated   \n",
       "5   34   Private  216864       HS-grad              9       Divorced   \n",
       "6   38   Private  150601          10th              6      Separated   \n",
       "\n",
       "          occupation   relationship   race     sex  capital.gain  \\\n",
       "1    Exec-managerial  Not-in-family  White  Female             0   \n",
       "3  Machine-op-inspct      Unmarried  White  Female             0   \n",
       "4     Prof-specialty      Own-child  White  Female             0   \n",
       "5      Other-service      Unmarried  White  Female             0   \n",
       "6       Adm-clerical      Unmarried  White    Male             0   \n",
       "\n",
       "   capital.loss  hours.per.week native.country income  \n",
       "1          4356              18  United-States  <=50K  \n",
       "3          3900              40  United-States  <=50K  \n",
       "4          3900              40  United-States  <=50K  \n",
       "5          3770              45  United-States  <=50K  \n",
       "6          3770              40  United-States  <=50K  "
      ]
     },
     "execution_count": 19,
     "metadata": {},
     "output_type": "execute_result"
    }
   ],
   "source": [
    "data.head()"
   ]
  },
  {
   "cell_type": "code",
   "execution_count": 20,
   "metadata": {
    "_uuid": "8973966358496bc69ded01402417e797e9a8abec"
   },
   "outputs": [
    {
     "data": {
      "text/plain": [
       "array(['<=50K', '>50K'], dtype=object)"
      ]
     },
     "execution_count": 20,
     "metadata": {},
     "output_type": "execute_result"
    }
   ],
   "source": [
    "data[\"income\"].unique()"
   ]
  },
  {
   "cell_type": "code",
   "execution_count": 21,
   "metadata": {
    "_uuid": "71ead6f769e3b2412645c5446f9607c176beca4e"
   },
   "outputs": [
    {
     "data": {
      "text/html": [
       "<div>\n",
       "<style scoped>\n",
       "    .dataframe tbody tr th:only-of-type {\n",
       "        vertical-align: middle;\n",
       "    }\n",
       "\n",
       "    .dataframe tbody tr th {\n",
       "        vertical-align: top;\n",
       "    }\n",
       "\n",
       "    .dataframe thead th {\n",
       "        text-align: right;\n",
       "    }\n",
       "</style>\n",
       "<table border=\"1\" class=\"dataframe\">\n",
       "  <thead>\n",
       "    <tr style=\"text-align: right;\">\n",
       "      <th></th>\n",
       "      <th>age</th>\n",
       "      <th>workclass</th>\n",
       "      <th>fnlwgt</th>\n",
       "      <th>education</th>\n",
       "      <th>education.num</th>\n",
       "      <th>marital.status</th>\n",
       "      <th>occupation</th>\n",
       "      <th>relationship</th>\n",
       "      <th>race</th>\n",
       "      <th>sex</th>\n",
       "      <th>capital.gain</th>\n",
       "      <th>capital.loss</th>\n",
       "      <th>hours.per.week</th>\n",
       "      <th>native.country</th>\n",
       "      <th>income</th>\n",
       "    </tr>\n",
       "  </thead>\n",
       "  <tbody>\n",
       "    <tr>\n",
       "      <th>1</th>\n",
       "      <td>82</td>\n",
       "      <td>Private</td>\n",
       "      <td>132870</td>\n",
       "      <td>HS-grad</td>\n",
       "      <td>9</td>\n",
       "      <td>Widowed</td>\n",
       "      <td>Exec-managerial</td>\n",
       "      <td>Not-in-family</td>\n",
       "      <td>White</td>\n",
       "      <td>Female</td>\n",
       "      <td>0</td>\n",
       "      <td>4356</td>\n",
       "      <td>18</td>\n",
       "      <td>United-States</td>\n",
       "      <td>0</td>\n",
       "    </tr>\n",
       "    <tr>\n",
       "      <th>3</th>\n",
       "      <td>54</td>\n",
       "      <td>Private</td>\n",
       "      <td>140359</td>\n",
       "      <td>7th-8th</td>\n",
       "      <td>4</td>\n",
       "      <td>Divorced</td>\n",
       "      <td>Machine-op-inspct</td>\n",
       "      <td>Unmarried</td>\n",
       "      <td>White</td>\n",
       "      <td>Female</td>\n",
       "      <td>0</td>\n",
       "      <td>3900</td>\n",
       "      <td>40</td>\n",
       "      <td>United-States</td>\n",
       "      <td>0</td>\n",
       "    </tr>\n",
       "    <tr>\n",
       "      <th>4</th>\n",
       "      <td>41</td>\n",
       "      <td>Private</td>\n",
       "      <td>264663</td>\n",
       "      <td>Some-college</td>\n",
       "      <td>10</td>\n",
       "      <td>Separated</td>\n",
       "      <td>Prof-specialty</td>\n",
       "      <td>Own-child</td>\n",
       "      <td>White</td>\n",
       "      <td>Female</td>\n",
       "      <td>0</td>\n",
       "      <td>3900</td>\n",
       "      <td>40</td>\n",
       "      <td>United-States</td>\n",
       "      <td>0</td>\n",
       "    </tr>\n",
       "    <tr>\n",
       "      <th>5</th>\n",
       "      <td>34</td>\n",
       "      <td>Private</td>\n",
       "      <td>216864</td>\n",
       "      <td>HS-grad</td>\n",
       "      <td>9</td>\n",
       "      <td>Divorced</td>\n",
       "      <td>Other-service</td>\n",
       "      <td>Unmarried</td>\n",
       "      <td>White</td>\n",
       "      <td>Female</td>\n",
       "      <td>0</td>\n",
       "      <td>3770</td>\n",
       "      <td>45</td>\n",
       "      <td>United-States</td>\n",
       "      <td>0</td>\n",
       "    </tr>\n",
       "    <tr>\n",
       "      <th>6</th>\n",
       "      <td>38</td>\n",
       "      <td>Private</td>\n",
       "      <td>150601</td>\n",
       "      <td>10th</td>\n",
       "      <td>6</td>\n",
       "      <td>Separated</td>\n",
       "      <td>Adm-clerical</td>\n",
       "      <td>Unmarried</td>\n",
       "      <td>White</td>\n",
       "      <td>Male</td>\n",
       "      <td>0</td>\n",
       "      <td>3770</td>\n",
       "      <td>40</td>\n",
       "      <td>United-States</td>\n",
       "      <td>0</td>\n",
       "    </tr>\n",
       "  </tbody>\n",
       "</table>\n",
       "</div>"
      ],
      "text/plain": [
       "   age workclass  fnlwgt     education  education.num marital.status  \\\n",
       "1   82   Private  132870       HS-grad              9        Widowed   \n",
       "3   54   Private  140359       7th-8th              4       Divorced   \n",
       "4   41   Private  264663  Some-college             10      Separated   \n",
       "5   34   Private  216864       HS-grad              9       Divorced   \n",
       "6   38   Private  150601          10th              6      Separated   \n",
       "\n",
       "          occupation   relationship   race     sex  capital.gain  \\\n",
       "1    Exec-managerial  Not-in-family  White  Female             0   \n",
       "3  Machine-op-inspct      Unmarried  White  Female             0   \n",
       "4     Prof-specialty      Own-child  White  Female             0   \n",
       "5      Other-service      Unmarried  White  Female             0   \n",
       "6       Adm-clerical      Unmarried  White    Male             0   \n",
       "\n",
       "   capital.loss  hours.per.week native.country  income  \n",
       "1          4356              18  United-States       0  \n",
       "3          3900              40  United-States       0  \n",
       "4          3900              40  United-States       0  \n",
       "5          3770              45  United-States       0  \n",
       "6          3770              40  United-States       0  "
      ]
     },
     "execution_count": 21,
     "metadata": {},
     "output_type": "execute_result"
    }
   ],
   "source": [
    "data[\"income\"] = data[\"income\"].map({'<=50K' : 0, '>50K': 1})\n",
    "data.head()"
   ]
  },
  {
   "cell_type": "code",
   "execution_count": 22,
   "metadata": {
    "_uuid": "8c3cd40f8cd1c4b1d6663f9029c645e2246718b3"
   },
   "outputs": [
    {
     "data": {
      "text/plain": [
       "array([0, 1], dtype=int64)"
      ]
     },
     "execution_count": 22,
     "metadata": {},
     "output_type": "execute_result"
    }
   ],
   "source": [
    "data[\"income\"].unique()"
   ]
  },
  {
   "cell_type": "markdown",
   "metadata": {
    "_uuid": "16c4b44756d205c485138c9e988e00099b56567c"
   },
   "source": [
    "## Label Encoding"
   ]
  },
  {
   "cell_type": "code",
   "execution_count": 23,
   "metadata": {
    "_uuid": "8930628f17b35db2be301b97ac1e34acaa2688f5"
   },
   "outputs": [],
   "source": [
    "from sklearn import preprocessing\n",
    "le = preprocessing.LabelEncoder()\n",
    "\n",
    "catogorical_data = data.select_dtypes(include =['object'])"
   ]
  },
  {
   "cell_type": "code",
   "execution_count": 24,
   "metadata": {
    "_uuid": "ea714a2426659b7a2bdb7ee382f7a2843a8390c0"
   },
   "outputs": [
    {
     "data": {
      "text/html": [
       "<div>\n",
       "<style scoped>\n",
       "    .dataframe tbody tr th:only-of-type {\n",
       "        vertical-align: middle;\n",
       "    }\n",
       "\n",
       "    .dataframe tbody tr th {\n",
       "        vertical-align: top;\n",
       "    }\n",
       "\n",
       "    .dataframe thead th {\n",
       "        text-align: right;\n",
       "    }\n",
       "</style>\n",
       "<table border=\"1\" class=\"dataframe\">\n",
       "  <thead>\n",
       "    <tr style=\"text-align: right;\">\n",
       "      <th></th>\n",
       "      <th>workclass</th>\n",
       "      <th>education</th>\n",
       "      <th>marital.status</th>\n",
       "      <th>occupation</th>\n",
       "      <th>relationship</th>\n",
       "      <th>race</th>\n",
       "      <th>sex</th>\n",
       "      <th>native.country</th>\n",
       "    </tr>\n",
       "  </thead>\n",
       "  <tbody>\n",
       "    <tr>\n",
       "      <th>1</th>\n",
       "      <td>Private</td>\n",
       "      <td>HS-grad</td>\n",
       "      <td>Widowed</td>\n",
       "      <td>Exec-managerial</td>\n",
       "      <td>Not-in-family</td>\n",
       "      <td>White</td>\n",
       "      <td>Female</td>\n",
       "      <td>United-States</td>\n",
       "    </tr>\n",
       "    <tr>\n",
       "      <th>3</th>\n",
       "      <td>Private</td>\n",
       "      <td>7th-8th</td>\n",
       "      <td>Divorced</td>\n",
       "      <td>Machine-op-inspct</td>\n",
       "      <td>Unmarried</td>\n",
       "      <td>White</td>\n",
       "      <td>Female</td>\n",
       "      <td>United-States</td>\n",
       "    </tr>\n",
       "    <tr>\n",
       "      <th>4</th>\n",
       "      <td>Private</td>\n",
       "      <td>Some-college</td>\n",
       "      <td>Separated</td>\n",
       "      <td>Prof-specialty</td>\n",
       "      <td>Own-child</td>\n",
       "      <td>White</td>\n",
       "      <td>Female</td>\n",
       "      <td>United-States</td>\n",
       "    </tr>\n",
       "    <tr>\n",
       "      <th>5</th>\n",
       "      <td>Private</td>\n",
       "      <td>HS-grad</td>\n",
       "      <td>Divorced</td>\n",
       "      <td>Other-service</td>\n",
       "      <td>Unmarried</td>\n",
       "      <td>White</td>\n",
       "      <td>Female</td>\n",
       "      <td>United-States</td>\n",
       "    </tr>\n",
       "    <tr>\n",
       "      <th>6</th>\n",
       "      <td>Private</td>\n",
       "      <td>10th</td>\n",
       "      <td>Separated</td>\n",
       "      <td>Adm-clerical</td>\n",
       "      <td>Unmarried</td>\n",
       "      <td>White</td>\n",
       "      <td>Male</td>\n",
       "      <td>United-States</td>\n",
       "    </tr>\n",
       "  </tbody>\n",
       "</table>\n",
       "</div>"
      ],
      "text/plain": [
       "  workclass     education marital.status         occupation   relationship  \\\n",
       "1   Private       HS-grad        Widowed    Exec-managerial  Not-in-family   \n",
       "3   Private       7th-8th       Divorced  Machine-op-inspct      Unmarried   \n",
       "4   Private  Some-college      Separated     Prof-specialty      Own-child   \n",
       "5   Private       HS-grad       Divorced      Other-service      Unmarried   \n",
       "6   Private          10th      Separated       Adm-clerical      Unmarried   \n",
       "\n",
       "    race     sex native.country  \n",
       "1  White  Female  United-States  \n",
       "3  White  Female  United-States  \n",
       "4  White  Female  United-States  \n",
       "5  White  Female  United-States  \n",
       "6  White    Male  United-States  "
      ]
     },
     "execution_count": 24,
     "metadata": {},
     "output_type": "execute_result"
    }
   ],
   "source": [
    "catogorical_data.head()"
   ]
  },
  {
   "cell_type": "code",
   "execution_count": 25,
   "metadata": {
    "_uuid": "abc005c18d8499593ecbf512f18aabf5ffd8cfe8"
   },
   "outputs": [],
   "source": [
    "catogorical_data = catogorical_data.apply(le.fit_transform)"
   ]
  },
  {
   "cell_type": "code",
   "execution_count": 26,
   "metadata": {
    "_uuid": "1e64759b9f1ad053ed3c27db18e262a289e41565"
   },
   "outputs": [
    {
     "data": {
      "text/html": [
       "<div>\n",
       "<style scoped>\n",
       "    .dataframe tbody tr th:only-of-type {\n",
       "        vertical-align: middle;\n",
       "    }\n",
       "\n",
       "    .dataframe tbody tr th {\n",
       "        vertical-align: top;\n",
       "    }\n",
       "\n",
       "    .dataframe thead th {\n",
       "        text-align: right;\n",
       "    }\n",
       "</style>\n",
       "<table border=\"1\" class=\"dataframe\">\n",
       "  <thead>\n",
       "    <tr style=\"text-align: right;\">\n",
       "      <th></th>\n",
       "      <th>workclass</th>\n",
       "      <th>education</th>\n",
       "      <th>marital.status</th>\n",
       "      <th>occupation</th>\n",
       "      <th>relationship</th>\n",
       "      <th>race</th>\n",
       "      <th>sex</th>\n",
       "      <th>native.country</th>\n",
       "    </tr>\n",
       "  </thead>\n",
       "  <tbody>\n",
       "    <tr>\n",
       "      <th>1</th>\n",
       "      <td>2</td>\n",
       "      <td>11</td>\n",
       "      <td>6</td>\n",
       "      <td>3</td>\n",
       "      <td>1</td>\n",
       "      <td>4</td>\n",
       "      <td>0</td>\n",
       "      <td>38</td>\n",
       "    </tr>\n",
       "    <tr>\n",
       "      <th>3</th>\n",
       "      <td>2</td>\n",
       "      <td>5</td>\n",
       "      <td>0</td>\n",
       "      <td>6</td>\n",
       "      <td>4</td>\n",
       "      <td>4</td>\n",
       "      <td>0</td>\n",
       "      <td>38</td>\n",
       "    </tr>\n",
       "    <tr>\n",
       "      <th>4</th>\n",
       "      <td>2</td>\n",
       "      <td>15</td>\n",
       "      <td>5</td>\n",
       "      <td>9</td>\n",
       "      <td>3</td>\n",
       "      <td>4</td>\n",
       "      <td>0</td>\n",
       "      <td>38</td>\n",
       "    </tr>\n",
       "    <tr>\n",
       "      <th>5</th>\n",
       "      <td>2</td>\n",
       "      <td>11</td>\n",
       "      <td>0</td>\n",
       "      <td>7</td>\n",
       "      <td>4</td>\n",
       "      <td>4</td>\n",
       "      <td>0</td>\n",
       "      <td>38</td>\n",
       "    </tr>\n",
       "    <tr>\n",
       "      <th>6</th>\n",
       "      <td>2</td>\n",
       "      <td>0</td>\n",
       "      <td>5</td>\n",
       "      <td>0</td>\n",
       "      <td>4</td>\n",
       "      <td>4</td>\n",
       "      <td>1</td>\n",
       "      <td>38</td>\n",
       "    </tr>\n",
       "  </tbody>\n",
       "</table>\n",
       "</div>"
      ],
      "text/plain": [
       "   workclass  education  marital.status  occupation  relationship  race  sex  \\\n",
       "1          2         11               6           3             1     4    0   \n",
       "3          2          5               0           6             4     4    0   \n",
       "4          2         15               5           9             3     4    0   \n",
       "5          2         11               0           7             4     4    0   \n",
       "6          2          0               5           0             4     4    1   \n",
       "\n",
       "   native.country  \n",
       "1              38  \n",
       "3              38  \n",
       "4              38  \n",
       "5              38  \n",
       "6              38  "
      ]
     },
     "execution_count": 26,
     "metadata": {},
     "output_type": "execute_result"
    }
   ],
   "source": [
    "catogorical_data.head()"
   ]
  },
  {
   "cell_type": "code",
   "execution_count": 27,
   "metadata": {
    "_uuid": "7a051dcff726e3ad29d40cf202ae20631aef2041"
   },
   "outputs": [
    {
     "data": {
      "text/html": [
       "<div>\n",
       "<style scoped>\n",
       "    .dataframe tbody tr th:only-of-type {\n",
       "        vertical-align: middle;\n",
       "    }\n",
       "\n",
       "    .dataframe tbody tr th {\n",
       "        vertical-align: top;\n",
       "    }\n",
       "\n",
       "    .dataframe thead th {\n",
       "        text-align: right;\n",
       "    }\n",
       "</style>\n",
       "<table border=\"1\" class=\"dataframe\">\n",
       "  <thead>\n",
       "    <tr style=\"text-align: right;\">\n",
       "      <th></th>\n",
       "      <th>age</th>\n",
       "      <th>fnlwgt</th>\n",
       "      <th>education.num</th>\n",
       "      <th>capital.gain</th>\n",
       "      <th>capital.loss</th>\n",
       "      <th>hours.per.week</th>\n",
       "      <th>income</th>\n",
       "      <th>workclass</th>\n",
       "      <th>education</th>\n",
       "      <th>marital.status</th>\n",
       "      <th>occupation</th>\n",
       "      <th>relationship</th>\n",
       "      <th>race</th>\n",
       "      <th>sex</th>\n",
       "      <th>native.country</th>\n",
       "    </tr>\n",
       "  </thead>\n",
       "  <tbody>\n",
       "    <tr>\n",
       "      <th>1</th>\n",
       "      <td>82</td>\n",
       "      <td>132870</td>\n",
       "      <td>9</td>\n",
       "      <td>0</td>\n",
       "      <td>4356</td>\n",
       "      <td>18</td>\n",
       "      <td>0</td>\n",
       "      <td>2</td>\n",
       "      <td>11</td>\n",
       "      <td>6</td>\n",
       "      <td>3</td>\n",
       "      <td>1</td>\n",
       "      <td>4</td>\n",
       "      <td>0</td>\n",
       "      <td>38</td>\n",
       "    </tr>\n",
       "    <tr>\n",
       "      <th>3</th>\n",
       "      <td>54</td>\n",
       "      <td>140359</td>\n",
       "      <td>4</td>\n",
       "      <td>0</td>\n",
       "      <td>3900</td>\n",
       "      <td>40</td>\n",
       "      <td>0</td>\n",
       "      <td>2</td>\n",
       "      <td>5</td>\n",
       "      <td>0</td>\n",
       "      <td>6</td>\n",
       "      <td>4</td>\n",
       "      <td>4</td>\n",
       "      <td>0</td>\n",
       "      <td>38</td>\n",
       "    </tr>\n",
       "    <tr>\n",
       "      <th>4</th>\n",
       "      <td>41</td>\n",
       "      <td>264663</td>\n",
       "      <td>10</td>\n",
       "      <td>0</td>\n",
       "      <td>3900</td>\n",
       "      <td>40</td>\n",
       "      <td>0</td>\n",
       "      <td>2</td>\n",
       "      <td>15</td>\n",
       "      <td>5</td>\n",
       "      <td>9</td>\n",
       "      <td>3</td>\n",
       "      <td>4</td>\n",
       "      <td>0</td>\n",
       "      <td>38</td>\n",
       "    </tr>\n",
       "    <tr>\n",
       "      <th>5</th>\n",
       "      <td>34</td>\n",
       "      <td>216864</td>\n",
       "      <td>9</td>\n",
       "      <td>0</td>\n",
       "      <td>3770</td>\n",
       "      <td>45</td>\n",
       "      <td>0</td>\n",
       "      <td>2</td>\n",
       "      <td>11</td>\n",
       "      <td>0</td>\n",
       "      <td>7</td>\n",
       "      <td>4</td>\n",
       "      <td>4</td>\n",
       "      <td>0</td>\n",
       "      <td>38</td>\n",
       "    </tr>\n",
       "    <tr>\n",
       "      <th>6</th>\n",
       "      <td>38</td>\n",
       "      <td>150601</td>\n",
       "      <td>6</td>\n",
       "      <td>0</td>\n",
       "      <td>3770</td>\n",
       "      <td>40</td>\n",
       "      <td>0</td>\n",
       "      <td>2</td>\n",
       "      <td>0</td>\n",
       "      <td>5</td>\n",
       "      <td>0</td>\n",
       "      <td>4</td>\n",
       "      <td>4</td>\n",
       "      <td>1</td>\n",
       "      <td>38</td>\n",
       "    </tr>\n",
       "  </tbody>\n",
       "</table>\n",
       "</div>"
      ],
      "text/plain": [
       "   age  fnlwgt  education.num  capital.gain  capital.loss  hours.per.week  \\\n",
       "1   82  132870              9             0          4356              18   \n",
       "3   54  140359              4             0          3900              40   \n",
       "4   41  264663             10             0          3900              40   \n",
       "5   34  216864              9             0          3770              45   \n",
       "6   38  150601              6             0          3770              40   \n",
       "\n",
       "   income  workclass  education  marital.status  occupation  relationship  \\\n",
       "1       0          2         11               6           3             1   \n",
       "3       0          2          5               0           6             4   \n",
       "4       0          2         15               5           9             3   \n",
       "5       0          2         11               0           7             4   \n",
       "6       0          2          0               5           0             4   \n",
       "\n",
       "   race  sex  native.country  \n",
       "1     4    0              38  \n",
       "3     4    0              38  \n",
       "4     4    0              38  \n",
       "5     4    0              38  \n",
       "6     4    1              38  "
      ]
     },
     "execution_count": 27,
     "metadata": {},
     "output_type": "execute_result"
    }
   ],
   "source": [
    "data = data.drop(catogorical_data.columns, axis=1)\n",
    "data = pd.concat([data, catogorical_data], axis=1)\n",
    "data.head()"
   ]
  },
  {
   "cell_type": "code",
   "execution_count": 28,
   "metadata": {
    "_uuid": "0c387fad9e66ca47ac40bde78712ca65bf17f5c1"
   },
   "outputs": [
    {
     "name": "stdout",
     "output_type": "stream",
     "text": [
      "<class 'pandas.core.frame.DataFrame'>\n",
      "Int64Index: 30162 entries, 1 to 32560\n",
      "Data columns (total 15 columns):\n",
      " #   Column          Non-Null Count  Dtype\n",
      "---  ------          --------------  -----\n",
      " 0   age             30162 non-null  int64\n",
      " 1   fnlwgt          30162 non-null  int64\n",
      " 2   education.num   30162 non-null  int64\n",
      " 3   capital.gain    30162 non-null  int64\n",
      " 4   capital.loss    30162 non-null  int64\n",
      " 5   hours.per.week  30162 non-null  int64\n",
      " 6   income          30162 non-null  int64\n",
      " 7   workclass       30162 non-null  int32\n",
      " 8   education       30162 non-null  int32\n",
      " 9   marital.status  30162 non-null  int32\n",
      " 10  occupation      30162 non-null  int32\n",
      " 11  relationship    30162 non-null  int32\n",
      " 12  race            30162 non-null  int32\n",
      " 13  sex             30162 non-null  int32\n",
      " 14  native.country  30162 non-null  int32\n",
      "dtypes: int32(8), int64(7)\n",
      "memory usage: 2.8 MB\n"
     ]
    }
   ],
   "source": [
    "data.info()"
   ]
  },
  {
   "cell_type": "code",
   "execution_count": 43,
   "metadata": {
    "_uuid": "3c8381e875346a9cf9e71fc42a2d94763a73af22"
   },
   "outputs": [],
   "source": [
    "data['income'] = data['income'].astype('int')\n"
   ]
  },
  {
   "cell_type": "markdown",
   "metadata": {
    "_uuid": "bedbd44b9962d3c451c83333728b1785e435f046"
   },
   "source": [
    "## Decision Tree Model with Default parameters"
   ]
  },
  {
   "cell_type": "code",
   "execution_count": 29,
   "metadata": {
    "_uuid": "b1e9480c1274e73df82082ce231507a88bbf0dc6"
   },
   "outputs": [],
   "source": [
    "x=data.drop('income',axis=1)\n",
    "y=data['income']\n",
    "#Train & Test split\n",
    "x_train,x_test,y_train,y_test = train_test_split(x,y,test_size=0.30,random_state= 476)"
   ]
  },
  {
   "cell_type": "code",
   "execution_count": 30,
   "metadata": {
    "_uuid": "67fbd003d313f5b35823f3bdcca716c1a363579d"
   },
   "outputs": [
    {
     "data": {
      "text/plain": [
       "DecisionTreeClassifier(class_weight=None, criterion='gini', max_depth=None,\n",
       "            max_features=None, max_leaf_nodes=None,\n",
       "            min_impurity_decrease=0.0, min_impurity_split=None,\n",
       "            min_samples_leaf=1, min_samples_split=2,\n",
       "            min_weight_fraction_leaf=0.0, presort=False, random_state=None,\n",
       "            splitter='best')"
      ]
     },
     "execution_count": 30,
     "metadata": {},
     "output_type": "execute_result"
    }
   ],
   "source": [
    "tree = DecisionTreeClassifier()\n",
    "model_tree = tree.fit(x_train,y_train)\n",
    "model_tree"
   ]
  },
  {
   "cell_type": "code",
   "execution_count": 31,
   "metadata": {
    "_uuid": "d3b0b401d7de935334802a6b40810e106fc9d0b0"
   },
   "outputs": [],
   "source": [
    "from sklearn.metrics import classification_report, confusion_matrix, accuracy_score"
   ]
  },
  {
   "cell_type": "code",
   "execution_count": 32,
   "metadata": {
    "_uuid": "4831f4b65f4bf77df61c12d363e2069b747093e7"
   },
   "outputs": [
    {
     "name": "stdout",
     "output_type": "stream",
     "text": [
      "The Accuracy of Desicion Tree is  0.8125759752458835\n"
     ]
    }
   ],
   "source": [
    "model_tree = tree.fit(x_train,y_train)\n",
    "pred_tree = tree.predict(x_test)\n",
    "a1 = accuracy_score(y_test,pred_tree)\n",
    "print(\"The Accuracy of Desicion Tree is \", a1)"
   ]
  },
  {
   "cell_type": "code",
   "execution_count": 33,
   "metadata": {
    "_uuid": "2dca916976e4efa778d2caeb647bc79c303b6942"
   },
   "outputs": [
    {
     "data": {
      "text/plain": [
       "array([[5931,  857],\n",
       "       [ 839, 1422]])"
      ]
     },
     "execution_count": 33,
     "metadata": {},
     "output_type": "execute_result"
    }
   ],
   "source": [
    "confusion_matrix(y_test,pred_tree)"
   ]
  },
  {
   "cell_type": "code",
   "execution_count": 34,
   "metadata": {
    "_uuid": "cb90ece9466f7d446f9921aab016c29d1783e6c0"
   },
   "outputs": [
    {
     "name": "stdout",
     "output_type": "stream",
     "text": [
      "              precision    recall  f1-score   support\n",
      "\n",
      "           0       0.88      0.87      0.87      6788\n",
      "           1       0.62      0.63      0.63      2261\n",
      "\n",
      "   micro avg       0.81      0.81      0.81      9049\n",
      "   macro avg       0.75      0.75      0.75      9049\n",
      "weighted avg       0.81      0.81      0.81      9049\n",
      "\n"
     ]
    }
   ],
   "source": [
    "print(classification_report(y_test, pred_tree))"
   ]
  },
  {
   "cell_type": "markdown",
   "metadata": {
    "_uuid": "ba5f89d14d398ea7ea5a4f469525466c98a76cd3"
   },
   "source": [
    "## Random Forest Model with Default parameters"
   ]
  },
  {
   "cell_type": "code",
   "execution_count": 35,
   "metadata": {
    "_uuid": "598c1a77316eb07c6995f05f33208f33bf7cfce6"
   },
   "outputs": [
    {
     "name": "stdout",
     "output_type": "stream",
     "text": [
      "The Accuracy of Random Forest is  0.8450657531218919\n"
     ]
    }
   ],
   "source": [
    "rf = RandomForestClassifier()\n",
    "model_rf = rf.fit(x_train,y_train)\n",
    "pred_rf = rf.predict(x_test)\n",
    "a2 = accuracy_score(y_test, pred_rf)\n",
    "print(\"The Accuracy of Random Forest is \", a2)"
   ]
  },
  {
   "cell_type": "markdown",
   "metadata": {
    "_uuid": "50a9d2bb57b7b8803b1bd7c2068192cdda0831e9"
   },
   "source": [
    "## Logistic Regression & KNN model"
   ]
  },
  {
   "cell_type": "code",
   "execution_count": 36,
   "metadata": {
    "_uuid": "c03bf10d54caac55aa511ab556570c4c0f8469c2"
   },
   "outputs": [
    {
     "name": "stdout",
     "output_type": "stream",
     "text": [
      "The Accuracy of logistic regression is  0.7911371422256603\n"
     ]
    }
   ],
   "source": [
    "from sklearn.linear_model import LogisticRegression\n",
    "lg = LogisticRegression()\n",
    "\n",
    "model_lg = lg.fit(x_train,y_train)\n",
    "pred_lg = lg.predict(x_test)\n",
    "a3 = accuracy_score(y_test, pred_lg)\n",
    "print(\"The Accuracy of logistic regression is \", a3)"
   ]
  },
  {
   "cell_type": "code",
   "execution_count": 37,
   "metadata": {
    "_uuid": "2afe0c31705ea99b3df342921835417e91a969db"
   },
   "outputs": [],
   "source": [
    "from sklearn.neighbors import KNeighborsClassifier \n",
    "knn = KNeighborsClassifier()"
   ]
  },
  {
   "cell_type": "code",
   "execution_count": 38,
   "metadata": {
    "_uuid": "9b20127aa6de02eaaa5428d43e1f65f3a0b43b41"
   },
   "outputs": [
    {
     "name": "stdout",
     "output_type": "stream",
     "text": [
      "The Accuracy of KNN is  0.7596419493866725\n"
     ]
    }
   ],
   "source": [
    "model_knn =knn.fit(x_train,y_train) \n",
    "pred_knn = knn.predict(x_test)\n",
    "a4 = accuracy_score(y_test, pred_knn)\n",
    "print(\"The Accuracy of KNN is \", a4)"
   ]
  },
  {
   "cell_type": "markdown",
   "metadata": {
    "_uuid": "320ee22f6847ce98263b9309c12ed6b17ad1242d"
   },
   "source": [
    "# Build optimized Random forest model with tuned hyperparameters from grid search model  "
   ]
  },
  {
   "cell_type": "code",
   "execution_count": 39,
   "metadata": {
    "_uuid": "c13ef3808997e6aa926a7a2ab95720f57dddc568"
   },
   "outputs": [],
   "source": [
    "rf_param = {\n",
    "    \"n_estimators\": [25,50,100],\n",
    "    \"criterion\" : [\"gini\"],\n",
    "    \"max_depth\" : [3,4,5,6],\n",
    "    \"max_features\" : [\"auto\",\"sqrt\",\"log2\"],\n",
    "    \"random_state\" : [123]\n",
    "}"
   ]
  },
  {
   "cell_type": "code",
   "execution_count": 40,
   "metadata": {
    "_uuid": "d4a63e0033c293440051ee7f9f812bf48f3e32af"
   },
   "outputs": [
    {
     "data": {
      "text/plain": [
       "GridSearchCV(cv=5, error_score='raise-deprecating',\n",
       "       estimator=RandomForestClassifier(bootstrap=True, class_weight=None, criterion='gini',\n",
       "            max_depth=None, max_features='auto', max_leaf_nodes=None,\n",
       "            min_impurity_decrease=0.0, min_impurity_split=None,\n",
       "            min_samples_leaf=1, min_samples_split=2,\n",
       "            min_weight_fraction_leaf=0.0, n_estimators=10, n_jobs=None,\n",
       "            oob_score=False, random_state=None, verbose=0,\n",
       "            warm_start=False),\n",
       "       fit_params=None, iid='warn', n_jobs=None,\n",
       "       param_grid={'n_estimators': [25, 50, 100], 'criterion': ['gini'], 'max_depth': [3, 4, 5, 6], 'max_features': ['auto', 'sqrt', 'log2'], 'random_state': [123]},\n",
       "       pre_dispatch='2*n_jobs', refit=True, return_train_score='warn',\n",
       "       scoring=None, verbose=0)"
      ]
     },
     "execution_count": 40,
     "metadata": {},
     "output_type": "execute_result"
    }
   ],
   "source": [
    "GridSearchCV(rf, rf_param, cv = 5)"
   ]
  },
  {
   "cell_type": "code",
   "execution_count": 41,
   "metadata": {
    "_uuid": "10d2067afaf7fb2c7cb4e6740db81238ad57b404",
    "scrolled": true
   },
   "outputs": [],
   "source": [
    "grid =GridSearchCV(rf, rf_param, cv = 5)"
   ]
  },
  {
   "cell_type": "code",
   "execution_count": 42,
   "metadata": {
    "_uuid": "920bc6d90d4aa68336554be02cfc3789d989bebd",
    "scrolled": true
   },
   "outputs": [
    {
     "data": {
      "text/plain": [
       "{'criterion': 'gini',\n",
       " 'max_depth': 6,\n",
       " 'max_features': 'auto',\n",
       " 'n_estimators': 100,\n",
       " 'random_state': 123}"
      ]
     },
     "execution_count": 42,
     "metadata": {},
     "output_type": "execute_result"
    }
   ],
   "source": [
    "grid.fit(x_train,y_train).best_params_"
   ]
  },
  {
   "cell_type": "code",
   "execution_count": 43,
   "metadata": {
    "_uuid": "e7fa9c64023d976755eac8cb079da333af82c1f0"
   },
   "outputs": [
    {
     "data": {
      "text/plain": [
       "0.8462813570560282"
      ]
     },
     "execution_count": 43,
     "metadata": {},
     "output_type": "execute_result"
    }
   ],
   "source": [
    "rf1 = RandomForestClassifier(criterion = 'gini',\n",
    "    max_depth = 6,\n",
    "    max_features = 'auto',\n",
    "    n_estimators = 100,\n",
    "    random_state = 123)\n",
    "model_rf1 = rf1.fit(x_train,y_train)\n",
    "pred_rf1 = rf1.predict(x_test)\n",
    "accuracy_score(y_test, pred_rf1)"
   ]
  },
  {
   "cell_type": "markdown",
   "metadata": {
    "_uuid": "9f6d64d06ab439aaa9bb16ad7bd1c6e62abcafec"
   },
   "source": [
    "# K FOLD Cross Validation"
   ]
  },
  {
   "cell_type": "code",
   "execution_count": 44,
   "metadata": {
    "_uuid": "2bcb8778b3908d94a6ecb9ece61c07b93abdaba6"
   },
   "outputs": [
    {
     "data": {
      "text/plain": [
       "array([0.79024621, 0.81628788, 0.79498106, 0.79403409, 0.79971591,\n",
       "       0.80776515, 0.80672667, 0.79952607, 0.79905213, 0.80805687])"
      ]
     },
     "execution_count": 44,
     "metadata": {},
     "output_type": "execute_result"
    }
   ],
   "source": [
    "cross_val_score(tree,x_train,y_train,scoring= \"accuracy\", cv=10)"
   ]
  },
  {
   "cell_type": "code",
   "execution_count": 45,
   "metadata": {
    "_uuid": "68c89d69d71c63fbdf9cad5fd34ff8359c66662b"
   },
   "outputs": [
    {
     "data": {
      "text/plain": [
       "0.7639760250539661"
      ]
     },
     "execution_count": 45,
     "metadata": {},
     "output_type": "execute_result"
    }
   ],
   "source": [
    "cross_val_score(tree,x,y,scoring= \"accuracy\", cv=5).mean()"
   ]
  },
  {
   "cell_type": "code",
   "execution_count": 46,
   "metadata": {
    "_uuid": "46fedd8d9cc8583275a1f49f146046728d371b79"
   },
   "outputs": [
    {
     "data": {
      "text/plain": [
       "0.8446926761990472"
      ]
     },
     "execution_count": 46,
     "metadata": {},
     "output_type": "execute_result"
    }
   ],
   "source": [
    "cross_val_score(rf,x_train,y_train,scoring= \"accuracy\", cv=5).mean()"
   ]
  },
  {
   "cell_type": "code",
   "execution_count": 47,
   "metadata": {
    "_uuid": "bd39a51661a03879fae3bd0d3316aab80a7c2060"
   },
   "outputs": [
    {
     "data": {
      "text/plain": [
       "0.7881883610197511"
      ]
     },
     "execution_count": 47,
     "metadata": {},
     "output_type": "execute_result"
    }
   ],
   "source": [
    "cross_val_score(lg,x_train,y_train,scoring= \"accuracy\", cv=5).mean()"
   ]
  },
  {
   "cell_type": "code",
   "execution_count": 48,
   "metadata": {
    "_uuid": "7ee7c85805c50b27bf9f2291f46316fb63c95fe5"
   },
   "outputs": [
    {
     "data": {
      "text/plain": [
       "0.7642686401045582"
      ]
     },
     "execution_count": 48,
     "metadata": {},
     "output_type": "execute_result"
    }
   ],
   "source": [
    "cross_val_score(knn,x_train,y_train,scoring= \"accuracy\", cv=5).mean()"
   ]
  },
  {
   "cell_type": "markdown",
   "metadata": {
    "_uuid": "515e5f5c9181d45e6f820b518acc5c768fa5c26b"
   },
   "source": [
    "# Voting Classifier model"
   ]
  },
  {
   "cell_type": "code",
   "execution_count": 49,
   "metadata": {
    "_uuid": "4f48f73c49a84ab59bb66791099166b2c4fffbca"
   },
   "outputs": [],
   "source": [
    "from sklearn.ensemble import VotingClassifier"
   ]
  },
  {
   "cell_type": "code",
   "execution_count": 50,
   "metadata": {
    "_uuid": "e2a36648b67aa8ccd0a45822b8aa6774b2e4ade3"
   },
   "outputs": [],
   "source": [
    "model_vote = VotingClassifier(estimators=[('logistic Regression', lg), ('random forrest', rf), ('knn neighbors', knn),(' decision tree', tree)], voting='soft')\n",
    "model_vote = model_vote.fit(x_train, y_train)"
   ]
  },
  {
   "cell_type": "code",
   "execution_count": 51,
   "metadata": {
    "_uuid": "4bdb63d97ba527a4549cd03883b8654802563b13"
   },
   "outputs": [],
   "source": [
    "vote_pred = model_vote.predict(x_test)"
   ]
  },
  {
   "cell_type": "code",
   "execution_count": 52,
   "metadata": {
    "_uuid": "fcfde9016c98a7d7d8130109c074b954786fd470"
   },
   "outputs": [
    {
     "name": "stdout",
     "output_type": "stream",
     "text": [
      "The Accuracy of voting classifier is  0.8371090728257266\n"
     ]
    }
   ],
   "source": [
    "a5 =  accuracy_score(y_test, vote_pred)\n",
    "print(\"The Accuracy of voting classifier is \", a5)"
   ]
  },
  {
   "cell_type": "code",
   "execution_count": 53,
   "metadata": {
    "_uuid": "dedbd45285846adc5ee7dcc35b148cb3585b6e91"
   },
   "outputs": [
    {
     "name": "stdout",
     "output_type": "stream",
     "text": [
      "              precision    recall  f1-score   support\n",
      "\n",
      "           0       0.85      0.95      0.90      6788\n",
      "           1       0.77      0.50      0.60      2261\n",
      "\n",
      "   micro avg       0.84      0.84      0.84      9049\n",
      "   macro avg       0.81      0.72      0.75      9049\n",
      "weighted avg       0.83      0.84      0.82      9049\n",
      "\n"
     ]
    }
   ],
   "source": [
    "print(classification_report(y_test, vote_pred))"
   ]
  },
  {
   "cell_type": "markdown",
   "metadata": {
    "_uuid": "56a0b7324ac27e7c747f89896ba8c50421f46b2e"
   },
   "source": [
    "# Ensemble Technique Bagging \n",
    "\n",
    "## Increase Accuracy by Applying Ensemble technique BAGGING to our tuned random forest model"
   ]
  },
  {
   "cell_type": "code",
   "execution_count": 54,
   "metadata": {
    "_uuid": "15f7a81d545e25f18e5b6e9d38ef53c1601b4439"
   },
   "outputs": [],
   "source": [
    "from sklearn.ensemble import BaggingClassifier"
   ]
  },
  {
   "cell_type": "code",
   "execution_count": 55,
   "metadata": {
    "_uuid": "d29bd47d5b793d5bb732954126d65ca31ce14edb"
   },
   "outputs": [],
   "source": [
    "bagg = BaggingClassifier(base_estimator=rf1,n_estimators=15)"
   ]
  },
  {
   "cell_type": "code",
   "execution_count": 56,
   "metadata": {
    "_uuid": "a7e594bd915aa5ac7ddb06d02045f7ce841b239c"
   },
   "outputs": [],
   "source": [
    "model_bagg =bagg.fit(x_train,y_train) \n",
    "pred_bagg = bagg.predict(x_test)"
   ]
  },
  {
   "cell_type": "code",
   "execution_count": 57,
   "metadata": {
    "_uuid": "3c87107b23c77823ce9b7591133614ff6274a766"
   },
   "outputs": [
    {
     "name": "stdout",
     "output_type": "stream",
     "text": [
      "The Accuracy of BAAGING is  0.8460603381589126\n"
     ]
    }
   ],
   "source": [
    "a6 = accuracy_score(y_test, pred_bagg)\n",
    "print(\"The Accuracy of BAAGING is \", a6)"
   ]
  },
  {
   "cell_type": "code",
   "execution_count": 58,
   "metadata": {
    "_uuid": "d40d7bffcf4b44472558546c3c4ca93f56d4a96b"
   },
   "outputs": [
    {
     "data": {
      "text/plain": [
       "array([[6496,  292],\n",
       "       [1101, 1160]])"
      ]
     },
     "execution_count": 58,
     "metadata": {},
     "output_type": "execute_result"
    }
   ],
   "source": [
    "confusion_matrix(y_test,pred_bagg)"
   ]
  },
  {
   "cell_type": "code",
   "execution_count": 59,
   "metadata": {
    "_uuid": "e9aa7155dd006dbd1638cb0603af0600978de85b"
   },
   "outputs": [
    {
     "name": "stdout",
     "output_type": "stream",
     "text": [
      "              precision    recall  f1-score   support\n",
      "\n",
      "           0       0.86      0.96      0.90      6788\n",
      "           1       0.80      0.51      0.62      2261\n",
      "\n",
      "   micro avg       0.85      0.85      0.85      9049\n",
      "   macro avg       0.83      0.74      0.76      9049\n",
      "weighted avg       0.84      0.85      0.83      9049\n",
      "\n"
     ]
    }
   ],
   "source": [
    "print(classification_report(y_test, pred_bagg))"
   ]
  },
  {
   "cell_type": "markdown",
   "metadata": {
    "_uuid": "d7a3462fa71e660beba1c3bcddfa8773cba1f33d"
   },
   "source": [
    "#  Ensemble Technique  ADA Boost \n",
    "\n",
    "## Increase Accuracy by Applying Ensemble technique ADABOOST to our tuned random forest model"
   ]
  },
  {
   "cell_type": "code",
   "execution_count": 60,
   "metadata": {
    "_uuid": "223838ecb17eea19d3e9cfef7e334546b60367ff"
   },
   "outputs": [],
   "source": [
    "from sklearn.ensemble import AdaBoostClassifier"
   ]
  },
  {
   "cell_type": "code",
   "execution_count": 61,
   "metadata": {
    "_uuid": "024d359c921869720b89f046d985b1afc1b7ad09"
   },
   "outputs": [],
   "source": [
    "Adaboost = AdaBoostClassifier(base_estimator=rf1, n_estimators=15)"
   ]
  },
  {
   "cell_type": "code",
   "execution_count": 62,
   "metadata": {
    "_uuid": "41e5ecc6cd4ba3e6f9a29a3f48afd4868742503f"
   },
   "outputs": [],
   "source": [
    "model_boost =Adaboost.fit(x_train,y_train) \n",
    "pred_boost = Adaboost.predict(x_test)"
   ]
  },
  {
   "cell_type": "code",
   "execution_count": 63,
   "metadata": {
    "_uuid": "116a125308885136f39085cdc52631ce2147f0f4"
   },
   "outputs": [
    {
     "name": "stdout",
     "output_type": "stream",
     "text": [
      "The Accuracy of BOOSTING is  0.8660625483478838\n"
     ]
    }
   ],
   "source": [
    "a7 = accuracy_score(y_test, pred_boost)\n",
    "print(\"The Accuracy of BOOSTING is \", a7)"
   ]
  },
  {
   "cell_type": "code",
   "execution_count": 64,
   "metadata": {
    "_uuid": "c0d15b3e40194d2d3e9589dc4d30bbae36c8c032"
   },
   "outputs": [
    {
     "data": {
      "text/plain": [
       "array([[6393,  395],\n",
       "       [ 817, 1444]])"
      ]
     },
     "execution_count": 64,
     "metadata": {},
     "output_type": "execute_result"
    }
   ],
   "source": [
    "confusion_matrix(y_test,pred_boost)"
   ]
  },
  {
   "cell_type": "code",
   "execution_count": 65,
   "metadata": {
    "_uuid": "5bea2ff5ef457d44de88fc5f2478251c5647f23e"
   },
   "outputs": [
    {
     "name": "stdout",
     "output_type": "stream",
     "text": [
      "              precision    recall  f1-score   support\n",
      "\n",
      "           0       0.89      0.94      0.91      6788\n",
      "           1       0.79      0.64      0.70      2261\n",
      "\n",
      "   micro avg       0.87      0.87      0.87      9049\n",
      "   macro avg       0.84      0.79      0.81      9049\n",
      "weighted avg       0.86      0.87      0.86      9049\n",
      "\n"
     ]
    }
   ],
   "source": [
    "print(classification_report(y_test, pred_boost))"
   ]
  },
  {
   "cell_type": "markdown",
   "metadata": {
    "_uuid": "5050773eabbd35cac48c952e1c597707cb8de8af"
   },
   "source": [
    "## Fairness"
   ]
  },
  {
   "cell_type": "code",
   "execution_count": 10,
   "metadata": {},
   "outputs": [],
   "source": [
    "# This DataFrame is created to stock differents models and fair metrics that we produce in this notebook\n",
    "algo_metrics = pd.DataFrame(columns=['model', 'fair_metrics', 'prediction', 'probs'])\n",
    "\n",
    "def add_to_df_algo_metrics(algo_metrics, model, fair_metrics, preds, probs, name):\n",
    "    return algo_metrics.append(pd.DataFrame(data=[[model, fair_metrics, preds, probs]], columns=['model', 'fair_metrics', 'prediction', 'probs'], index=[name]))"
   ]
  },
  {
   "cell_type": "code",
   "execution_count": 11,
   "metadata": {},
   "outputs": [],
   "source": [
    "def fair_metrics(dataset, pred, pred_is_dataset=False):\n",
    "    if pred_is_dataset:\n",
    "        dataset_pred = pred\n",
    "    else:\n",
    "        dataset_pred = dataset.copy()\n",
    "        dataset_pred.labels = pred\n",
    "    \n",
    "    cols = ['statistical_parity_difference', 'equal_opportunity_difference', 'average_abs_odds_difference',  'disparate_impact', 'theil_index']\n",
    "    obj_fairness = [[0,0,0,1,0]]\n",
    "    \n",
    "    fair_metrics = pd.DataFrame(data=obj_fairness, index=['objective'], columns=cols)\n",
    "    \n",
    "    for attr in dataset_pred.protected_attribute_names:\n",
    "        idx = dataset_pred.protected_attribute_names.index(attr)\n",
    "        privileged_groups =  [{attr:dataset_pred.privileged_protected_attributes[idx][0]}] \n",
    "        unprivileged_groups = [{attr:dataset_pred.unprivileged_protected_attributes[idx][0]}] \n",
    "        \n",
    "        classified_metric = ClassificationMetric(dataset, \n",
    "                                                     dataset_pred,\n",
    "                                                     unprivileged_groups=unprivileged_groups,\n",
    "                                                     privileged_groups=privileged_groups)\n",
    "\n",
    "        metric_pred = BinaryLabelDatasetMetric(dataset_pred,\n",
    "                                                     unprivileged_groups=unprivileged_groups,\n",
    "                                                     privileged_groups=privileged_groups)\n",
    "\n",
    "        acc = classified_metric.accuracy()\n",
    "\n",
    "        row = pd.DataFrame([[metric_pred.mean_difference(),\n",
    "                                classified_metric.equal_opportunity_difference(),\n",
    "                                classified_metric.average_abs_odds_difference(),\n",
    "                                metric_pred.disparate_impact(),\n",
    "                                classified_metric.theil_index()]],\n",
    "                           columns  = cols,\n",
    "                           index = [attr]\n",
    "                          )\n",
    "        fair_metrics = fair_metrics.append(row)    \n",
    "    \n",
    "    fair_metrics = fair_metrics.replace([-np.inf, np.inf], 2)\n",
    "        \n",
    "    return fair_metrics\n",
    "\n",
    "def plot_fair_metrics(fair_metrics):\n",
    "    fig, ax = plt.subplots(figsize=(20,4), ncols=5, nrows=1)\n",
    "\n",
    "    plt.subplots_adjust(\n",
    "        left    =  0.125, \n",
    "        bottom  =  0.1, \n",
    "        right   =  0.9, \n",
    "        top     =  0.9, \n",
    "        wspace  =  .5, \n",
    "        hspace  =  1.1\n",
    "    )\n",
    "\n",
    "    y_title_margin = 1.2\n",
    "\n",
    "    plt.suptitle(\"Fairness metrics\", y = 1.09, fontsize=20)\n",
    "    sns.set(style=\"dark\")\n",
    "\n",
    "    cols = fair_metrics.columns.values\n",
    "    obj = fair_metrics.loc['objective']\n",
    "    size_rect = [0.2,0.2,0.2,0.4,0.25]\n",
    "    rect = [-0.1,-0.1,-0.1,0.8,0]\n",
    "    bottom = [-1,-1,-1,0,0]\n",
    "    top = [1,1,1,2,1]\n",
    "    bound = [[-0.1,0.1],[-0.1,0.1],[-0.1,0.1],[0.8,1.2],[0,0.25]]\n",
    "\n",
    "    display(Markdown(\"### Check bias metrics :\"))\n",
    "    display(Markdown(\"A model can be considered bias if just one of these five metrics show that this model is biased.\"))\n",
    "    for attr in fair_metrics.index[1:len(fair_metrics)].values:\n",
    "        display(Markdown(\"#### For the %s attribute :\"%attr))\n",
    "        check = [bound[i][0] < fair_metrics.loc[attr][i] < bound[i][1] for i in range(0,5)]\n",
    "        display(Markdown(\"With default thresholds, bias against unprivileged group detected in **%d** out of 5 metrics\"%(5 - sum(check))))\n",
    "\n",
    "    for i in range(0,5):\n",
    "        plt.subplot(1, 5, i+1)\n",
    "        ax = sns.barplot(x=fair_metrics.index[1:len(fair_metrics)], y=fair_metrics.iloc[1:len(fair_metrics)][cols[i]])\n",
    "        \n",
    "        for j in range(0,len(fair_metrics)-1):\n",
    "            a, val = ax.patches[j], fair_metrics.iloc[j+1][cols[i]]\n",
    "            marg = -0.2 if val < 0 else 0.1\n",
    "            ax.text(a.get_x()+a.get_width()/5, a.get_y()+a.get_height()+marg, round(val, 3), fontsize=15,color='black')\n",
    "\n",
    "        plt.ylim(bottom[i], top[i])\n",
    "        plt.setp(ax.patches, linewidth=0)\n",
    "        ax.add_patch(patches.Rectangle((-5,rect[i]), 10, size_rect[i], alpha=0.3, facecolor=\"green\", linewidth=1, linestyle='solid'))\n",
    "        plt.axhline(obj[i], color='black', alpha=0.3)\n",
    "        plt.title(cols[i])\n",
    "        ax.set_ylabel('')    \n",
    "        ax.set_xlabel('')"
   ]
  },
  {
   "cell_type": "code",
   "execution_count": 12,
   "metadata": {},
   "outputs": [],
   "source": [
    "def get_fair_metrics_and_plot(data, model, plot=False, model_aif=False):\n",
    "    pred = model.predict(data).labels if model_aif else model.predict(data.features)\n",
    "    # fair_metrics function available in the metrics.py file\n",
    "    fair = fair_metrics(data, pred)\n",
    "\n",
    "    if plot:\n",
    "        # plot_fair_metrics function available in the visualisations.py file\n",
    "        # The visualisation of this function is inspired by the dashboard on the demo of IBM aif360 \n",
    "        plot_fair_metrics(fair)\n",
    "        display(fair)\n",
    "    \n",
    "    return fair"
   ]
  },
  {
   "cell_type": "code",
   "execution_count": 41,
   "metadata": {},
   "outputs": [
    {
     "data": {
      "text/html": [
       "<div>\n",
       "<style scoped>\n",
       "    .dataframe tbody tr th:only-of-type {\n",
       "        vertical-align: middle;\n",
       "    }\n",
       "\n",
       "    .dataframe tbody tr th {\n",
       "        vertical-align: top;\n",
       "    }\n",
       "\n",
       "    .dataframe thead th {\n",
       "        text-align: right;\n",
       "    }\n",
       "</style>\n",
       "<table border=\"1\" class=\"dataframe\">\n",
       "  <thead>\n",
       "    <tr style=\"text-align: right;\">\n",
       "      <th></th>\n",
       "      <th>age</th>\n",
       "      <th>fnlwgt</th>\n",
       "      <th>education.num</th>\n",
       "      <th>capital.gain</th>\n",
       "      <th>capital.loss</th>\n",
       "      <th>hours.per.week</th>\n",
       "      <th>income</th>\n",
       "      <th>workclass</th>\n",
       "      <th>education</th>\n",
       "      <th>marital.status</th>\n",
       "      <th>occupation</th>\n",
       "      <th>relationship</th>\n",
       "      <th>race</th>\n",
       "      <th>sex</th>\n",
       "      <th>native.country</th>\n",
       "    </tr>\n",
       "  </thead>\n",
       "  <tbody>\n",
       "    <tr>\n",
       "      <th>1</th>\n",
       "      <td>82</td>\n",
       "      <td>132870</td>\n",
       "      <td>9</td>\n",
       "      <td>0</td>\n",
       "      <td>4356</td>\n",
       "      <td>18</td>\n",
       "      <td>0</td>\n",
       "      <td>2</td>\n",
       "      <td>11</td>\n",
       "      <td>6</td>\n",
       "      <td>3</td>\n",
       "      <td>1</td>\n",
       "      <td>4</td>\n",
       "      <td>0</td>\n",
       "      <td>38</td>\n",
       "    </tr>\n",
       "    <tr>\n",
       "      <th>3</th>\n",
       "      <td>54</td>\n",
       "      <td>140359</td>\n",
       "      <td>4</td>\n",
       "      <td>0</td>\n",
       "      <td>3900</td>\n",
       "      <td>40</td>\n",
       "      <td>0</td>\n",
       "      <td>2</td>\n",
       "      <td>5</td>\n",
       "      <td>0</td>\n",
       "      <td>6</td>\n",
       "      <td>4</td>\n",
       "      <td>4</td>\n",
       "      <td>0</td>\n",
       "      <td>38</td>\n",
       "    </tr>\n",
       "    <tr>\n",
       "      <th>4</th>\n",
       "      <td>41</td>\n",
       "      <td>264663</td>\n",
       "      <td>10</td>\n",
       "      <td>0</td>\n",
       "      <td>3900</td>\n",
       "      <td>40</td>\n",
       "      <td>0</td>\n",
       "      <td>2</td>\n",
       "      <td>15</td>\n",
       "      <td>5</td>\n",
       "      <td>9</td>\n",
       "      <td>3</td>\n",
       "      <td>4</td>\n",
       "      <td>0</td>\n",
       "      <td>38</td>\n",
       "    </tr>\n",
       "    <tr>\n",
       "      <th>5</th>\n",
       "      <td>34</td>\n",
       "      <td>216864</td>\n",
       "      <td>9</td>\n",
       "      <td>0</td>\n",
       "      <td>3770</td>\n",
       "      <td>45</td>\n",
       "      <td>0</td>\n",
       "      <td>2</td>\n",
       "      <td>11</td>\n",
       "      <td>0</td>\n",
       "      <td>7</td>\n",
       "      <td>4</td>\n",
       "      <td>4</td>\n",
       "      <td>0</td>\n",
       "      <td>38</td>\n",
       "    </tr>\n",
       "    <tr>\n",
       "      <th>6</th>\n",
       "      <td>38</td>\n",
       "      <td>150601</td>\n",
       "      <td>6</td>\n",
       "      <td>0</td>\n",
       "      <td>3770</td>\n",
       "      <td>40</td>\n",
       "      <td>0</td>\n",
       "      <td>2</td>\n",
       "      <td>0</td>\n",
       "      <td>5</td>\n",
       "      <td>0</td>\n",
       "      <td>4</td>\n",
       "      <td>4</td>\n",
       "      <td>1</td>\n",
       "      <td>38</td>\n",
       "    </tr>\n",
       "    <tr>\n",
       "      <th>...</th>\n",
       "      <td>...</td>\n",
       "      <td>...</td>\n",
       "      <td>...</td>\n",
       "      <td>...</td>\n",
       "      <td>...</td>\n",
       "      <td>...</td>\n",
       "      <td>...</td>\n",
       "      <td>...</td>\n",
       "      <td>...</td>\n",
       "      <td>...</td>\n",
       "      <td>...</td>\n",
       "      <td>...</td>\n",
       "      <td>...</td>\n",
       "      <td>...</td>\n",
       "      <td>...</td>\n",
       "    </tr>\n",
       "    <tr>\n",
       "      <th>32556</th>\n",
       "      <td>22</td>\n",
       "      <td>310152</td>\n",
       "      <td>10</td>\n",
       "      <td>0</td>\n",
       "      <td>0</td>\n",
       "      <td>40</td>\n",
       "      <td>0</td>\n",
       "      <td>2</td>\n",
       "      <td>15</td>\n",
       "      <td>4</td>\n",
       "      <td>10</td>\n",
       "      <td>1</td>\n",
       "      <td>4</td>\n",
       "      <td>1</td>\n",
       "      <td>38</td>\n",
       "    </tr>\n",
       "    <tr>\n",
       "      <th>32557</th>\n",
       "      <td>27</td>\n",
       "      <td>257302</td>\n",
       "      <td>12</td>\n",
       "      <td>0</td>\n",
       "      <td>0</td>\n",
       "      <td>38</td>\n",
       "      <td>0</td>\n",
       "      <td>2</td>\n",
       "      <td>7</td>\n",
       "      <td>2</td>\n",
       "      <td>12</td>\n",
       "      <td>5</td>\n",
       "      <td>4</td>\n",
       "      <td>0</td>\n",
       "      <td>38</td>\n",
       "    </tr>\n",
       "    <tr>\n",
       "      <th>32558</th>\n",
       "      <td>40</td>\n",
       "      <td>154374</td>\n",
       "      <td>9</td>\n",
       "      <td>0</td>\n",
       "      <td>0</td>\n",
       "      <td>40</td>\n",
       "      <td>1</td>\n",
       "      <td>2</td>\n",
       "      <td>11</td>\n",
       "      <td>2</td>\n",
       "      <td>6</td>\n",
       "      <td>0</td>\n",
       "      <td>4</td>\n",
       "      <td>1</td>\n",
       "      <td>38</td>\n",
       "    </tr>\n",
       "    <tr>\n",
       "      <th>32559</th>\n",
       "      <td>58</td>\n",
       "      <td>151910</td>\n",
       "      <td>9</td>\n",
       "      <td>0</td>\n",
       "      <td>0</td>\n",
       "      <td>40</td>\n",
       "      <td>0</td>\n",
       "      <td>2</td>\n",
       "      <td>11</td>\n",
       "      <td>6</td>\n",
       "      <td>0</td>\n",
       "      <td>4</td>\n",
       "      <td>4</td>\n",
       "      <td>0</td>\n",
       "      <td>38</td>\n",
       "    </tr>\n",
       "    <tr>\n",
       "      <th>32560</th>\n",
       "      <td>22</td>\n",
       "      <td>201490</td>\n",
       "      <td>9</td>\n",
       "      <td>0</td>\n",
       "      <td>0</td>\n",
       "      <td>20</td>\n",
       "      <td>0</td>\n",
       "      <td>2</td>\n",
       "      <td>11</td>\n",
       "      <td>4</td>\n",
       "      <td>0</td>\n",
       "      <td>3</td>\n",
       "      <td>4</td>\n",
       "      <td>1</td>\n",
       "      <td>38</td>\n",
       "    </tr>\n",
       "  </tbody>\n",
       "</table>\n",
       "<p>30162 rows × 15 columns</p>\n",
       "</div>"
      ],
      "text/plain": [
       "       age  fnlwgt  education.num  capital.gain  capital.loss  hours.per.week  \\\n",
       "1       82  132870              9             0          4356              18   \n",
       "3       54  140359              4             0          3900              40   \n",
       "4       41  264663             10             0          3900              40   \n",
       "5       34  216864              9             0          3770              45   \n",
       "6       38  150601              6             0          3770              40   \n",
       "...    ...     ...            ...           ...           ...             ...   \n",
       "32556   22  310152             10             0             0              40   \n",
       "32557   27  257302             12             0             0              38   \n",
       "32558   40  154374              9             0             0              40   \n",
       "32559   58  151910              9             0             0              40   \n",
       "32560   22  201490              9             0             0              20   \n",
       "\n",
       "      income  workclass  education  marital.status  occupation  relationship  \\\n",
       "1          0          2         11               6           3             1   \n",
       "3          0          2          5               0           6             4   \n",
       "4          0          2         15               5           9             3   \n",
       "5          0          2         11               0           7             4   \n",
       "6          0          2          0               5           0             4   \n",
       "...      ...        ...        ...             ...         ...           ...   \n",
       "32556      0          2         15               4          10             1   \n",
       "32557      0          2          7               2          12             5   \n",
       "32558      1          2         11               2           6             0   \n",
       "32559      0          2         11               6           0             4   \n",
       "32560      0          2         11               4           0             3   \n",
       "\n",
       "       race  sex  native.country  \n",
       "1         4    0              38  \n",
       "3         4    0              38  \n",
       "4         4    0              38  \n",
       "5         4    0              38  \n",
       "6         4    1              38  \n",
       "...     ...  ...             ...  \n",
       "32556     4    1              38  \n",
       "32557     4    0              38  \n",
       "32558     4    1              38  \n",
       "32559     4    0              38  \n",
       "32560     4    1              38  \n",
       "\n",
       "[30162 rows x 15 columns]"
      ]
     },
     "execution_count": 41,
     "metadata": {},
     "output_type": "execute_result"
    }
   ],
   "source": [
    "data"
   ]
  },
  {
   "cell_type": "code",
   "execution_count": 44,
   "metadata": {},
   "outputs": [],
   "source": [
    "privileged_groups = [{'sex': 1}]\n",
    "unprivileged_groups = [{'sex': 0}]\n",
    "dataset_orig = StandardDataset(data,\n",
    "                                  label_name='income',\n",
    "                                  protected_attribute_names=['sex'],\n",
    "                                  favorable_classes=[1],\n",
    "                                  privileged_classes=[[1]])"
   ]
  },
  {
   "cell_type": "code",
   "execution_count": 45,
   "metadata": {},
   "outputs": [
    {
     "data": {
      "text/markdown": [
       "#### Original training dataset"
      ],
      "text/plain": [
       "<IPython.core.display.Markdown object>"
      ]
     },
     "metadata": {},
     "output_type": "display_data"
    },
    {
     "name": "stdout",
     "output_type": "stream",
     "text": [
      "Difference in mean outcomes between unprivileged and privileged groups = -0.200159\n"
     ]
    }
   ],
   "source": [
    "metric_orig_train = BinaryLabelDatasetMetric(dataset_orig, \n",
    "                                             unprivileged_groups=unprivileged_groups,\n",
    "                                             privileged_groups=privileged_groups)\n",
    "display(Markdown(\"#### Original training dataset\"))\n",
    "print(\"Difference in mean outcomes between unprivileged and privileged groups = %f\" % metric_orig_train.mean_difference())"
   ]
  },
  {
   "cell_type": "code",
   "execution_count": 13,
   "metadata": {},
   "outputs": [],
   "source": [
    "data_orig_train = pd.read_pickle('../../Results/VotingClassifier/4-prediction-ensemble-methods-multiple-ml-s-acc-86_Train.pkl')\n",
    "data_orig_test = pd.read_pickle('../../Results/VotingClassifier/4-prediction-ensemble-methods-multiple-ml-s-acc-86_Test.pkl')"
   ]
  },
  {
   "cell_type": "code",
   "execution_count": 95,
   "metadata": {},
   "outputs": [],
   "source": [
    "import ipynbname\n",
    "nb_fname = ipynbname.name()\n",
    "nb_path = ipynbname.path()\n",
    "\n",
    "from xgboost import XGBClassifier\n",
    "from sklearn.ensemble import AdaBoostClassifier\n",
    "from sklearn.ensemble import RandomForestClassifier\n",
    "from sklearn.linear_model import LogisticRegression\n",
    "from sklearn.ensemble import VotingClassifier\n",
    "from sklearn.neighbors import KNeighborsClassifier \n",
    "import pickle\n",
    "\n",
    "#data_orig_train, data_orig_test = dataset_orig.split([0.7], shuffle=True)\n",
    "X_train = data_orig_train.features\n",
    "y_train = data_orig_train.labels.ravel()\n",
    "\n",
    "X_test = data_orig_test.features\n",
    "y_test = data_orig_test.labels.ravel()\n",
    "\n",
    "\n",
    "lg = LogisticRegression()\n",
    "rf = RandomForestClassifier(criterion = 'gini',\n",
    "    max_depth = 6,\n",
    "    max_features = 'auto',\n",
    "    n_estimators = 100,\n",
    "    random_state = 123)\n",
    "\n",
    "knn = KNeighborsClassifier()\n",
    "tree = DecisionTreeClassifier(random_state = 123)\n",
    "\n",
    "\n",
    "estimators = [('logistic Regression', lg), ('random forrest', rf), ('knn neighbors', knn),(' decision tree', tree)]\n",
    "\n",
    "\n",
    "votingC = VotingClassifier(estimators=[('logistic Regression', lg), ('random forrest', rf), ('knn neighbors', knn),(' decision tree', tree)], voting='soft')\n",
    "\n",
    "\n",
    "model = votingC.fit(X_train, y_train)\n",
    "\n",
    "\n",
    "mdl = model.fit(X_train, y_train)\n",
    "#with open('../../Results/VotingClassifier/' + nb_fname + '.pkl', 'wb') as f:\n",
    "#    pickle.dump(mdl, f)\n",
    "\n",
    "#with open('../../Results/VotingClassifier/' + nb_fname + '_Train' + '.pkl', 'wb') as f:\n",
    "#    pickle.dump(data_orig_train, f) \n",
    "    \n",
    "#with open('../../Results/VotingClassifier/' + nb_fname + '_Test' + '.pkl', 'wb') as f:\n",
    "#    pickle.dump(data_orig_test, f) "
   ]
  },
  {
   "cell_type": "code",
   "execution_count": 235,
   "metadata": {},
   "outputs": [],
   "source": [
    "from csv import writer\n",
    "from sklearn.metrics import accuracy_score, f1_score\n",
    "\n",
    "final_metrics = []\n",
    "accuracy = []\n",
    "list_estimators = []\n",
    "f1= []\n",
    "\n",
    "for name, ml_model in estimators:\n",
    "    \n",
    "    list_estimators.append((name,ml_model))\n",
    "    #print(list_estimators)\n",
    "    model = VotingClassifier(estimators=list_estimators, voting='hard', flatten_transform=False)\n",
    "    #list_estimators = []\n",
    "    mdl = model.fit(X_train, y_train)\n",
    "    yy = mdl.predict(X_test)\n",
    "    accuracy.append(accuracy_score(y_test, yy))\n",
    "    f1.append(f1_score(y_test, yy))\n",
    "    fair = get_fair_metrics_and_plot(data_orig_test, mdl)        \n",
    "    fair_list = fair.iloc[1].tolist()\n",
    "    #fair_list.insert(0, i)\n",
    "    final_metrics.append(fair_list)\n"
   ]
  },
  {
   "cell_type": "code",
   "execution_count": 234,
   "metadata": {},
   "outputs": [
    {
     "data": {
      "text/plain": [
       "array([0., 0., 0., 0., 0., 0., 0., 0., 0., 0., 0., 1., 0., 0., 0., 1., 0.,\n",
       "       0., 0., 0., 0., 0., 0., 0., 0., 0., 0., 0., 0., 0., 0., 0., 0., 1.,\n",
       "       0., 0., 0., 1., 0., 0., 0., 0., 0., 0., 1., 0., 0., 0., 0., 0., 0.,\n",
       "       0., 0., 0., 0., 0., 0., 0., 0., 0., 0., 0., 0., 0., 1., 0., 0., 0.,\n",
       "       1., 0., 0., 0., 0., 0., 0., 0., 0., 0., 0., 0., 0., 0., 0., 0., 0.,\n",
       "       0., 0., 0., 0., 0., 0., 0., 0., 0., 0., 0., 0., 0., 0., 0., 0., 0.,\n",
       "       0., 0., 0., 0., 0., 0., 0., 0., 0., 0., 0., 0., 0., 1., 1., 1., 0.,\n",
       "       0., 0., 0., 0., 0., 0., 0., 0., 0., 1., 0., 1., 0., 0., 1., 0., 0.,\n",
       "       0., 0., 0., 0., 0., 0., 0., 0., 1., 0., 0., 0., 1., 0., 0., 0., 0.,\n",
       "       0., 0., 0., 0., 0., 0., 0., 0., 0., 0., 0., 0., 0., 0., 0., 0., 0.,\n",
       "       0., 0., 0., 1., 0., 0., 0., 0., 0., 0., 0., 0., 0., 0., 0., 0., 0.,\n",
       "       0., 0., 0., 1., 0., 0., 0., 0., 0., 0., 0., 0., 0., 0., 1., 0., 0.,\n",
       "       1., 0., 1., 0., 0., 0., 0., 1., 0., 0., 0., 0., 0., 1., 1., 0., 0.,\n",
       "       1., 0., 0., 0., 0., 0., 0., 0., 0., 0., 0., 0., 0., 0., 1., 0., 1.,\n",
       "       0., 0., 0., 0., 0., 0., 0., 0., 0., 0., 0., 1., 0., 0., 0., 0., 0.,\n",
       "       0., 0., 0., 0., 1., 0., 0., 0., 0., 0., 0., 0., 0., 0., 0., 0., 0.,\n",
       "       0., 0., 1., 0., 0., 0., 1., 0., 0., 0., 0., 1., 0., 0., 1., 0., 0.,\n",
       "       0., 0., 0., 0., 0., 0., 0., 0., 0., 0., 0., 1., 0., 0., 0., 0., 0.,\n",
       "       0., 0., 0., 0., 1., 0., 0., 0., 0., 0., 0., 0., 0., 1., 1., 0., 0.,\n",
       "       0., 0., 1., 0., 1., 0., 0., 0., 1., 0., 0., 0., 0., 0., 0., 0., 0.,\n",
       "       0., 0., 0., 0., 0., 0., 1., 0., 0., 0., 0., 1., 0., 0., 0., 1., 0.,\n",
       "       0., 0., 0., 0., 0., 0., 0., 0., 0., 0., 0., 1., 0., 0., 1., 0., 1.,\n",
       "       0., 0., 0., 1., 0., 0., 0., 0., 1., 0., 0., 0., 0., 0., 1., 0., 0.,\n",
       "       0., 0., 1., 0., 0., 1., 0., 0., 0., 0., 0., 0., 0., 0., 0., 0., 0.,\n",
       "       0., 0., 0., 0., 0., 0., 1., 0., 0., 0., 0., 1., 0., 0., 0., 0., 0.,\n",
       "       0., 0., 0., 0., 0., 0., 1., 0., 0., 1., 0., 0., 0., 0., 0., 0., 0.,\n",
       "       0., 0., 0., 1., 0., 0., 0., 0., 0., 0., 0., 0., 0., 0., 1., 0., 0.,\n",
       "       1., 0., 0., 0., 1., 0., 0., 0., 0., 1., 0., 1., 0., 0., 1., 0., 0.,\n",
       "       0., 0., 1., 0., 0., 0., 0., 0., 1., 0., 1., 0., 0., 0., 0., 0., 1.,\n",
       "       0., 0., 0., 1., 0., 0., 0., 0., 0., 0., 1., 0., 0., 0., 0., 1., 0.,\n",
       "       0., 0., 0., 0., 0., 0., 0., 0., 0., 0., 0., 1., 0., 0., 0., 0., 0.,\n",
       "       0., 1., 0., 0., 0., 0., 0., 1., 0., 0., 0., 0., 0., 0., 0., 1., 0.,\n",
       "       0., 0., 0., 0., 0., 1., 1., 0., 0., 0., 0., 0., 0., 0., 0., 0., 0.,\n",
       "       1., 1., 1., 0., 1., 0., 0., 0., 0., 0., 1., 0., 0., 0., 0., 0., 0.,\n",
       "       0., 0., 0., 0., 0., 0., 1., 0., 0., 0., 0., 0., 0., 0., 0., 0., 0.,\n",
       "       0., 0., 0., 0., 0., 0., 0., 0., 0., 0., 0., 0., 0., 0., 0., 0., 0.,\n",
       "       0., 0., 0., 0., 0., 0., 0., 0., 0., 0., 0., 0., 0., 0., 0., 0., 0.,\n",
       "       0., 0., 0., 0., 0., 0., 0., 0., 0., 0., 0., 0., 0., 0., 0., 0., 0.,\n",
       "       0., 0., 0., 0., 0., 0., 0., 0., 0., 0., 0., 0., 0., 0., 0., 0., 0.,\n",
       "       1., 0., 0., 0., 0., 0., 0., 1., 0., 0., 0., 0., 0., 0., 1., 0., 0.,\n",
       "       0., 0., 1., 0., 1., 0., 0., 0., 0., 0., 0., 0., 0., 0., 0., 0., 0.,\n",
       "       0., 0., 0., 0., 0., 0., 0., 0., 0., 1., 0., 0., 0., 0., 0., 0., 0.,\n",
       "       1., 0., 0., 0., 0., 1., 1., 0., 0., 0., 0., 0., 0., 0., 0., 0., 1.,\n",
       "       0., 0., 0., 1., 0., 0., 1., 0., 0., 0., 1., 0., 0., 0., 0., 0., 0.,\n",
       "       1., 0., 0., 0., 0., 0., 0., 0., 0., 0., 0., 0., 1., 0., 0., 0., 0.,\n",
       "       0., 0., 0., 0., 0., 1., 0., 0., 0., 0., 0., 0., 0., 0., 1., 0., 0.,\n",
       "       0., 0., 0., 0., 0., 0., 0., 1., 0., 0., 0., 0., 1., 0., 1., 0., 1.,\n",
       "       0., 0., 0., 0., 1., 0., 0., 0., 0., 0., 1., 0., 0., 0., 0., 0., 0.,\n",
       "       0., 0., 0., 1., 0., 0., 0., 0., 0., 0., 0., 0., 0., 1., 0., 1., 0.,\n",
       "       0., 0., 0., 0., 0., 0., 0., 0., 0., 0., 0., 0., 0., 1., 0., 0., 0.,\n",
       "       0., 0., 0., 1., 0., 0., 0., 0., 1., 0., 0., 0., 0., 0., 0., 1., 0.,\n",
       "       0., 0., 0., 0., 0., 0., 0., 0., 1., 0., 0., 0., 0., 0., 0., 0., 0.,\n",
       "       0., 1., 0., 0., 1., 0., 0., 0., 0., 0., 0., 0., 0., 0., 0., 0., 0.,\n",
       "       0., 0., 0., 0., 1., 0., 0., 0., 0., 0., 0., 0., 0., 0., 0., 0., 0.,\n",
       "       0., 0., 0., 0., 0., 0., 1., 0., 0., 1., 0., 0., 0., 0., 0., 0., 1.,\n",
       "       0., 0., 0., 0., 0., 1., 0., 0., 0., 0., 0., 0., 0., 0., 0., 0., 0.,\n",
       "       1., 0., 0., 0., 0., 0., 0., 0., 0., 1., 0., 0., 1., 0., 0., 1., 0.,\n",
       "       1., 0., 0., 0., 0., 0., 0., 0., 0., 0., 0., 0., 1., 1., 0., 0., 1.,\n",
       "       0., 0., 0., 0., 0., 0., 0., 0., 1., 1., 0., 0., 0., 0., 0., 0., 0.,\n",
       "       0., 0., 0., 0., 0., 0., 0., 1., 0., 0., 0., 0., 1., 0., 0., 0., 0.,\n",
       "       0., 0., 1., 0., 0., 0., 0., 0., 0., 1., 1., 0., 0., 0., 1., 0., 1.,\n",
       "       0., 1., 0., 0., 0., 0., 0., 0., 0., 0., 0., 0., 0., 1., 0., 0., 0.,\n",
       "       0., 0., 0., 0., 0., 1., 0., 0., 0., 0., 0., 0., 0., 0., 0., 0., 0.,\n",
       "       0., 0., 1., 0., 1., 1., 0., 0., 0., 0., 0., 0., 0., 0., 0., 1., 0.,\n",
       "       0., 0., 0., 0., 1., 0., 0., 0., 0., 0., 0., 0., 0., 0., 0., 0., 1.,\n",
       "       0., 0., 0., 0., 0., 0., 0., 0., 0., 0., 0., 0., 0., 1., 0., 0., 0.,\n",
       "       0., 0., 0., 0., 1., 0., 0., 0., 0., 0., 0., 0., 0., 0., 0., 0., 0.,\n",
       "       0., 0., 0., 0., 0., 0., 0., 0., 0., 0., 1., 0., 0., 0., 0., 0., 0.,\n",
       "       0., 0., 0., 1., 0., 0., 0., 0., 0., 0., 0., 0., 0., 0., 0., 0., 0.,\n",
       "       0., 0., 0., 0., 0., 0., 0., 0., 0., 0., 1., 1., 0., 0., 0., 0., 1.,\n",
       "       0., 1., 0., 0., 0., 0., 1., 0., 1., 0., 0., 0., 1., 0., 0., 0., 0.,\n",
       "       0., 0., 0., 0., 0., 0., 0., 1., 0., 0., 0., 0., 0., 0., 0., 1., 0.,\n",
       "       1., 0., 0., 1., 0., 0., 0., 0., 1., 0., 1., 0., 0., 0., 0., 1., 0.,\n",
       "       0., 1., 0., 0., 0., 1., 0., 0., 0., 0., 0., 0., 0., 1., 0., 0., 1.,\n",
       "       0., 0., 0., 0., 0., 0., 1., 0., 0., 0., 0., 0., 0., 0., 0., 0., 0.,\n",
       "       0., 0., 0., 0., 0., 0., 0., 0., 0., 0., 0., 1., 0., 1., 1., 1., 0.,\n",
       "       0., 0., 0., 0., 0., 0., 1., 0., 0., 0., 0., 0., 0., 0., 0., 1., 1.,\n",
       "       1., 0., 0., 0., 0., 1., 0., 0., 0., 0., 0., 0., 0., 0., 1., 0., 0.,\n",
       "       0., 0., 0., 0., 0., 0., 0., 0., 0., 1., 0., 0., 0., 1., 0., 1., 1.,\n",
       "       0., 0., 0., 1., 0., 0., 0., 1., 0., 0., 0., 0., 0., 0., 0., 0., 0.,\n",
       "       1., 0., 0., 0., 0., 0., 0., 0., 0., 0., 0., 0., 0., 0., 0., 0., 1.,\n",
       "       0., 1., 0., 0., 0., 0., 1., 0., 0., 0., 0., 0., 0., 0., 1., 0., 0.,\n",
       "       0., 0., 0., 0., 1., 0., 0., 0., 1., 0., 0., 0., 1., 0., 0., 0., 0.,\n",
       "       1., 0., 0., 0., 0., 0., 0., 0., 0., 0., 0., 0., 1., 0., 0., 0., 0.,\n",
       "       0., 0., 0., 0., 0., 0., 0., 0., 0., 0., 0., 1., 1., 0., 0., 0., 0.,\n",
       "       0., 1., 0., 0., 0., 1., 0., 0., 1., 0., 0., 0., 0., 1., 0., 0., 0.,\n",
       "       0., 0., 0., 0., 0., 0., 0., 1., 1., 0., 0., 1., 0., 0., 0., 1., 0.,\n",
       "       0., 0., 0., 0., 0., 0., 0., 0., 0., 0., 0., 0., 0., 0., 0., 0., 0.,\n",
       "       0., 0., 0., 0., 0., 0., 0., 0., 0., 0., 0., 0., 0., 1., 0., 0., 0.,\n",
       "       0., 0., 0., 0., 1., 0., 0., 0., 0., 0., 0., 0., 0., 0., 0., 0., 0.,\n",
       "       0., 0., 0., 1., 0., 0., 1., 0., 1., 0., 0., 0., 0., 0., 0., 0., 0.,\n",
       "       0., 0., 0., 0., 0., 0., 0., 0., 0., 0., 0., 1., 0., 0., 0., 1., 0.,\n",
       "       0., 0., 0., 0., 0., 0., 0., 1., 0., 0., 0., 0., 0., 0., 0., 0., 0.,\n",
       "       0., 0., 0., 0., 0., 0., 0., 0., 0., 0., 0., 0., 0., 0., 0., 0., 0.,\n",
       "       0., 1., 0., 0., 0., 0., 0., 0., 0., 0., 0., 0., 0., 1., 0., 0., 0.,\n",
       "       1., 0., 0., 0., 0., 0., 0., 0., 0., 0., 0., 1., 1., 0., 0., 0., 0.,\n",
       "       0., 0., 1., 0., 0., 0., 0., 0., 0., 0., 0., 0., 0., 0., 0., 0., 0.,\n",
       "       0., 0., 0., 0., 1., 0., 0., 0., 0., 0., 0., 1., 1., 0., 1., 1., 0.,\n",
       "       0., 0., 0., 0., 0., 0., 0., 0., 0., 0., 0., 1., 0., 0., 0., 1., 0.,\n",
       "       0., 0., 0., 0., 0., 0., 0., 0., 0., 0., 1., 0., 0., 0., 0., 1., 0.,\n",
       "       1., 1., 0., 1., 0., 0., 0., 0., 0., 0., 0., 0., 0., 0., 0., 0., 0.,\n",
       "       0., 0., 0., 0., 0., 0., 0., 0., 0., 0., 0., 0., 1., 1., 0., 1., 0.,\n",
       "       0., 1., 0., 0., 0., 0., 0., 1., 0., 0., 0., 0., 1., 1., 0., 0., 0.,\n",
       "       0., 0., 1., 1., 0., 1., 0., 0., 0., 0., 1., 0., 0., 0., 0., 0., 0.,\n",
       "       0., 0., 0., 0., 1., 0., 0., 0., 0., 0., 1., 0., 0., 0., 0., 0., 0.,\n",
       "       0., 1., 0., 1., 0., 0., 0., 0., 0., 0., 0., 0., 0., 0., 1., 1., 0.,\n",
       "       0., 1., 0., 0., 0., 1., 0., 0., 0., 0., 0., 1., 0., 0., 0., 0., 0.,\n",
       "       0., 1., 0., 0., 0., 0., 0., 1., 0., 0., 0., 0., 0., 0., 0., 0., 0.,\n",
       "       0., 0., 0., 0., 0., 0., 0., 0., 0., 0., 1., 0., 0., 0., 0., 0., 0.,\n",
       "       0., 0., 1., 1., 0., 0., 0., 0., 0., 0., 0., 0., 0., 0., 0., 0., 0.,\n",
       "       0., 0., 1., 0., 0., 0., 0., 0., 0., 1., 0., 0., 0., 0., 0., 0., 0.,\n",
       "       0., 0., 0., 0., 1., 0., 0., 0., 0., 0., 1., 0., 0., 0., 0., 0., 0.,\n",
       "       0., 0., 0., 0., 1., 0., 0., 0., 0., 1., 0., 0., 1., 0., 1., 0., 0.,\n",
       "       0., 0., 0., 0., 0., 0., 0., 1., 0., 0., 0., 0., 0., 0., 0., 0., 0.,\n",
       "       0., 0., 0., 0., 1., 0., 0., 0., 0., 0., 0., 0., 0., 0., 0., 0., 0.,\n",
       "       0., 0., 0., 0., 0., 0., 0., 0., 1., 0., 0., 0., 1., 0., 1., 1., 0.,\n",
       "       0., 0., 0., 0., 0., 0., 0., 0., 0., 0., 0., 0., 0., 0., 0., 1., 0.,\n",
       "       0., 0., 0., 0., 1., 0., 0., 0., 0., 0., 0., 0., 0., 0., 0., 0., 0.,\n",
       "       0., 0., 1., 0., 0., 0., 1., 0., 0., 0., 1., 0., 0., 0., 0., 0., 0.,\n",
       "       0., 0., 0., 1., 0., 1., 0., 0., 0., 1., 0., 0., 0., 0., 0., 0., 0.,\n",
       "       0., 1., 0., 0., 0., 0., 0., 0., 0., 0., 1., 1., 0., 0., 0., 1., 0.,\n",
       "       0., 0., 0., 1., 0., 0., 0., 0., 0., 0., 0., 0., 0., 0., 0., 0., 0.,\n",
       "       0., 0., 0., 0., 0., 0., 0., 0., 0., 0., 0., 0., 0., 0., 0., 0., 1.,\n",
       "       0., 0., 0., 0., 0., 0., 0., 0., 0., 0., 0., 0., 1., 0., 0., 0., 0.,\n",
       "       1., 0., 1., 0., 0., 0., 0., 0., 0., 0., 0., 0., 0., 0., 0., 0., 0.,\n",
       "       0., 0., 1., 1., 0., 0., 0., 1., 0., 0., 0., 0., 0., 0., 0., 0., 0.,\n",
       "       0., 0., 0., 0., 0., 0., 0., 0., 0., 0., 0., 0., 1., 0., 1., 0., 0.,\n",
       "       0., 0., 1., 0., 0., 0., 1., 0., 0., 0., 0., 1., 0., 0., 0., 0., 1.,\n",
       "       0., 0., 0., 0., 1., 0., 0., 0., 0., 1., 1., 0., 0., 1., 0., 0., 0.,\n",
       "       1., 0., 0., 0., 0., 0., 0., 1., 0., 0., 0., 0., 0., 0., 0., 1., 0.,\n",
       "       0., 0., 0., 0., 0., 0., 0., 0., 0., 0., 0., 0., 0., 0., 0., 0., 1.,\n",
       "       0., 1., 0., 0., 0., 0., 0., 1., 0., 0., 1., 0., 0., 0., 0., 0., 0.,\n",
       "       0., 0., 0., 0., 0., 0., 0., 1., 0., 0., 0., 0., 0., 0., 0., 0., 0.,\n",
       "       1., 0., 0., 0., 0., 0., 0., 1., 0., 0., 0., 0., 1., 0., 1., 0., 0.,\n",
       "       0., 0., 0., 0., 0., 0., 0., 0., 0., 0., 1., 0., 0., 1., 0., 0., 0.,\n",
       "       0., 1., 0., 0., 0., 0., 1., 0., 0., 0., 0., 0., 0., 0., 0., 0., 0.,\n",
       "       0., 0., 0., 0., 0., 0., 0., 0., 1., 0., 0., 0., 0., 1., 0., 1., 0.,\n",
       "       0., 1., 1., 0., 0., 1., 0., 1., 0., 0., 0., 1., 0., 0., 1., 0., 0.,\n",
       "       0., 0., 0., 0., 0., 0., 0., 1., 0., 0., 0., 0., 0., 0., 0., 0., 0.,\n",
       "       0., 1., 0., 0., 1., 0., 0., 0., 0., 0., 1., 0., 1., 0., 0., 0., 0.,\n",
       "       0., 1., 0., 0., 0., 0., 0., 0., 0., 0., 0., 0., 0., 0., 0., 0., 1.,\n",
       "       0., 0., 0., 0., 1., 0., 0., 1., 0., 0., 1., 0., 0., 1., 0., 0., 0.,\n",
       "       0., 0., 0., 0., 0., 0., 0., 0., 0., 0., 0., 0., 0., 0., 0., 0., 0.,\n",
       "       1., 0., 0., 0., 0., 0., 1., 1., 0., 0., 0., 0., 0., 0., 0., 0., 0.,\n",
       "       0., 1., 1., 0., 0., 0., 0., 0., 0., 0., 0., 0., 0., 0., 0., 0., 0.,\n",
       "       0., 0., 0., 0., 0., 0., 1., 0., 0., 0., 0., 0., 0., 0., 0., 0., 0.,\n",
       "       0., 0., 0., 1., 1., 0., 0., 0., 1., 0., 0., 0., 0., 0., 0., 0., 0.,\n",
       "       1., 0., 1., 0., 0., 0., 0., 0., 0., 0., 0., 0., 1., 0., 0., 0., 0.,\n",
       "       0., 0., 0., 0., 0., 0., 0., 0., 0., 1., 0., 0., 0., 1., 0., 0., 0.,\n",
       "       0., 0., 0., 0., 0., 0., 0., 0., 0., 1., 0., 1., 0., 0., 0., 0., 0.,\n",
       "       1., 0., 0., 1., 0., 1., 1., 0., 1., 0., 0., 0., 0., 0., 0., 1., 0.,\n",
       "       0., 0., 0., 0., 0., 0., 1., 0., 0., 0., 0., 0., 0., 1., 0., 0., 0.,\n",
       "       0., 0., 0., 0., 0., 0., 0., 0., 0., 1., 0., 0., 0., 0., 0., 0., 0.,\n",
       "       0., 0., 1., 0., 0., 1., 0., 0., 0., 0., 0., 0., 0., 0., 0., 0., 0.,\n",
       "       0., 0., 0., 0., 0., 0., 0., 0., 1., 0., 0., 0., 0., 0., 0., 0., 0.,\n",
       "       0., 0., 0., 0., 0., 0., 0., 0., 0., 0., 0., 0., 0., 0., 1., 0., 0.,\n",
       "       0., 0., 0., 0., 0., 0., 0., 1., 0., 0., 0., 1., 0., 0., 0., 1., 0.,\n",
       "       0., 0., 0., 0., 1., 0., 0., 0., 0., 0., 0., 0., 0., 1., 0., 0., 0.,\n",
       "       0., 0., 1., 0., 0., 0., 0., 0., 0., 0., 0., 0., 0., 0., 0., 0., 0.,\n",
       "       0., 0., 0., 1., 1., 0., 0., 0., 0., 1., 0., 0., 0., 0., 0., 0., 0.,\n",
       "       1., 0., 0., 0., 0., 0., 0., 0., 1., 0., 0., 0., 0., 0., 0., 0., 0.,\n",
       "       0., 0., 0., 0., 0., 0., 1., 0., 0., 0., 1., 0., 0., 0., 0., 0., 0.,\n",
       "       0., 0., 0., 0., 0., 0., 0., 0., 1., 0., 0., 0., 0., 0., 0., 0., 0.,\n",
       "       0., 0., 1., 0., 0., 1., 0., 0., 1., 0., 0., 0., 0., 0., 1., 0., 0.,\n",
       "       0., 0., 0., 0., 0., 0., 0., 0., 0., 0., 0., 1., 1., 0., 0., 0., 0.,\n",
       "       0., 0., 0., 0., 0., 1., 1., 0., 0., 0., 0., 0., 0., 0., 0., 0., 0.,\n",
       "       1., 1., 0., 0., 0., 0., 1., 1., 0., 0., 0., 0., 1., 0., 0., 1., 0.,\n",
       "       1., 0., 0., 0., 0., 0., 1., 0., 0., 0., 0., 0., 0., 0., 1., 0., 0.,\n",
       "       0., 0., 0., 1., 0., 0., 0., 0., 1., 0., 0., 0., 1., 0., 1., 1., 0.,\n",
       "       0., 0., 0., 0., 0., 0., 0., 0., 1., 1., 0., 0., 0., 1., 0., 0., 0.,\n",
       "       0., 0., 1., 0., 1., 1., 0., 0., 0., 0., 0., 0., 0., 0., 0., 0., 0.,\n",
       "       0., 0., 0., 0., 0., 0., 1., 0., 0., 0., 1., 1., 0., 0., 0., 0., 1.,\n",
       "       0., 1., 1., 0., 0., 0., 0., 1., 0., 1., 0., 1., 0., 0., 0., 0., 0.,\n",
       "       0., 0., 0., 0., 0., 1., 0., 0., 0., 0., 0., 1., 0., 0., 0., 0., 0.,\n",
       "       0., 0., 1., 0., 0., 0., 0., 0., 0., 0., 0., 0., 1., 0., 0., 0., 0.,\n",
       "       0., 0., 0., 0., 1., 0., 0., 0., 0., 0., 0., 1., 0., 0., 0., 0., 0.,\n",
       "       0., 0., 0., 0., 0., 0., 1., 0., 0., 0., 0., 0., 0., 0., 0., 0., 0.,\n",
       "       0., 0., 0., 0., 0., 0., 0., 0., 0., 0., 1., 0., 0., 0., 0., 0., 0.,\n",
       "       1., 0., 0., 1., 0., 0., 0., 0., 0., 0., 0., 0., 0., 0., 0., 0., 0.,\n",
       "       0., 0., 0., 0., 0., 0., 0., 0., 1., 0., 1., 1., 0., 0., 0., 0., 0.,\n",
       "       0., 0., 1., 0., 0., 0., 0., 0., 0., 0., 1., 0., 0., 0., 1., 0., 0.,\n",
       "       1., 0., 0., 0., 1., 0., 0., 0., 0., 0., 0., 0., 1., 0., 1., 0., 0.,\n",
       "       0., 0., 0., 0., 0., 0., 1., 0., 0., 0., 0., 0., 0., 0., 0., 0., 1.,\n",
       "       0., 0., 1., 1., 0., 0., 0., 0., 0., 0., 1., 1., 0., 0., 0., 0., 1.,\n",
       "       1., 0., 0., 0., 1., 0., 0., 0., 0., 0., 0., 0., 0., 0., 0., 0., 1.,\n",
       "       0., 0., 0., 1., 0., 0., 0., 0., 0., 0., 0., 0., 0., 0., 0., 0., 0.,\n",
       "       0., 0., 0., 0., 0., 1., 0., 0., 0., 0., 0., 0., 0., 0., 1., 0., 0.,\n",
       "       0., 0., 0., 0., 0., 0., 0., 0., 0., 1., 0., 0., 0., 0., 0., 1., 1.,\n",
       "       0., 0., 0., 0., 0., 1., 0., 0., 0., 0., 1., 0., 0., 0., 0., 1., 0.,\n",
       "       0., 0., 0., 0., 0., 0., 0., 0., 0., 0., 1., 0., 0., 1., 0., 0., 0.,\n",
       "       0., 0., 0., 0., 1., 0., 0., 0., 0., 0., 0., 0., 0., 0., 0., 0., 0.,\n",
       "       0., 0., 1., 0., 0., 0., 0., 0., 0., 1., 0., 0., 0., 0., 0., 0., 0.,\n",
       "       0., 0., 0., 0., 0., 0., 0., 0., 0., 1., 0., 0., 0., 0., 0., 0., 0.,\n",
       "       0., 0., 0., 0., 0., 0., 0., 0., 0., 0., 0., 0., 0., 0., 0., 0., 0.,\n",
       "       0., 0., 0., 0., 0., 0., 0., 0., 1., 0., 1., 0., 0., 0., 0., 0., 1.,\n",
       "       0., 0., 0., 0., 0., 0., 0., 0., 0., 0., 0., 0., 0., 1., 0., 0., 0.,\n",
       "       1., 0., 0., 0., 0., 0., 0., 0., 0., 0., 0., 0., 0., 0., 0., 0., 0.,\n",
       "       0., 0., 0., 0., 0., 0., 0., 0., 0., 0., 0., 0., 0., 0., 0., 1., 0.,\n",
       "       1., 0., 0., 0., 0., 1., 0., 0., 0., 0., 0., 0., 0., 0., 0., 1., 0.,\n",
       "       0., 0., 0., 1., 0., 1., 0., 0., 0., 1., 1., 0., 0., 0., 0., 0., 0.,\n",
       "       0., 0., 0., 1., 0., 0., 0., 0., 0., 0., 0., 0., 0., 0., 0., 0., 1.,\n",
       "       0., 0., 0., 0., 0., 0., 0., 0., 0., 0., 0., 0., 0., 0., 0., 0., 1.,\n",
       "       0., 0., 0., 0., 0., 0., 0., 0., 0., 0., 0., 0., 0., 1., 0., 1., 0.,\n",
       "       0., 0., 0., 0., 0., 0., 0., 0., 1., 0., 0., 0., 0., 0., 0., 0., 0.,\n",
       "       0., 0., 0., 0., 0., 0., 0., 1., 0., 0., 1., 0., 0., 1., 0., 0., 0.,\n",
       "       0., 0., 0., 0., 1., 0., 0., 0., 0., 0., 1., 1., 0., 0., 0., 0., 0.,\n",
       "       0., 0., 0., 0., 0., 0., 0., 0., 0., 0., 0., 0., 0., 0., 0., 0., 0.,\n",
       "       0., 0., 0., 0., 0., 1., 0., 0., 0., 1., 0., 0., 0., 0., 0., 0., 0.,\n",
       "       1., 0., 0., 0., 0., 0., 0., 0., 0., 0., 0., 0., 0., 0., 0., 0., 0.,\n",
       "       0., 0., 0., 0., 1., 0., 0., 0., 0., 0., 1., 0., 1., 0., 0., 0., 0.,\n",
       "       0., 0., 0., 0., 1., 0., 0., 0., 0., 0., 0., 0., 1., 0., 0., 0., 0.,\n",
       "       0., 0., 0., 0., 0., 0., 0., 0., 1., 0., 0., 1., 0., 0., 0., 0., 0.,\n",
       "       0., 0., 1., 0., 0., 0., 0., 1., 1., 0., 0., 0., 0., 0., 0., 0., 0.,\n",
       "       0., 0., 0., 0., 0., 0., 0., 0., 0., 0., 0., 1., 0., 0., 0., 0., 0.,\n",
       "       0., 0., 0., 0., 0., 0., 0., 0., 1., 0., 0., 1., 0., 0., 0., 0., 0.,\n",
       "       0., 0., 0., 0., 0., 0., 1., 0., 0., 0., 0., 0., 0., 0., 0., 0., 1.,\n",
       "       0., 0., 1., 0., 0., 0., 0., 0., 0., 0., 0., 0., 0., 0., 0., 0., 0.,\n",
       "       0., 0., 0., 0., 1., 0., 0., 0., 0., 1., 0., 0., 0., 0., 0., 0., 0.,\n",
       "       0., 0., 1., 0., 1., 0., 0., 0., 0., 0., 0., 0., 0., 0., 0., 1., 0.,\n",
       "       0., 0., 0., 0., 0., 0., 0., 0., 0., 1., 1., 0., 0., 1., 0., 0., 0.,\n",
       "       0., 0., 0., 0., 0., 0., 0., 1., 0., 0., 0., 0., 0., 0., 0., 0., 0.,\n",
       "       0., 0., 0., 0., 0., 0., 0., 0., 0., 0., 0., 0., 0., 1., 0., 0., 0.,\n",
       "       0., 0., 0., 0., 0., 1., 0., 0., 0., 0., 0., 0., 0., 0., 0., 0., 0.,\n",
       "       0., 0., 0., 0., 0., 0., 0., 1., 0., 0., 0., 0., 0., 0., 0., 0., 0.,\n",
       "       1., 1., 0., 0., 0., 0., 0., 0., 1., 0., 0., 0., 0., 0., 0., 0., 0.,\n",
       "       0., 0., 0., 0., 0., 0., 0., 0., 1., 0., 0., 1., 0., 0., 0., 1., 0.,\n",
       "       1., 0., 0., 0., 0., 0., 0., 0., 0., 0., 0., 1., 0., 0., 0., 0., 0.,\n",
       "       0., 0., 0., 0., 1., 0., 0., 0., 0., 0., 0., 0., 0., 0., 0., 0., 0.,\n",
       "       0., 0., 0., 0., 0., 0., 0., 1., 0., 0., 1., 1., 0., 0., 0., 0., 0.,\n",
       "       1., 0., 1., 0., 0., 0., 0., 0., 1., 0., 0., 0., 0., 0., 1., 0., 0.,\n",
       "       0., 0., 0., 0., 0., 1., 1., 0., 0., 0., 0., 0., 0., 0., 0., 0., 0.,\n",
       "       0., 0., 1., 0., 0., 0., 1., 0., 1., 0., 0., 0., 1., 0., 0., 0., 0.,\n",
       "       0., 0., 0., 1., 0., 0., 0., 0., 1., 0., 0., 0., 0., 0., 0., 0., 0.,\n",
       "       1., 0., 0., 0., 0., 0., 0., 0., 0., 0., 1., 0., 1., 0., 0., 0., 0.,\n",
       "       0., 0., 0., 0., 0., 1., 0., 0., 0., 0., 0., 0., 0., 1., 0., 0., 0.,\n",
       "       0., 0., 0., 0., 0., 0., 0., 0., 0., 1., 0., 0., 0., 1., 0., 0., 0.,\n",
       "       0., 0., 0., 0., 0., 0., 0., 0., 0., 0., 0., 0., 0., 0., 0., 0., 0.,\n",
       "       0., 0., 0., 0., 0., 0., 0., 0., 1., 0., 0., 0., 0., 0., 0., 0., 0.,\n",
       "       0., 0., 0., 0., 0., 0., 0., 0., 0., 0., 0., 0., 1., 0., 0., 1., 0.,\n",
       "       0., 0., 0., 1., 0., 0., 1., 0., 1., 1., 0., 0., 0., 0., 0., 0., 0.,\n",
       "       0., 0., 0., 0., 0., 0., 0., 0., 0., 1., 0., 0., 0., 0., 0., 0., 0.,\n",
       "       0., 0., 0., 0., 1., 0., 0., 0., 0., 0., 0., 0., 0., 0., 0., 0., 0.,\n",
       "       0., 0., 1., 0., 0., 1., 0., 1., 0., 0., 0., 0., 0., 1., 1., 0., 0.,\n",
       "       0., 1., 0., 0., 0., 0., 0., 0., 0., 1., 0., 0., 0., 0., 0., 0., 1.,\n",
       "       0., 0., 0., 0., 0., 0., 0., 0., 0., 0., 0., 0., 0., 1., 0., 0., 0.,\n",
       "       0., 0., 0., 0., 0., 0., 0., 0., 0., 0., 0., 0., 0., 0., 0., 0., 0.,\n",
       "       0., 0., 0., 1., 0., 1., 0., 0., 0., 0., 0., 0., 1., 1., 0., 0., 0.,\n",
       "       0., 1., 0., 0., 0., 0., 0., 0., 0., 0., 1., 0., 0., 0., 0., 0., 0.,\n",
       "       0., 0., 0., 1., 0., 0., 0., 0., 0., 1., 0., 0., 0., 0., 0., 0., 0.,\n",
       "       0., 1., 0., 1., 0., 0., 0., 0., 0., 0., 0., 0., 0., 0., 0., 0., 0.,\n",
       "       0., 0., 0., 0., 0., 0., 0., 1., 0., 0., 0., 1., 0., 1., 0., 0., 0.,\n",
       "       0., 0., 0., 0., 0., 0., 0., 0., 0., 0., 1., 1., 0., 0., 1., 0., 0.,\n",
       "       0., 0., 1., 0., 0., 0., 0., 0., 0., 1., 0., 0., 0., 1., 0., 1., 0.,\n",
       "       0., 0., 0., 0., 0., 1., 0., 0., 1., 0., 1., 1., 1., 0., 1., 0., 0.,\n",
       "       0., 1., 0., 0., 0., 0., 0., 1., 0., 0., 0., 0., 0., 0., 1., 0., 0.,\n",
       "       0., 0., 0., 0., 0., 0., 0., 0., 0., 0., 0., 1., 1., 0., 0., 0., 0.,\n",
       "       1., 0., 0., 1., 0., 1., 0., 1., 0., 0., 1., 1., 0., 0., 1., 0., 0.,\n",
       "       0., 0., 0., 1., 1., 1., 0., 0., 0., 0., 1., 1., 0., 0., 0., 0., 1.,\n",
       "       0., 0., 0., 0., 0., 0., 0., 0., 0., 0., 0., 0., 0., 0., 0., 0., 0.,\n",
       "       0., 0., 0., 0., 0., 0., 0., 0., 0., 0., 1., 0., 0., 0., 1., 0., 1.,\n",
       "       0., 0., 0., 0., 0., 0., 1., 0., 0., 0., 0., 0., 0., 0., 0., 0., 1.,\n",
       "       1., 0., 0., 0., 0., 0., 0., 0., 0., 0., 0., 0., 0., 0., 0., 0., 0.,\n",
       "       0., 0., 0., 0., 0., 0., 0., 0., 0., 0., 0., 0., 0., 0., 0., 0., 0.,\n",
       "       0., 1., 0., 0., 0., 0., 0., 0., 0., 0., 0., 0., 0., 0., 0., 0., 0.,\n",
       "       0., 0., 0., 0., 0., 0., 0., 0., 0., 0., 0., 0., 0., 0., 0., 1., 0.,\n",
       "       0., 0., 1., 0., 0., 0., 0., 0., 0., 0., 0., 1., 0., 0., 0., 0., 0.,\n",
       "       0., 0., 0., 1., 0., 0., 0., 1., 0., 0., 0., 0., 1., 1., 0., 0., 0.,\n",
       "       1., 0., 1., 0., 0., 0., 0., 1., 0., 0., 0., 0., 0., 0., 0., 0., 1.,\n",
       "       0., 0., 0., 1., 0., 0., 0., 0., 0., 0., 0., 0., 0., 0., 0., 0., 1.,\n",
       "       0., 0., 0., 0., 0., 0., 0., 1., 0., 0., 0., 0., 1., 0., 0., 0., 0.,\n",
       "       0., 0., 0., 0., 0., 0., 0., 1., 0., 0., 1., 0., 0., 1., 0., 0., 0.,\n",
       "       0., 0., 0., 0., 0., 0., 1., 0., 0., 0., 0., 0., 0., 0., 0., 0., 0.,\n",
       "       0., 0., 0., 0., 0., 0., 0., 0., 0., 0., 0., 0., 0., 0., 0., 0., 0.,\n",
       "       0., 0., 0., 0., 0., 0., 0., 0., 0., 1., 0., 0., 0., 0., 0., 0., 0.,\n",
       "       0., 1., 0., 0., 0., 0., 1., 0., 0., 0., 0., 0., 0., 0., 0., 0., 0.,\n",
       "       1., 0., 0., 0., 0., 0., 0., 0., 0., 0., 0., 0., 0., 0., 1., 0., 0.,\n",
       "       0., 1., 0., 0., 1., 0., 0., 0., 0., 0., 0., 1., 0., 0., 1., 0., 0.,\n",
       "       0., 0., 0., 0., 0., 1., 1., 0., 0., 1., 0., 0., 0., 0., 0., 0., 0.,\n",
       "       0., 0., 0., 0., 0., 0., 0., 0., 0., 0., 0., 1., 0., 0., 1., 0., 0.,\n",
       "       0., 1., 0., 0., 1., 0., 1., 0., 1., 0., 0., 0., 0., 0., 0., 0., 0.,\n",
       "       0., 0., 0., 0., 1., 0., 0., 0., 0., 0., 0., 1., 0., 0., 0., 0., 0.,\n",
       "       0., 0., 0., 1., 0., 0., 0., 0., 0., 0., 1., 0., 0., 0., 1., 1., 0.,\n",
       "       0., 0., 0., 0., 0., 0., 1., 0., 1., 0., 1., 0., 0., 0., 0., 0., 0.,\n",
       "       0., 0., 0., 0., 0., 0., 0., 0., 0., 0., 0., 0., 0., 0., 0., 0., 1.,\n",
       "       0., 0., 0., 0., 0., 0., 0., 0., 0., 0., 0., 0., 1., 0., 0., 0., 0.,\n",
       "       1., 0., 1., 0., 0., 0., 1., 0., 0., 0., 0., 0., 0., 1., 1., 0., 0.,\n",
       "       0., 1., 1., 0., 0., 0., 0., 0., 0., 0., 1., 0., 0., 0., 0., 0., 0.,\n",
       "       0., 0., 1., 0., 0., 1., 0., 0., 1., 0., 0., 0., 0., 0., 0., 0., 0.,\n",
       "       0., 0., 1., 1., 0., 0., 0., 0., 1., 0., 0., 0., 0., 0., 0., 0., 0.,\n",
       "       0., 1., 0., 0., 1., 0., 0., 1., 1., 1., 0., 0., 1., 0., 0., 0., 1.,\n",
       "       0., 0., 1., 0., 0., 0., 0., 0., 0., 0., 0., 1., 0., 0., 0., 0., 0.,\n",
       "       0., 0., 0., 1., 0., 1., 0., 0., 0., 0., 0., 0., 0., 0., 0., 0., 0.,\n",
       "       0., 0., 0., 0., 0., 0., 0., 1., 1., 0., 0., 0., 0., 0., 1., 0., 0.,\n",
       "       1., 0., 0., 0., 0., 0., 1., 1., 0., 1., 0., 0., 0., 0., 0., 0., 0.,\n",
       "       0., 0., 0., 0., 0., 0., 0., 0., 0., 0., 0., 0., 0., 0., 0., 0., 0.,\n",
       "       0., 0., 0., 0., 0., 0., 0., 0., 0., 1., 0., 0., 0., 0., 0., 0., 0.,\n",
       "       1., 0., 0., 0., 0., 0., 1., 0., 0., 0., 0., 0., 0., 1., 0., 0., 0.,\n",
       "       0., 1., 0., 0., 0., 0., 0., 1., 0., 1., 0., 0., 0., 1., 1., 0., 0.,\n",
       "       0., 0., 1., 0., 0., 0., 0., 0., 0., 0., 0., 0., 0., 0., 0., 0., 0.,\n",
       "       1., 0., 0., 0., 0., 1., 0., 0., 0., 0., 0., 0., 0., 0., 0., 0., 0.,\n",
       "       0., 0., 0., 0., 0., 1., 0., 0., 0., 0., 1., 0., 0., 0., 0., 0., 0.,\n",
       "       0., 0., 1., 0., 0., 0., 0., 0., 0., 0., 0., 0., 1., 0., 0., 0., 0.,\n",
       "       0., 0., 1., 0., 0., 0., 0., 1., 0., 0., 0., 0., 0., 0., 0., 0., 0.,\n",
       "       1., 0., 0., 1., 0., 0., 0., 0., 0., 0., 1., 0., 0., 1., 0., 0., 0.,\n",
       "       0., 0., 0., 0., 0., 0., 0., 0., 0., 0., 1., 0., 0., 0., 0., 0., 0.,\n",
       "       0., 0., 0., 0., 0., 0., 0., 0., 0., 0., 0., 0., 0., 0., 0., 0., 0.,\n",
       "       0., 0., 0., 0., 0., 0., 0., 0., 0., 0., 0., 0., 0., 0., 0., 0., 0.,\n",
       "       1., 1., 0., 0., 0., 0., 0., 1., 0., 0., 0., 1., 1., 0., 0., 0., 0.,\n",
       "       1., 0., 1., 0., 0., 0., 0., 0., 0., 0., 0., 1., 0., 1., 0., 1., 0.,\n",
       "       0., 0., 0., 0., 0., 0., 1., 0., 0., 0., 0., 0., 0., 0., 0., 1., 1.,\n",
       "       0., 1., 0., 0., 1., 0., 0., 0., 1., 0., 0., 0., 0., 0., 1., 0., 0.,\n",
       "       0., 0., 0., 0., 0., 0., 0., 1., 0., 1., 0., 0., 0., 0., 0., 0., 0.,\n",
       "       1., 0., 0., 0., 1., 1., 0., 0., 0., 0., 0., 0., 1., 0., 0., 0., 1.,\n",
       "       0., 0., 0., 0., 1., 0., 0., 0., 0., 0., 0., 1., 0., 0., 0., 0., 0.,\n",
       "       0., 0., 0., 0., 0., 0., 0., 0., 0., 0., 0., 0., 0., 0., 0., 0., 0.,\n",
       "       1., 0., 0., 0., 0., 1., 0., 0., 0., 0., 0., 0., 1., 1., 0., 0., 0.,\n",
       "       0., 0., 1., 0., 1., 0., 0., 1., 0., 0., 0., 0., 0., 1., 0., 0., 0.,\n",
       "       1., 0., 1., 0., 1., 0., 0., 0., 0., 0., 0., 1., 0., 0., 0., 1., 0.,\n",
       "       0., 0., 0., 0., 0., 0., 0., 1., 0., 0., 0., 0., 0., 0., 0., 1., 0.,\n",
       "       0., 0., 1., 0., 0., 0., 0., 0., 0., 0., 0., 0., 0., 0., 0., 0., 0.,\n",
       "       0., 0., 1., 0., 0., 0., 1., 0., 0., 0., 0., 0., 0., 0., 0., 0., 0.,\n",
       "       1., 0., 0., 0., 0., 1., 0., 0., 0., 1., 1., 0., 0., 1., 0., 0., 0.,\n",
       "       0., 1., 0., 0., 0., 0., 0., 0., 0., 0., 0., 1., 0., 0., 1., 0., 0.,\n",
       "       1., 0., 0., 0., 0., 0., 0., 0., 0., 0., 0., 0., 0., 0., 0., 0., 0.,\n",
       "       0., 0., 0., 0., 0., 0., 0., 0., 0., 0., 0., 1., 1., 0., 0., 0., 1.,\n",
       "       0., 0., 0., 0., 0., 0., 0., 0., 0., 0., 0., 0., 0., 0., 0., 0., 0.,\n",
       "       0., 0., 0., 0., 0., 0., 0., 0., 0., 0., 0., 0., 0., 1., 0., 0., 0.,\n",
       "       0., 0., 0., 0., 0., 0., 1., 0., 0., 0., 0., 0., 0., 0., 1., 0., 0.,\n",
       "       0., 0., 0., 0., 1., 0., 0., 0., 0., 0., 0., 0., 0., 0., 0., 0., 0.,\n",
       "       0., 1., 0., 0., 0., 0., 0., 1., 1., 0., 0., 0., 0., 0., 0., 1., 0.,\n",
       "       0., 0., 0., 0., 1., 0., 0., 1., 0., 0., 1., 0., 0., 0., 0., 0., 0.,\n",
       "       0., 0., 0., 0., 0., 0., 0., 0., 0., 0., 0., 0., 0., 0., 1., 1., 0.,\n",
       "       0., 0., 1., 0., 1., 0., 1., 0., 0., 1., 0., 0., 1., 0., 0., 0., 0.,\n",
       "       0., 0., 0., 0., 0., 0., 0., 0., 0., 0., 0., 0., 0., 1., 1., 0., 0.,\n",
       "       0., 0., 0., 0., 0., 0., 0., 0., 1., 0., 1., 0., 0., 0., 0., 1., 0.,\n",
       "       0., 1., 1., 0., 1., 0., 0., 0., 0., 0., 0., 0., 0., 0., 0., 0., 1.,\n",
       "       1., 0., 0., 0., 0., 1., 0., 0., 0., 0., 0., 1., 1., 0., 1., 0., 0.,\n",
       "       0., 0., 0., 0., 0., 0., 0., 0., 0., 0., 0., 0., 0., 0., 0., 0., 1.,\n",
       "       0., 0., 0., 0., 0., 0., 0., 0., 0., 0., 0., 0., 0., 0., 0., 0., 1.,\n",
       "       1., 0., 0., 0., 0., 1., 1., 0., 0., 0., 0., 0., 0., 0., 0., 0., 0.,\n",
       "       0., 0., 0., 0., 1., 0., 0., 0., 0., 0., 0., 1., 0., 0., 0., 0., 0.,\n",
       "       0., 0., 0., 1., 1., 0., 0., 0., 1., 0., 0., 0., 0., 1., 0., 1., 0.,\n",
       "       0., 0., 0., 0., 0., 0., 0., 0., 0., 1., 0., 1., 0., 0., 0., 1., 0.,\n",
       "       0., 0., 0., 0., 0., 0., 0., 0., 0., 0., 0., 0., 0., 0., 0., 0., 0.,\n",
       "       0., 0., 0., 0., 0., 0., 0., 0., 0., 0., 0., 0., 0., 0., 0., 1., 0.,\n",
       "       0., 0., 0., 1., 0., 0., 0., 0., 0., 0., 0., 0., 0., 0., 0., 0., 0.,\n",
       "       0., 0., 0., 0., 0., 0., 0., 1., 0., 0., 0., 0., 0., 0., 1., 0., 1.,\n",
       "       1., 0., 1., 0., 0., 0., 0., 0., 0., 0., 0., 0., 0., 0., 0., 1., 0.,\n",
       "       0., 0., 0., 0., 0., 0., 0., 1., 0., 0., 0., 0., 0., 0., 1., 0., 1.,\n",
       "       0., 0., 0., 0., 0., 0., 0., 0., 0., 0., 0., 1., 0., 0., 0., 1., 0.,\n",
       "       0., 0., 0., 1., 0., 1., 1., 0., 0., 0., 0., 0., 1., 0., 0., 0., 0.,\n",
       "       0., 0., 0., 0., 0., 0., 0., 0., 0., 0., 1., 0., 0., 1., 0., 0., 1.,\n",
       "       0., 0., 0., 0., 0., 0., 0., 0., 0., 0., 0., 0., 0., 1., 0., 0., 1.,\n",
       "       0., 0., 0., 0., 0., 0., 0., 0., 0., 0., 0., 1., 1., 0., 0., 0., 0.,\n",
       "       0., 0., 0., 0., 1., 1., 0., 0., 0., 0., 0., 1., 0., 0., 1., 0., 0.,\n",
       "       0., 0., 0., 0., 0., 0., 0., 0., 0., 0., 0., 0., 0., 0., 0., 0., 0.,\n",
       "       0., 0., 1., 0., 1., 0., 0., 0., 0., 0., 0., 0., 0., 0., 0., 0., 1.,\n",
       "       0., 0., 0., 1., 0., 0., 0., 0., 0., 0., 1., 1., 0., 0., 0., 0., 0.,\n",
       "       0., 0., 1., 0., 0., 1., 0., 0., 0., 0., 0., 0., 0., 1., 0., 0., 0.,\n",
       "       0., 0., 0., 1., 0., 0., 0., 0., 0., 1., 0., 1., 0., 0., 0., 0., 0.,\n",
       "       0., 0., 0., 0., 0., 0., 0., 0., 0., 0., 0., 0., 0., 1., 0., 0., 0.,\n",
       "       0., 0., 0., 0., 0., 0., 0., 0., 0., 1., 0., 0., 0., 1., 0., 0., 0.,\n",
       "       0., 0., 0., 0., 0., 0., 0., 0., 0., 0., 1., 0., 0., 0., 0., 0., 1.,\n",
       "       0., 0., 0., 0., 0., 0., 0., 1., 0., 0., 1., 0., 0., 0., 0., 0., 0.,\n",
       "       0., 0., 0., 0., 0., 0., 0., 0., 0., 0., 0., 0., 0., 0., 0., 1., 0.,\n",
       "       0., 0., 0., 0., 1., 0., 1., 0., 0., 0., 0., 1., 0., 1., 1., 0., 0.,\n",
       "       0., 1., 1., 0., 0., 0., 0., 0., 0., 1., 0., 0., 0., 0., 0., 1., 0.,\n",
       "       0., 0., 1., 0., 0., 0., 0., 0., 0., 0., 0., 0., 0., 0., 0., 0., 0.,\n",
       "       0., 1., 0., 0., 1., 0., 0., 1., 0., 0., 0., 0., 0., 0., 0., 1., 0.,\n",
       "       0., 0., 0., 0., 0., 0., 0., 0., 0., 0., 0., 0., 0., 0., 0., 1., 0.,\n",
       "       0., 0., 0., 0., 0., 0., 0., 0., 0., 1., 0., 0., 0., 1., 0., 0., 0.,\n",
       "       0., 0., 0., 0., 0., 0., 0., 0., 1., 0., 0., 0., 1., 0., 1., 0., 0.,\n",
       "       0., 0., 0., 0., 0., 0., 0., 0., 0., 0., 0., 0., 0., 0., 0., 0., 0.,\n",
       "       0., 0., 0., 1., 0., 1., 0., 0., 1., 0., 0., 0., 0., 0., 0., 0., 0.,\n",
       "       0., 0., 0., 0., 0., 0., 0., 0., 0., 0., 0., 0., 0., 1., 0., 0., 0.,\n",
       "       1., 0., 0., 0., 0., 1., 1., 0., 0., 0., 0., 0., 0., 0., 0., 1., 0.,\n",
       "       0., 0., 0., 0., 0., 0., 0., 0., 1., 0., 0., 0., 0., 0., 0., 0., 0.,\n",
       "       1., 0., 0., 0., 1., 0., 0., 0., 0., 1., 0., 0., 0., 0., 0., 1., 0.,\n",
       "       0., 0., 0., 0., 0., 0., 0., 0., 0., 0., 0., 0., 0., 0., 0., 1., 0.,\n",
       "       0., 1., 1., 0., 0., 0., 0., 0., 0., 1., 0., 0., 0., 0., 0., 0., 1.,\n",
       "       0., 0., 0., 0., 1., 0., 0., 0., 0., 0., 0., 1., 0., 1., 0., 0., 0.,\n",
       "       0., 0., 0., 0., 0., 0., 0., 0., 0., 0., 0., 0., 0., 0., 0., 1., 0.,\n",
       "       0., 1., 0., 1., 0., 1., 0., 0., 1., 1., 0., 0., 1., 1., 1., 0., 0.,\n",
       "       0., 0., 1., 0., 0., 1., 0., 1., 0., 0., 0., 0., 0., 0., 0., 0., 0.,\n",
       "       0., 0., 0., 0., 0., 0., 0., 0., 0., 0., 0., 0., 1., 0., 0., 0., 0.,\n",
       "       0., 0., 0., 1., 0., 1., 0., 0., 1., 0., 0., 0., 0., 0., 1., 0., 0.,\n",
       "       0., 0., 0., 0., 0., 0., 0., 0., 0., 0., 0., 0., 1., 0., 1., 0., 0.,\n",
       "       0., 0., 0., 0., 0., 0., 0., 1., 0., 0., 0., 0., 0., 0., 0., 0., 0.,\n",
       "       0., 0., 0., 0., 1., 0., 0., 0., 0., 0., 0., 0., 0., 0., 0., 0., 0.,\n",
       "       0., 0., 0., 0., 0., 1., 0., 0., 0., 0., 0., 0., 0., 0., 0., 0., 0.,\n",
       "       0., 0., 1., 0., 0., 1., 1., 0., 1., 0., 0., 0., 0., 0., 0., 0., 0.,\n",
       "       0., 0., 1., 0., 0., 0., 0., 1., 0., 0., 0., 0., 0., 0., 1., 0., 0.,\n",
       "       0., 0., 0., 0., 0., 1., 0., 0., 1., 0., 0., 0., 1., 0., 0., 1., 0.,\n",
       "       0., 0., 0., 0., 1., 0., 0., 0., 0., 0., 0., 0., 0., 0., 1., 0., 1.,\n",
       "       0., 0., 1., 0., 0., 0., 0., 0., 0., 0., 0., 0., 0., 0., 0., 0., 0.,\n",
       "       0., 0., 0., 0., 0., 1., 0., 0., 0., 0., 0., 0., 0., 0., 0., 0., 1.,\n",
       "       0., 0., 0., 0., 0., 0., 0., 0., 0., 0., 0., 0., 0., 0., 0., 0., 0.,\n",
       "       0., 0., 0., 0., 0., 0., 0., 0., 0., 0., 0., 0., 0., 1., 0., 0., 0.,\n",
       "       0., 0., 0., 0., 0., 1., 0., 0., 0., 0., 0., 0., 0., 1., 0., 0., 0.,\n",
       "       0., 0., 0., 1., 0., 0., 0., 0., 0., 0., 0., 0., 0., 0., 0., 0., 0.,\n",
       "       0., 0., 0., 0., 1., 0., 0., 0., 1., 0., 0., 0., 0., 0., 0., 0., 0.,\n",
       "       0., 0., 0., 0., 0., 0., 0., 1., 0., 0., 1., 0., 0., 0., 0., 0., 1.,\n",
       "       0., 0., 0., 0., 0., 0., 0., 0., 1., 0., 0., 0., 0., 0., 0., 0., 0.,\n",
       "       0., 0., 0., 0., 0., 0., 1., 0., 0., 0., 0., 1., 0., 0., 0., 0., 0.,\n",
       "       0., 1., 1., 0., 0., 0., 0., 0., 0., 0., 0., 0., 0., 0., 0., 0., 0.,\n",
       "       0., 0., 0., 0., 0., 0., 0., 1., 0., 0., 0., 0., 1., 0., 0., 0., 0.,\n",
       "       0., 0., 0., 0., 0., 0., 0., 0., 0., 1., 0., 0., 0., 0., 1., 0., 0.,\n",
       "       0., 0., 0., 0., 0., 1., 0., 0., 0., 0., 0., 0., 0., 0., 0., 0., 0.,\n",
       "       0., 1., 0., 0., 0., 0., 0., 0., 0., 1., 0., 0., 0., 0., 0., 0., 0.,\n",
       "       0., 0., 0., 1., 0., 0., 0., 0., 0., 0., 0., 0., 1., 0., 0., 0., 0.,\n",
       "       0., 0., 0., 0., 1., 0., 0., 0., 0., 0., 0., 0., 0., 0., 0., 0., 0.,\n",
       "       0., 0., 0., 0., 0., 0., 1., 0., 0., 0., 0., 0., 0., 0., 0., 0., 0.,\n",
       "       0., 0., 0., 0., 0., 0., 0., 0., 0., 0., 0., 0., 0., 0., 1., 0., 0.,\n",
       "       0., 0., 0., 0., 0., 0., 0., 0., 0., 0., 0., 0., 0., 0., 0., 0., 0.,\n",
       "       0., 1., 0., 0., 0., 0., 0., 0., 0., 0., 0., 0., 0., 0., 0., 0., 0.,\n",
       "       0., 0., 0., 0., 0., 0., 0., 0., 0., 0., 0., 0., 0., 0., 0., 0., 0.,\n",
       "       0., 0., 0., 0., 0., 0., 0., 0., 0., 0., 0., 0., 0., 0., 0., 0., 0.,\n",
       "       0., 1., 0., 0., 0., 0., 0., 0., 1., 0., 0., 1., 0., 0., 0., 0., 0.,\n",
       "       0., 0., 1., 0., 0., 0., 1., 0., 0., 0., 0., 0., 0., 0., 0., 0., 0.,\n",
       "       0., 0., 0., 0., 0., 0., 0., 0., 0., 0., 1., 0., 0., 0., 0., 1., 0.,\n",
       "       0., 0., 0., 0., 0., 0., 0., 0., 0., 1., 1., 0., 0., 0., 0., 0., 0.,\n",
       "       0., 0., 0., 0., 0., 0., 0., 0., 0., 0., 0., 0., 1., 0., 0., 0., 0.,\n",
       "       0., 0., 0., 0., 0., 0., 0., 1., 0., 0., 0., 0., 0., 1., 1., 0., 0.,\n",
       "       0., 0., 0., 0., 0., 0., 0., 0., 0., 0., 0., 0., 0., 1., 0., 0., 0.,\n",
       "       0., 0., 0., 1., 0., 0., 0., 0., 0., 0., 0., 0., 1., 0., 0., 0., 0.,\n",
       "       0., 0., 0., 0., 0., 0., 0., 0., 0., 1., 0., 0., 0., 0., 0., 0., 0.,\n",
       "       0., 0., 0., 0., 0., 0., 0., 1., 0., 0., 0., 0., 0., 1., 0., 0., 0.,\n",
       "       0., 0., 0., 0., 0., 1., 0., 0., 0., 0., 0., 0., 0., 0., 0., 0., 0.,\n",
       "       0., 0., 1., 0., 0., 0., 1., 0., 0., 0., 0., 0., 0., 0., 0., 0., 0.,\n",
       "       1., 0., 0., 0., 0., 0., 0., 0., 1., 0., 0., 1., 0., 0., 0., 0., 0.,\n",
       "       0., 0., 0., 0., 0., 0., 0., 0., 0., 0., 0., 0., 0., 0., 0., 0., 0.,\n",
       "       0., 0., 1., 0., 1., 0., 0., 0., 0., 0., 0., 0., 0., 0., 0., 0., 0.,\n",
       "       0., 1., 0., 1., 0., 0., 0., 1., 1., 0., 0., 0., 0., 0., 1., 0., 0.,\n",
       "       1., 0., 0., 0., 1., 0., 1., 0., 0., 0., 0., 0., 1., 0., 0., 0., 0.,\n",
       "       0., 0., 0., 0., 0., 0., 0., 1., 0., 0., 0., 0., 0., 0., 0., 1., 0.,\n",
       "       0., 0., 0., 0., 0., 1., 0., 0., 1., 0., 0., 0., 0., 1., 0., 0., 0.,\n",
       "       0., 0., 0., 0., 0., 0., 0., 0., 1., 0., 0., 0., 0., 0., 1., 0., 0.,\n",
       "       0., 1., 0., 0., 0., 0., 1., 1., 0., 0., 0., 0., 0., 0., 1., 0., 0.,\n",
       "       0., 0., 0., 0., 0., 0., 0., 0., 0., 0., 1., 1., 0., 0., 1., 1., 0.,\n",
       "       0., 0., 0., 0., 0., 0., 0., 0., 0., 0., 0., 0., 0., 0., 0., 0., 0.,\n",
       "       0., 0., 0., 0., 0., 0., 0., 0., 0., 0., 0., 0., 0., 0., 1., 0., 0.,\n",
       "       0., 0., 0., 0., 0., 1., 0., 0., 0., 1., 0., 1., 0., 0., 0., 0., 0.,\n",
       "       0., 0., 0., 0., 0., 0., 0., 0., 0., 1., 1., 0., 0., 0., 0., 0., 0.,\n",
       "       0., 0., 1., 0., 0., 1., 0., 0., 0., 0., 0., 1., 1., 0., 0., 0., 1.,\n",
       "       0., 0., 0., 0., 0., 0., 0., 0., 1., 0., 0., 0., 0., 0., 0., 0., 1.,\n",
       "       1., 0., 0., 0., 0., 0., 0., 0., 0., 0., 0., 1., 0., 0., 0., 1., 0.,\n",
       "       0., 0., 1., 0., 1., 1., 0., 0., 0., 1., 0., 0., 0., 0., 0., 0., 0.,\n",
       "       0., 0., 0., 0., 0., 0., 0., 0., 0., 0., 0., 0., 0., 0., 0., 0., 1.,\n",
       "       0., 0., 0., 0., 0., 0., 0., 0., 0., 0., 0., 0., 0., 0., 1., 0., 0.,\n",
       "       1., 0., 0., 0., 0., 0., 0., 0., 0., 0., 0., 0., 1., 0., 0., 0., 0.,\n",
       "       0., 0., 0., 1., 0., 1., 0., 0., 1., 0., 0., 0., 0., 1., 0., 0., 0.,\n",
       "       0., 0., 0., 0., 1., 0., 0., 0., 0., 0., 0., 0., 0., 0., 1., 0., 0.,\n",
       "       0., 0., 1., 0., 0., 1., 0., 1., 0., 0., 0., 0., 0., 0., 0., 1., 1.,\n",
       "       0., 0., 0., 0., 0., 0., 0., 1., 0., 0., 0., 0., 0., 1., 0., 0., 0.,\n",
       "       0., 1., 0., 0., 0., 1., 0., 0., 0., 0., 1., 0., 0., 1., 0., 0., 1.,\n",
       "       0., 0., 1., 1., 0., 0., 1., 0., 0., 0., 0., 1., 0., 0., 0., 0., 0.,\n",
       "       0., 0., 1., 1., 0., 0., 0., 0., 0., 0., 0., 0., 1., 0., 1., 0., 0.,\n",
       "       0., 0., 0., 0., 0., 0., 0., 0., 0., 1., 0., 0., 1., 0., 1., 0., 0.,\n",
       "       0., 0., 1., 0., 0., 0., 0., 0., 0., 0., 0., 0., 0., 0., 0., 0., 0.,\n",
       "       0., 0., 0., 0., 0., 0., 0., 1., 0., 0., 0., 1., 0., 0., 1., 1., 0.,\n",
       "       0., 0., 0., 0., 0., 0., 0., 0., 0., 1., 0., 0., 1., 0., 0., 1., 0.,\n",
       "       1., 0., 0., 0., 0., 0., 0., 1., 0., 0., 1., 1., 1., 0., 0., 0., 0.,\n",
       "       0., 0., 0., 0., 0., 0., 0., 0., 0., 0., 0., 0., 1., 0., 0., 0., 0.,\n",
       "       0., 0., 0., 0., 0., 0., 0., 0., 0., 0., 1., 0., 0., 0., 0., 0., 0.,\n",
       "       1., 0., 0., 0., 0., 0., 1., 0., 0., 0., 0., 0., 0., 0., 0., 0., 0.,\n",
       "       0., 0., 0., 0., 1., 0., 0., 0., 0., 0., 0., 0., 0., 0., 1., 0., 0.,\n",
       "       0., 0., 0., 0., 0., 0., 1., 0., 0., 1., 0., 0., 1., 1., 0., 0., 0.,\n",
       "       0., 0., 0., 0., 0., 1., 0., 0., 0., 1., 0., 0., 0., 0., 0., 0., 0.,\n",
       "       0., 0., 0., 0., 1., 0., 0., 0., 0., 1., 0., 1., 0., 0., 0., 0., 0.,\n",
       "       0., 0., 0., 0., 0., 0., 0., 0., 0., 0., 0., 0., 0., 0., 0., 0., 0.,\n",
       "       0., 0., 0., 0., 0., 0., 0., 0., 1., 1., 0., 0., 0., 0., 1., 0., 0.,\n",
       "       0., 1., 0., 0., 0., 0., 0., 0., 1., 0., 0., 0., 0., 0., 0., 1., 0.,\n",
       "       1., 0., 1., 0., 0., 1., 0., 0., 0., 0., 0., 0., 0., 0., 0., 0., 0.,\n",
       "       1., 0., 0., 0., 0., 1., 0., 0., 1., 0., 0., 1., 0., 0., 1., 1., 0.,\n",
       "       0., 0., 0., 1., 0., 0., 0., 0., 0., 0., 0., 0., 0., 0., 0., 0., 0.,\n",
       "       0., 1., 1., 0., 0., 0., 0., 0., 0., 0., 0., 0., 0., 0., 0., 0., 1.,\n",
       "       0., 1., 0., 0., 1., 0., 0., 0., 0., 0., 0., 0., 0., 0., 1., 0., 0.,\n",
       "       0., 0., 0., 0., 0., 0., 0., 0., 0., 0., 0., 0., 0., 0., 1., 0., 0.,\n",
       "       0., 1., 0., 0., 1., 0., 0., 1., 0., 0., 0., 0., 1., 0., 0., 0., 0.,\n",
       "       0., 0., 0., 0., 0., 1., 0., 0., 0., 0., 0., 0., 1., 0., 0., 0., 0.,\n",
       "       0., 0., 0., 0., 0., 0., 0., 0., 0., 0., 0., 0., 0., 1., 1., 0., 0.,\n",
       "       0., 0., 0., 0., 0., 0., 0., 0., 0., 1., 0., 0., 0., 1., 0., 0., 0.,\n",
       "       0., 1., 0., 1., 0., 0., 0., 0., 0., 0., 0., 0., 0., 1., 0., 0., 0.,\n",
       "       0., 0., 0., 0., 0., 1., 0., 0., 0., 1., 0., 0., 1., 0., 0., 0., 1.,\n",
       "       0., 0., 0., 1., 0., 0., 0., 0., 0., 0., 0., 0., 0., 0., 0., 0., 1.,\n",
       "       0., 0., 1., 0., 0., 1., 0., 0., 0., 0., 1., 0., 1., 0., 1., 1., 0.,\n",
       "       0., 0., 0., 0., 0., 0., 0., 1., 0., 0., 0., 0., 0., 0., 1., 0., 0.,\n",
       "       0., 0., 0., 0., 1., 0., 0., 0., 0., 0., 0., 0., 0., 0., 0., 0., 0.,\n",
       "       0., 0., 0., 0., 0., 0., 0., 0., 0., 0., 0., 0., 0., 1., 0., 0., 0.,\n",
       "       0., 0., 0., 0., 0., 0., 1., 0., 0., 0., 0., 0., 0., 0., 0., 0., 0.,\n",
       "       0., 0., 0., 0., 1., 0., 0., 1., 0., 0., 0., 0., 0., 0., 1., 0., 0.,\n",
       "       0., 0., 0., 0., 0., 0., 0., 0., 0., 0., 0., 0., 1., 0., 0., 1., 1.,\n",
       "       1., 0., 0., 0., 0., 0., 0., 0., 0., 0., 0., 1., 0., 0., 0., 0., 0.,\n",
       "       0., 0., 0., 0., 0., 0., 0., 0., 0., 0., 0., 1., 0., 0., 0., 0., 0.,\n",
       "       0., 0., 0., 0., 0., 0., 0., 0., 1., 1., 1., 0., 0., 0., 0., 0., 1.,\n",
       "       0., 0., 0., 1., 0., 0., 0., 0., 0., 0., 0., 0., 0., 0., 0., 1., 1.,\n",
       "       0., 0., 0., 0., 0., 0., 0., 1., 0., 0., 1., 0., 0., 0., 0., 0., 0.,\n",
       "       1., 0., 1., 0., 1., 0., 0., 0., 0., 0., 1., 0., 1., 0., 0., 0., 0.,\n",
       "       0., 1., 0., 0., 0., 0., 0., 0., 0., 0., 1., 0., 1., 0., 1., 0., 0.,\n",
       "       0., 0., 0., 1., 0., 0., 0., 0., 0., 1., 0., 0., 0., 0., 0., 0., 0.,\n",
       "       0., 0., 0., 1., 0., 0., 0., 0., 1., 0., 0., 0., 0., 0., 0., 0., 0.,\n",
       "       0., 0., 0., 0., 0., 0., 0., 1., 0., 1., 0., 0., 0., 0., 0., 0., 0.,\n",
       "       0., 1., 0., 0., 0., 1., 0., 0., 0., 0., 0., 0., 0., 0., 0., 0., 1.,\n",
       "       0., 1., 0., 0., 0., 0., 0., 0., 0., 0., 1., 0., 0., 1., 0., 1., 0.,\n",
       "       0., 0., 0., 0., 0., 1., 0., 0., 0., 0., 0., 1., 0., 0., 0., 0., 0.,\n",
       "       0., 0., 1., 0., 0., 0., 0., 0., 0., 0., 0., 0., 0., 0., 0., 1., 0.,\n",
       "       0., 0., 0., 0., 0., 1., 0., 1., 0., 1., 0., 0., 0., 1., 0., 0., 0.,\n",
       "       0., 0., 0., 1., 0., 0., 0., 0., 0., 1., 1., 0., 1., 0., 0., 0., 0.,\n",
       "       0., 0., 0., 1., 0., 0., 0., 0., 1., 0., 0., 0., 0., 0., 0., 0., 0.,\n",
       "       0., 0., 0., 0., 0., 0., 0., 0., 0., 0., 0., 0., 0., 1., 1., 0., 0.,\n",
       "       0., 0., 0., 0., 0., 1., 1., 0., 0., 0., 0., 1., 0., 0., 0., 0., 0.,\n",
       "       1., 0., 0., 0., 0., 0., 0., 1., 1., 0., 0., 0., 0., 0., 1., 0., 0.,\n",
       "       0., 1., 1., 0., 0., 0., 1., 0., 0., 1., 0., 0., 0., 1., 0., 0., 0.,\n",
       "       0., 0., 0., 0., 0., 0., 0., 1., 0., 0., 0., 0., 0., 0., 0., 0., 0.,\n",
       "       0., 0., 0., 0., 0., 0., 0., 0., 1., 0., 0., 0., 0., 0., 0., 1., 1.,\n",
       "       0., 0., 1., 0., 0., 1., 0., 0., 1., 1., 0., 0., 1., 0., 0., 0., 0.,\n",
       "       0., 0., 0., 0., 0., 1., 0., 0., 0., 0., 0., 0., 0., 0., 0., 0., 0.,\n",
       "       0., 0., 0., 0., 0., 0., 0., 0., 0., 0., 0., 0., 0., 1., 0., 0., 0.,\n",
       "       0., 0., 0., 0., 0., 0., 0., 0., 0., 0., 0., 1., 0., 0., 0., 0., 0.,\n",
       "       0., 0., 1., 0., 0., 0., 0., 0., 0., 0., 0., 0., 0., 0., 0., 0., 0.,\n",
       "       0., 0., 0., 1., 0., 1., 0., 0., 1., 1., 0., 0., 0., 0., 1., 0., 1.,\n",
       "       0., 1., 1., 0., 0., 0., 0., 1., 0., 0., 0., 0., 0., 0., 0., 0., 0.,\n",
       "       0., 0., 0., 0., 0., 0., 0., 0., 0., 0., 0., 0., 0., 0., 0., 0., 0.,\n",
       "       0., 0., 0., 0., 0., 0., 0., 0., 0., 1., 0., 0., 0., 0., 1., 0., 0.,\n",
       "       0., 0., 0., 0., 0., 0., 0., 1., 0., 0., 0., 0., 0., 1., 0., 0., 0.,\n",
       "       0., 0., 0., 0., 0., 0., 0., 0., 0., 1., 0., 0., 0., 0., 0., 0., 0.,\n",
       "       0., 0., 0., 0., 0., 0., 0., 1., 0., 1., 0., 0., 0., 0., 0., 0., 0.,\n",
       "       0., 0., 0., 0., 0., 0., 0., 0., 0., 0., 0., 0., 0., 0., 0., 0., 0.,\n",
       "       0., 0., 0., 1., 0., 0., 0., 0., 0., 0., 0., 0., 0., 0., 0., 0., 0.,\n",
       "       0., 0., 0., 0., 0., 0., 0., 0., 0., 0., 0., 0., 0., 0., 0., 0., 0.,\n",
       "       0., 0., 0., 0., 1., 0., 0., 0., 0., 0., 0., 0., 0., 0., 0., 0., 0.,\n",
       "       0., 0., 0., 0., 0., 1., 0., 0., 1., 0., 0., 0., 0., 0., 0., 1., 0.,\n",
       "       1., 0., 0., 0., 0.])"
      ]
     },
     "execution_count": 234,
     "metadata": {},
     "output_type": "execute_result"
    }
   ],
   "source": [
    "yy_soft = yy"
   ]
  },
  {
   "cell_type": "code",
   "execution_count": 236,
   "metadata": {},
   "outputs": [],
   "source": [
    "yy_hard = yy"
   ]
  },
  {
   "cell_type": "code",
   "execution_count": 240,
   "metadata": {},
   "outputs": [
    {
     "name": "stdout",
     "output_type": "stream",
     "text": [
      "558\n"
     ]
    }
   ],
   "source": [
    "print(len([i for i, (x, y) in enumerate(zip(yy_soft, yy_hard)) if x != y]))"
   ]
  },
  {
   "cell_type": "code",
   "execution_count": null,
   "metadata": {},
   "outputs": [],
   "source": []
  },
  {
   "cell_type": "code",
   "execution_count": 187,
   "metadata": {},
   "outputs": [
    {
     "name": "stdout",
     "output_type": "stream",
     "text": [
      "[0.92 0.95 0.82 0.92 0.77 0.84 0.75 0.97 0.96 0.5  0.76 0.4  0.98 0.82\n",
      " 0.53 0.06 0.97 0.58 0.91 0.9  0.91 0.84 0.56 0.9  0.71 0.91 0.91 0.96\n",
      " 0.98 0.85 0.76 0.83 0.56 0.44 0.59 0.95 0.95 0.16 0.82 0.91 0.91 0.91\n",
      " 0.69 0.82 0.03 0.79 0.96 0.74 0.91 0.88 0.87 0.57 0.82 0.96 0.76 0.52\n",
      " 0.97 0.88 0.8  0.88 0.92 0.84 0.92 0.57 0.02 0.92 0.79 0.92 0.08 0.84\n",
      " 0.88 0.91 0.86 0.71 0.79 0.87 0.91 0.89 0.97 0.85 0.88 0.9  0.62 0.7\n",
      " 0.82 0.85 0.54 0.5  0.97 0.91 0.55 0.84 0.87 0.88 0.85 0.97 0.87 0.89\n",
      " 0.81 0.56 0.92 0.54 0.96 0.89 0.74 0.97 0.81 0.9  0.72 0.78 0.95 0.72\n",
      " 0.7  0.87 0.9  0.45 0.03 0.38 0.66 0.84 0.78 0.83 0.88 0.89 0.65 0.84\n",
      " 0.7  0.87 0.48 0.95 0.43 0.96 0.94 0.34 0.92 0.93 0.85 0.9  0.84 0.75\n",
      " 0.68 0.93 0.85 0.88 0.28 0.78 0.84 0.55 0.46 0.53 0.89 0.8  0.9  0.54\n",
      " 0.94 0.84 0.67 0.91 0.86 0.71 0.53 0.83 0.6  0.8  0.84 0.93 0.96 0.96\n",
      " 0.87 0.93 0.9  0.8  0.57 0.03 0.86 0.93 0.69 0.95 0.62 0.78 0.89 0.95\n",
      " 0.87 0.8  0.86 0.78 0.55 0.91 0.81 0.97 0.02 0.9  0.96 0.61 0.96 0.87\n",
      " 0.98 0.51 0.69 0.88 0.86 0.27 0.91 0.86 0.44 0.75 0.08 0.7  0.58 0.69\n",
      " 0.96 0.35 0.87 0.56 0.82 0.86 0.51 0.15 0.05 0.89 0.93 0.48 0.98 0.93\n",
      " 0.96 0.96 0.84 0.93 0.89 0.81 0.66 0.66 0.56 0.88 0.86 0.07 0.91 0.38\n",
      " 0.96 0.79 0.93 0.72 0.84 0.97 0.82 0.88 0.62 0.95 0.82 0.17 0.92 0.85\n",
      " 0.74 0.72 0.81 0.93 0.86 0.6  0.92 0.26 0.93 0.89 0.79 0.84 0.77 0.52\n",
      " 0.91 0.57 0.93 0.64 0.96 0.56 0.76 0.8  0.35 0.84 0.53 0.85 0.5  0.79\n",
      " 0.87 0.93 0.87 0.43 0.86 0.59 0.1  0.83 0.91 0.88 0.89 0.96 0.94 0.58\n",
      " 0.86 0.6  0.86 0.79 0.74 0.84 0.04 0.92 0.98 0.61 0.78 0.85 0.91 0.88\n",
      " 0.9  0.96 0.2  0.55 0.81 0.92 0.69 0.89 0.82 0.9  0.77 0.41 0.04 0.85\n",
      " 0.9  0.9  0.87 0.21 0.86 0.47 0.71 0.72 0.57 0.05 0.86 0.97 0.96 0.8\n",
      " 0.77 0.87 0.92 0.86 0.95 0.9  0.66 0.87 0.91 0.95 0.47 0.79 0.86 0.88\n",
      " 0.95 0.48 0.89 0.97 0.59 0.05 0.85 0.9  0.93 0.76 0.76 0.89 0.68 0.72\n",
      " 0.86 0.79 0.91 0.85 0.44 0.81 0.91 0.03 0.78 0.27 0.84 0.58 0.91 0.41\n",
      " 0.95 0.76 0.82 0.92 0.04 0.92 0.92 0.84 0.82 0.89 0.42 0.63 0.83 0.95\n",
      " 0.78 0.26 0.92 0.89 0.23 0.84 0.84 0.96 0.54 0.62 0.92 0.78 0.86 0.87\n",
      " 0.69 0.9  0.89 0.55 0.89 0.6  0.9  0.81 0.09 0.83 0.72 0.69 0.76 0.48\n",
      " 0.84 0.96 0.95 0.81 0.65 0.91 0.77 0.57 0.92 0.54 0.93 0.08 0.85 0.83\n",
      " 0.13 0.73 0.62 0.69 0.86 0.92 0.93 0.94 0.96 0.91 0.76 0.05 0.85 0.83\n",
      " 0.91 0.92 0.82 0.77 0.79 0.94 0.84 0.91 0.26 0.72 0.96 0.47 0.9  0.93\n",
      " 0.71 0.44 0.81 0.91 0.85 0.96 0.5  0.87 0.03 0.91 0.91 0.15 0.66 0.92\n",
      " 0.71 0.88 0.48 0.96 0.65 0.85 0.95 0.97 0.28 0.52 0.18 0.67 0.92 0.75\n",
      " 0.89 0.85 0.32 0.92 0.85 0.9  0.32 0.91 0.96 0.97 0.7  0.84 0.82 0.43\n",
      " 0.91 0.72 0.55 0.87 0.47 0.67 0.54 0.95 0.97 0.66 0.93 0.97 0.83 0.54\n",
      " 0.75 0.96 0.92 0.08 0.51 0.86 0.9  0.87 0.65 0.83 0.09 0.81 0.53 0.95\n",
      " 0.72 0.93 0.03 0.74 0.84 0.84 0.94 0.52 0.86 0.75 0.24 0.96 0.81 0.9\n",
      " 0.86 0.52 0.93 0.22 0.06 0.82 0.78 0.95 0.78 0.77 0.91 0.54 0.88 0.7\n",
      " 0.55 0.07 0.49 0.25 0.87 0.42 0.95 0.52 0.95 0.93 0.82 0.29 0.8  0.73\n",
      " 0.68 0.75 0.98 0.88 0.57 0.92 0.96 0.73 0.82 0.93 0.4  0.85 0.89 0.95\n",
      " 0.84 0.78 0.72 0.97 0.86 0.87 0.87 0.83 0.89 0.79 0.97 0.67 0.56 0.96\n",
      " 0.54 0.79 0.9  0.86 0.91 0.88 0.89 0.83 0.88 0.82 0.94 0.83 0.57 0.94\n",
      " 0.86 0.75 0.76 0.88 0.88 0.93 0.88 0.91 0.88 0.68 0.97 0.87 0.78 0.88\n",
      " 0.86 0.94 0.91 0.91 0.82 0.89 0.82 0.94 0.82 0.78 0.75 0.67 0.81 0.95\n",
      " 0.96 0.55 0.97 0.82 0.8  0.72 0.51 0.97 0.74 0.81 0.96 0.85 0.77 0.82\n",
      " 0.97 0.86 0.96 0.75 0.52 0.06 0.9  0.55 0.82 0.71 0.5  0.87 0.5  0.67\n",
      " 0.78 0.82 0.97 0.75 0.82 0.12 0.54 0.96 0.69 0.67 0.29 0.91 0.48 0.83\n",
      " 0.83 0.63 0.88 0.68 0.8  0.96 0.75 0.85 0.61 0.98 0.54 0.95 0.63 0.74\n",
      " 0.8  0.61 0.54 0.81 0.85 0.97 0.03 0.9  0.93 0.75 0.84 0.9  0.58 0.73\n",
      " 0.08 0.87 0.88 0.67 0.86 0.38 0.35 0.55 0.53 0.9  0.97 0.97 0.96 0.81\n",
      " 0.87 0.9  0.49 0.96 0.85 0.64 0.48 0.64 0.85 0.47 0.83 0.63 0.85 0.47\n",
      " 0.54 0.6  0.94 0.88 0.89 0.83 0.41 0.81 0.53 0.85 0.79 0.6  0.81 0.74\n",
      " 0.83 0.97 0.68 0.86 0.49 0.92 0.77 0.85 0.85 0.96 0.83 0.79 0.83 0.88\n",
      " 0.48 0.82 0.9  0.6  0.52 0.85 0.62 0.93 0.76 0.46 0.8  0.89 0.87 0.8\n",
      " 0.81 0.67 0.92 0.92 0.62 0.05 0.96 0.89 0.76 0.81 0.47 0.86 0.33 0.88\n",
      " 0.12 0.6  0.82 0.81 0.9  0.48 0.85 0.54 0.85 0.89 0.93 0.39 0.59 0.83\n",
      " 0.84 0.92 0.87 0.81 0.5  0.82 0.86 0.48 0.82 0.91 0.91 0.92 0.77 0.94\n",
      " 0.52 0.88 0.91 0.36 0.61 0.03 0.87 0.53 0.92 0.83 0.61 0.79 0.86 0.79\n",
      " 0.81 0.83 0.88 0.77 0.57 0.85 0.43 0.84 0.93 0.53 0.92 0.97 0.81 0.4\n",
      " 0.87 0.76 0.89 0.85 0.04 0.93 0.92 0.89 0.91 0.56 0.95 0.05 0.85 0.84\n",
      " 0.88 0.86 0.97 0.58 0.95 0.92 0.97 0.14 0.77 0.89 0.5  0.69 0.88 0.9\n",
      " 0.8  0.84 0.93 0.3  0.86 0.96 0.05 0.77 0.71 0.86 0.91 0.92 0.93 0.96\n",
      " 0.92 0.55 0.86 0.92 0.96 0.97 0.91 0.55 0.94 0.47 0.92 0.95 0.74 0.91\n",
      " 0.9  0.86 0.74 0.56 0.89 0.98 0.91 0.52 0.97 0.8  0.87 0.68 0.91 0.89\n",
      " 0.31 0.63 0.58 0.11 0.88 0.83 0.51 0.9  0.56 0.76 0.32 0.9  0.9  0.93\n",
      " 0.66 0.88 0.1  0.82 0.81 0.64 0.64 0.89 0.51 0.77 0.82 0.98 0.94 0.91\n",
      " 0.08 0.88 0.78 0.55 0.92 0.9  0.86 0.89 0.8  0.49 0.61 0.54 0.02 0.83\n",
      " 0.58 0.35 0.91 0.35 0.6  0.78 0.72 0.58 0.98 0.73 0.93 0.85 0.87 0.86\n",
      " 0.53 0.43 0.46 0.91 0.91 0.43 0.81 0.87 0.96 0.91 0.88 0.96 0.94 0.88\n",
      " 0.44 0.32 0.81 0.86 0.8  0.84 0.82 0.76 0.81 0.85 0.71 0.8  0.96 0.94\n",
      " 0.65 0.97 0.06 0.98 0.88 0.9  0.89 0.07 0.72 0.91 0.87 0.9  0.85 0.96\n",
      " 0.44 0.86 0.52 0.96 0.97 0.95 0.72 0.03 0.44 0.97 0.78 0.93 0.13 0.82\n",
      " 0.07 0.53 0.05 0.54 0.87 0.85 0.96 0.7  0.89 0.87 0.86 0.8  0.64 0.67\n",
      " 0.43 0.96 0.59 0.58 0.83 0.83 0.95 0.72 0.89 0.29 0.97 0.8  0.8  0.96\n",
      " 0.58 0.83 0.62 0.89 0.78 0.55 0.92 0.58 0.84 0.42 0.59 0.41 0.48 0.52\n",
      " 0.85 0.92 0.87 0.83 0.6  0.92 0.52 0.88 0.33 0.84 0.58 0.82 0.94 0.58\n",
      " 0.21 0.92 0.63 0.85 0.93 0.73 0.8  0.8  0.95 0.84 0.83 0.8  0.1  0.91\n",
      " 0.84 0.77 0.78 0.86 0.74 0.86 0.82 0.89 0.83 0.8  0.79 0.83 0.05 0.87\n",
      " 0.92 0.84 0.93 0.8  0.9  0.93 0.48 0.96 0.61 0.92 0.5  0.74 0.87 0.69\n",
      " 0.86 0.85 0.87 0.93 0.51 0.66 0.68 0.87 0.88 0.67 0.85 0.8  0.93 0.74\n",
      " 0.8  0.14 0.54 0.87 0.61 0.76 0.87 0.87 0.9  0.75 0.94 0.48 0.88 0.89\n",
      " 0.51 0.77 0.88 0.79 0.95 0.79 0.86 0.68 0.96 0.92 0.7  0.86 0.97 0.84\n",
      " 0.95 0.96 0.89 0.88 0.83 0.81 0.89 0.29 0.38 0.95 0.8  0.84 0.63 0.01\n",
      " 0.91 0.15 0.79 0.97 0.6  0.61 0.47 0.65 0.45 0.53 0.52 0.62 0.05 0.8\n",
      " 0.76 0.92 0.8  0.87 0.6  0.87 0.64 0.79 0.85 0.9  0.47 0.89 0.85 0.91\n",
      " 0.88 0.84 0.78 0.74 0.49 0.91 0.09 0.86 0.85 0.5  0.76 0.81 0.82 0.76\n",
      " 0.01 0.97 0.04 0.92 0.81 0.78 0.89 0.41 0.94 0.79 0.2  0.83 0.91 0.89\n",
      " 0.45 0.82 0.84 0.94 0.91 0.53 0.96 0.79 0.49 0.91 0.89 0.41 0.92 0.78\n",
      " 0.9  0.89 0.84 0.84 0.44 0.97 0.98 0.92 0.85 0.85 0.97 0.83 0.92 0.9\n",
      " 0.57 0.89 0.79 0.88 0.85 0.66 0.81 0.84 0.94 0.72 0.87 0.96 0.48 0.96\n",
      " 0.11 0.12 0.09 0.8  0.63 0.9  0.95 0.88 0.82 0.72 0.47 0.62 0.67 0.84\n",
      " 0.83 0.92 0.79 0.52 0.89 0.45 0.05 0.02 0.98 0.87 0.82 0.71 0.42 0.88\n",
      " 0.93 0.97 0.56 0.87 0.93 0.97 0.77 0.46 0.88 0.89 0.97 0.91 0.85 0.58\n",
      " 0.59 0.6  0.93 0.58 0.84 0.2  0.97 0.78 0.89 0.42 0.97 0.32 0.04 0.81\n",
      " 0.94 0.86 0.24 0.91 0.66 0.53 0.09 0.85 0.9  0.92 0.91 0.86 0.89 0.96\n",
      " 0.91 0.68 0.24 0.7  0.82 0.78 0.78 0.54 0.74 0.95 0.53 0.81 0.79 0.79\n",
      " 0.91 0.84 0.61 0.78 0.08 0.92 0.42 0.87 0.63 0.88 0.54 0.04 0.91 0.98\n",
      " 0.74 0.75 0.89 0.53 0.92 0.45 0.94 0.73 0.87 0.53 0.79 0.9  0.24 0.96\n",
      " 0.82 0.76 0.11 0.81 0.51 0.88 0.45 0.91 0.74 0.86 0.6  0.06 0.81 0.78\n",
      " 0.88 0.96 0.75 0.94 0.54 0.93 0.84 0.87 0.91 0.5  0.93 0.58 0.5  0.55\n",
      " 0.55 0.85 0.82 0.89 0.93 0.6  0.86 0.95 0.88 0.55 0.86 0.48 0.47 0.9\n",
      " 0.79 0.68 0.81 0.88 0.49 0.6  0.88 0.86 0.08 0.94 0.85 0.28 0.95 0.87\n",
      " 0.92 0.54 0.4  0.9  0.82 0.73 0.78 0.83 0.96 0.52 0.95 0.75 0.94 0.39\n",
      " 0.45 0.78 0.59 0.43 0.78 0.86 0.91 0.49 0.9  0.94 0.86 0.78 0.9  0.78\n",
      " 0.9  0.95 0.96 0.55 0.87 0.9  0.82 0.87 0.63 0.67 0.89 0.95 0.91 0.58\n",
      " 0.78 0.84 0.77 0.85 0.81 0.85 0.84 0.87 0.9  0.75 0.51 0.45 0.87 0.87\n",
      " 0.87 0.68 0.72 0.93 0.88 0.48 0.88 0.91 0.57 0.81 0.87 0.7  0.81 0.91\n",
      " 0.92 0.89 0.87 0.67 0.93 0.93 0.91 0.2  0.73 0.85 0.08 0.88 0.46 0.87\n",
      " 0.55 0.55 0.91 0.88 0.96 0.96 0.93 0.82 0.84 0.82 0.63 0.87 0.96 0.86\n",
      " 0.86 0.6  0.85 0.94 0.45 0.62 0.98 0.61 0.07 0.92 0.97 0.88 0.87 0.61\n",
      " 0.79 0.78 0.9  0.49 0.82 0.91 0.95 0.79 0.87 0.92 0.68 0.89 0.8  0.97\n",
      " 0.9  0.8  0.92 0.57 0.87 0.88 0.81 0.83 0.94 0.79 0.87 0.79 0.56 0.6\n",
      " 0.84 0.88 0.92 0.03 0.74 0.81 0.9  0.93 0.79 0.93 0.9  0.54 0.56 0.87\n",
      " 0.95 0.41 0.83 0.96 0.88 0.04 0.81 0.9  0.8  0.92 0.92 0.5  0.82 0.58\n",
      " 0.85 0.56 0.13 0.44 0.75 0.88 0.94 0.83 0.87 0.89 0.17 0.86 0.55 0.86\n",
      " 0.87 0.93 0.88 0.83 0.93 0.88 0.83 0.84 0.83 0.88 0.94 0.83 0.76 0.87\n",
      " 0.98 0.28 0.88 0.73 0.84 0.91 0.93 0.85 0.32 0.2  0.9  0.15 0.33 0.91\n",
      " 0.77 0.74 0.87 0.95 0.51 0.86 0.92 0.55 0.73 0.82 0.89 0.42 0.8  0.85\n",
      " 0.77 0.27 0.92 0.91 0.86 0.94 0.95 0.87 0.63 0.81 0.88 0.97 0.54 0.18\n",
      " 0.89 0.96 0.92 0.91 0.07 0.96 0.43 0.31 0.95 0.47 0.97 0.84 0.97 0.74\n",
      " 0.83 0.78 0.87 0.91 0.86 0.68 0.62 0.9  0.88 0.73 0.65 0.96 0.82 0.73\n",
      " 0.76 0.95 0.88 0.79 0.96 0.73 0.83 0.17 0.47 0.9  0.44 0.97 0.56 0.4\n",
      " 0.86 0.86 0.9  0.91 0.95 0.3  0.87 0.94 0.84 0.55 0.45 0.47 0.65 0.65\n",
      " 0.61 0.96 0.7  0.18 0.48 0.82 0.2  0.88 0.69 0.97 0.57 0.09 0.55 0.74\n",
      " 0.8  0.8  0.92 0.83 0.61 0.9  0.88 0.62 0.28 0.91 0.78 0.85 0.84 0.87\n",
      " 0.34 0.95 0.97 0.97 0.92 0.89 0.96 0.88 0.49 0.88 0.13 0.93 0.94 0.9\n",
      " 0.87 0.86 0.89 0.9  0.82 0.84 0.84 0.43 0.25 0.71 0.95 0.45 0.93 0.53\n",
      " 0.74 0.11 0.52 0.75 0.78 0.88 0.79 0.47 0.97 0.86 0.9  0.9  0.86 0.9\n",
      " 0.49 0.88 0.82 0.71 0.88 0.97 0.17 0.87 0.84 0.94 0.97 0.73 0.72 0.83\n",
      " 0.84 0.59 0.98 0.87 0.87 0.9  0.92 0.52 0.97 0.57 0.87 0.85 0.08 0.88\n",
      " 0.62 0.65 0.89 0.57 0.85 0.87 0.93 0.07 0.47 0.98 0.58 0.8  0.87 0.91\n",
      " 0.95 0.88 0.88 0.92 0.91 0.6  0.95 0.83 0.51 0.91 0.37 0.85 0.97 0.75\n",
      " 0.92 0.66 0.87 0.48 0.95 0.96 0.55 0.95 0.76 0.77 0.87 0.95 0.86 0.53\n",
      " 0.84 0.39 0.9  0.87 0.5  0.87 0.93 0.04 0.87 0.91 0.81 0.81 0.8  0.81\n",
      " 0.81 0.87 0.81 0.51 0.45 0.98 0.97 0.53 0.93 0.39 0.53 0.84 0.49 0.9\n",
      " 0.27 0.86 0.93 0.92 0.87 0.93 0.78 0.8  0.89 0.96 0.46 0.8  0.72 0.89\n",
      " 0.87 0.75 0.86 0.95 0.77 0.51 0.94 0.85 0.82 0.77 0.42 0.95 0.76 0.96\n",
      " 0.95 0.85 0.76 0.85 0.7  0.86 0.84 0.79 0.86 0.82 0.69 0.89 0.81 0.9\n",
      " 0.69 0.95 0.85 0.03 0.83 0.8  0.89 0.47 0.83 0.3  0.49 0.92 0.83 0.92\n",
      " 0.91 0.8  0.89 0.87 0.95 0.6  0.91 0.64 0.93 0.91 0.86 0.53 0.92 0.02\n",
      " 0.87 0.8  0.81 0.77 0.56 0.18 0.61 0.92 0.64 0.93 0.53 0.64 0.6  0.9\n",
      " 0.95 0.88 0.93 0.89 0.78 0.68 0.11 0.88 0.82 0.96 0.38 0.97 0.66 0.85\n",
      " 0.05 0.52 0.61 0.63 0.78 0.88 0.71 0.9  0.86 0.82 0.05 0.77 0.16 0.73\n",
      " 0.76 0.55 0.49 0.84 0.93 0.52 0.97 0.64 0.96 0.75 0.88 0.18 0.91 0.83\n",
      " 0.76 0.93 0.86 0.92 0.75 0.89 0.43 0.08 0.87 0.92 0.81 0.33 0.65 0.54\n",
      " 0.9  0.97 0.45 0.95 0.95 0.66 0.92 0.9  0.81 0.6  0.93 0.79 0.51 0.86\n",
      " 0.81 0.86 0.85 0.56 0.82 0.55 0.97 0.55 0.59 0.79 0.97 0.88 0.94 0.96\n",
      " 0.86 0.79 0.94 0.79 0.4  0.96 0.55 0.77 0.63 0.88 0.95 0.87 0.94 0.92\n",
      " 0.83 0.91 0.61 0.06 0.76 0.71 0.58 0.76 0.48 0.73 0.4  0.5  0.86 0.89\n",
      " 0.56 0.78 0.63 0.82 0.96 0.92 0.87 0.97 0.85 0.53 0.89 0.8  0.84 0.49\n",
      " 0.49 0.97 0.92 0.88 0.43 0.92 0.56 0.96 0.91 0.52 0.86 0.9  0.84 0.97\n",
      " 0.7  0.92 0.93 0.87 0.86 0.92 0.85 0.92 0.93 0.91 0.84 0.58 0.07 0.89\n",
      " 0.07 0.96 0.89 0.87 0.7  0.42 0.79 0.96 0.89 0.09 0.78 0.93 0.9  0.84\n",
      " 0.46 0.52 0.96 0.55 0.83 0.48 0.93 0.98 0.62 0.89 0.39 0.7  0.88 0.56\n",
      " 0.77 0.47 0.35 0.6  0.87 0.41 0.56 0.67 0.51 0.46 0.86 0.6  0.53 0.86\n",
      " 0.92 0.84 0.09 0.83 0.59 0.83 0.61 0.51 0.87 0.79 0.41 0.76 0.5  0.81\n",
      " 0.81 0.93 0.79 0.6  0.86 0.5  0.85 0.98 0.63 0.95 0.52 0.89 0.87 0.61\n",
      " 0.49 0.55 0.22 0.89 0.81 0.56 0.55 0.89 0.31 0.96 0.95 0.46 0.89 0.55\n",
      " 0.9  0.61 0.91 0.83 0.92 0.58 0.89 0.57 0.82 0.85 0.92 0.5  0.79 0.97\n",
      " 0.52 0.6  0.9  0.96 0.88 0.5  0.87 0.41 0.89 0.76 0.92 0.89 0.8  0.87\n",
      " 0.43 0.53 0.91 0.78 0.69 0.02 0.97 0.23 0.9  0.93 0.77 0.89 0.81 0.91\n",
      " 0.86 0.87 0.75 0.9  0.96 0.92 0.38 0.91 0.89 0.02 0.58 0.79 0.95 0.63\n",
      " 0.33 0.94 0.67 0.81 0.94 0.41 0.91 0.81 0.89 0.9  0.73 0.62 0.83 0.7\n",
      " 0.8  0.84 0.55 0.94 0.96 0.9  0.88 0.88 0.89 0.78 0.04 0.83 0.96 0.94\n",
      " 0.93 0.26 0.94 0.45 0.78 0.82 0.5  0.17 0.9  0.92 0.47 0.82 0.14 0.86\n",
      " 0.92 0.83 0.49 0.89 0.89 0.39 0.87 0.84 0.92 0.77 0.92 0.56 0.92 0.61\n",
      " 0.85 0.48 0.96 0.85 0.91 0.71 0.92 0.8  0.56 0.54 0.55 0.87 0.38 0.89\n",
      " 0.89 0.49 0.83 0.84 0.95 0.87 0.97 0.5  0.95 0.41 0.89 0.96 0.83 0.87\n",
      " 0.94 0.15 0.79 0.86 0.73 0.92 0.93 0.85 0.56 0.86 0.92 0.89 0.67 0.56\n",
      " 0.86 0.76 0.43 0.82 0.77 0.59 0.59 0.36 0.59 0.91 0.42 0.76 0.81 0.03\n",
      " 0.71 0.6  0.48 0.92 0.8  0.92 0.87 0.94 0.57 0.82 0.92 0.91 0.86 0.77\n",
      " 0.9  0.68 0.87 0.79 0.73 0.81 0.92 0.9  0.51 0.43 0.86 0.8  0.56 0.66\n",
      " 0.78 0.07 0.2  0.97 0.91 0.88 0.83 0.87 0.77 0.9  0.87 0.77 0.86 0.06\n",
      " 0.44 0.87 0.69 0.89 0.6  0.68 0.98 0.83 0.91 0.97 0.87 0.94 0.77 0.88\n",
      " 0.85 0.54 0.55 0.94 0.84 0.57 0.81 0.48 0.92 0.92 0.85 0.97 0.85 0.85\n",
      " 0.68 0.91 0.76 0.76 0.96 0.59 0.59 0.45 0.24 0.92 0.88 0.57 0.08 0.96\n",
      " 0.91 0.84 0.97 0.86 0.91 0.63 0.56 0.05 0.89 0.31 0.87 0.71 0.74 0.76\n",
      " 0.98 0.88 0.96 0.97 0.82 0.47 0.87 0.85 0.98 0.9  0.83 0.79 0.7  0.81\n",
      " 0.92 0.95 0.88 0.71 0.82 0.44 0.58 0.83 0.96 0.37 0.6  0.54 0.57 0.54\n",
      " 0.82 0.86 0.8  0.55 0.74 0.57 0.59 0.8  0.03 0.52 0.03 0.91 0.71 0.87\n",
      " 0.92 0.96 0.11 0.59 0.74 0.09 0.95 0.49 0.41 0.82 0.43 0.98 0.92 0.85\n",
      " 0.59 0.81 0.84 0.43 0.91 0.96 0.78 0.81 0.89 0.68 0.98 0.3  0.86 0.62\n",
      " 0.95 0.72 0.78 0.79 0.44 0.67 0.83 0.82 0.75 0.87 0.55 0.9  0.77 0.75\n",
      " 0.91 0.87 0.53 0.39 0.85 0.82 0.83 0.91 0.6  0.71 0.82 0.89 0.93 0.25\n",
      " 0.91 0.74 0.19 0.87 0.86 0.83 0.89 0.83 0.87 0.9  0.56 0.62 0.51 0.92\n",
      " 0.83 0.96 0.86 0.84 0.62 0.96 0.85 0.66 0.15 0.91 0.52 0.96 0.72 0.67\n",
      " 0.82 0.92 0.53 0.79 0.76 0.95 0.79 0.76 0.8  0.97 0.89 0.91 0.85 0.57\n",
      " 0.96 0.8  0.54 0.48 0.65 0.91 0.93 0.7  0.96 0.93 0.79 0.83 0.73 0.49\n",
      " 0.93 0.88 0.92 0.06 0.8  0.92 0.79 0.1  0.93 0.95 0.83 0.89 0.63 0.48\n",
      " 0.86 0.87 0.92 0.78 0.65 0.61 0.89 0.78 0.05 0.84 0.78 0.61 0.95 0.85\n",
      " 0.03 0.85 0.91 0.9  0.81 0.84 0.81 0.96 0.91 0.8  0.87 0.87 0.92 0.75\n",
      " 0.9  0.8  0.83 0.87 0.48 0.47 0.88 0.97 0.87 0.78 0.42 0.81 0.55 0.95\n",
      " 0.64 0.86 0.8  0.8  0.44 0.84 0.93 0.75 0.67 0.83 0.89 0.91 0.08 0.69\n",
      " 0.76 0.64 0.55 0.95 0.87 0.81 0.93 0.9  0.82 0.97 0.53 0.88 0.57 0.29\n",
      " 0.86 0.93 0.55 0.08 0.83 0.96 0.87 0.94 0.98 0.89 0.87 0.92 0.82 0.96\n",
      " 0.65 0.95 0.77 0.87 0.37 0.57 0.92 0.56 0.67 0.92 0.83 0.91 0.93 0.7\n",
      " 0.84 0.47 0.87 0.85 0.06 0.72 0.92 0.33 0.84 0.6  0.86 0.93 0.76 0.44\n",
      " 0.58 0.94 0.96 0.91 0.92 0.53 0.62 0.58 0.53 0.86 0.79 0.93 0.98 0.44\n",
      " 0.33 0.91 0.92 0.56 0.75 0.92 0.92 0.87 0.66 0.85 0.44 0.23 0.85 0.85\n",
      " 0.86 0.59 0.74 0.84 0.89 0.93 0.51 0.96 0.15 0.42 0.82 0.91 0.84 0.82\n",
      " 0.31 0.03 0.88 0.92 0.82 0.96 0.36 0.93 0.92 0.44 0.81 0.49 0.87 0.89\n",
      " 0.83 0.72 0.54 0.02 0.92 0.83 0.84 0.75 0.92 0.85 0.98 0.49 0.83 0.82\n",
      " 0.92 0.74 0.93 0.45 0.89 0.65 0.87 0.81 0.47 0.73 0.79 0.68 0.15 0.61\n",
      " 0.2  0.12 0.86 0.82 0.74 0.89 0.97 0.84 0.88 0.92 0.57 0.45 0.11 0.82\n",
      " 0.82 0.67 0.22 0.88 0.93 0.89 0.91 0.8  0.41 0.7  0.42 0.4  0.95 0.79\n",
      " 0.74 0.97 0.51 0.89 0.87 0.91 0.77 0.86 0.73 0.9  0.87 0.58 0.81 0.6\n",
      " 0.89 0.45 0.84 0.83 0.52 0.38 0.45 0.87 0.88 0.87 0.85 0.5  0.82 0.48\n",
      " 0.43 0.51 0.75 0.96 0.97 0.14 0.81 0.42 0.91 0.5  0.8  0.97 0.74 0.86\n",
      " 0.88 0.84 0.9  0.96 0.58 0.85 0.09 0.64 0.84 0.93 0.9  0.85 0.09 0.82\n",
      " 0.9  0.88 0.82 0.57 0.88 0.97 0.09 0.58 0.72 0.97 0.83 0.88 0.82 0.9\n",
      " 0.97 0.89 0.47 0.91 0.93 0.93 0.97 0.98 0.83 0.57 0.92 0.45 0.85 0.55\n",
      " 0.79 0.92 0.89 0.62 0.49 0.86 0.84 0.92 0.84 0.8  0.92 0.92 0.86 0.52\n",
      " 0.75 0.77 0.43 0.57 0.62 0.8  0.98 0.66 0.73 0.87 0.95 0.88 0.72 0.91\n",
      " 0.92 0.88 0.81 0.86 0.91 0.91 0.62 0.51 0.96 0.16 0.68 0.9  0.59 0.72\n",
      " 0.86 0.7  0.17 0.91 0.92 0.42 0.55 0.66 0.55 0.93 0.95 0.9  0.63 0.83\n",
      " 0.97 0.98 0.55 0.85 0.92 0.87 0.89 0.52 0.67 0.87 0.91 0.56 0.88 0.39\n",
      " 0.92 0.42 0.49 0.89 0.54 0.92 0.92 0.76 0.88 0.94 0.48 0.72 0.71 0.73\n",
      " 0.53 0.94 0.83 0.55 0.11 0.86 0.52 0.63 0.3  0.81 0.9  0.02 0.93 0.61\n",
      " 0.86 0.46 0.9  0.73 0.94 0.74 0.87 0.95 0.82 0.47 0.9  0.09 0.83 0.93\n",
      " 0.98 0.71 0.86 0.77 0.88 0.78 0.5  0.7  0.9  0.94 0.54 0.8  0.96 0.75\n",
      " 0.51 0.59 0.05 0.86 0.55 0.43 0.03 0.98 0.87 0.58 0.54 0.61 0.56 0.4\n",
      " 0.5  0.93 0.86 0.88 0.89 0.3  0.03 0.79 0.98 0.85 0.5  0.94 0.75 0.94\n",
      " 0.85 0.94 0.81 0.84 0.81 0.89 0.86 0.55 0.45 0.53 0.82 0.94 0.47 0.91\n",
      " 0.89 0.88 0.8  0.94 0.61 0.83 0.9  0.79 0.97 0.97 0.95 0.9  0.85 0.88\n",
      " 0.66 0.91 0.9  0.07 0.55 0.79 0.89 0.85 0.59 0.82 0.94 0.63 0.05 0.86\n",
      " 0.89 0.7  0.91 0.93 0.8  0.92 0.92 0.8  0.84 0.92 0.5  0.81 0.83 0.92\n",
      " 0.8  0.61 0.04 0.49 0.97 0.96 0.55 0.9  0.93 0.46 0.93 0.8  0.67 0.72\n",
      " 0.48 0.95 0.81 0.59 0.86 0.28 0.89 0.86 0.93 0.77 0.64 0.68 0.91 0.91\n",
      " 0.86 0.88 0.84 0.28 0.55 0.93 0.49 0.78 0.86 0.77 0.79 0.81 0.87 0.89\n",
      " 0.49 0.88 0.54 0.84 0.87 0.59 0.59 0.9  0.72 0.82 0.64 0.8  0.76 0.85\n",
      " 0.89 0.15 0.62 0.95 0.89 0.92 0.87 0.96 0.13 0.71 0.98 0.9  0.91 0.84\n",
      " 0.87 0.71 0.78 0.87 0.89 0.96 0.75 0.55 0.79 0.88 0.64 0.36 0.91 0.91\n",
      " 0.81 0.91 0.83 0.79 0.72 0.83 0.9  0.83 0.86 0.82 0.81 0.52 0.81 0.79\n",
      " 0.89 0.93 0.86 0.95 0.85 0.84 0.94 0.85 0.56 0.68 0.87 0.93 0.97 0.9\n",
      " 0.89 0.91 0.17 0.95 0.5  0.97 0.96 0.86 0.84 0.57 0.46 0.87 0.8  0.79\n",
      " 0.85 0.92 0.87 0.58 0.87 0.73 0.75 0.97 0.93 0.77 0.19 0.96 0.94 0.91\n",
      " 0.05 0.79 0.89 0.85 0.53 0.7  0.97 0.76 0.82 0.83 0.97 0.97 0.88 0.87\n",
      " 0.7  0.81 0.83 0.91 0.73 0.84 0.97 0.94 0.85 0.9  0.88 0.97 0.82 0.98\n",
      " 0.81 0.65 0.59 0.86 0.03 0.83 0.46 0.88 0.82 0.96 0.92 0.5  0.88 0.84\n",
      " 0.64 0.83 0.55 0.73 0.85 0.96 0.87 0.35 0.8  0.74 0.92 0.59 0.41 0.65\n",
      " 0.13 0.9  0.96 0.92 0.48 0.49 0.79 0.8  0.79 0.8  0.62 0.65 0.92 0.97\n",
      " 0.75 0.2  0.59 0.88 0.91 0.96 0.71 0.92 0.84 0.81 0.97 0.57 0.93 0.55\n",
      " 0.48 0.93 0.92 0.54 0.95 0.75 0.89 0.73 0.55 0.95 0.9  0.87 0.53 0.88\n",
      " 0.88 0.8  0.97 0.38 0.87 0.84 0.87 0.81 0.94 0.91 0.91 0.86 0.83 0.54\n",
      " 0.92 0.89 0.76 0.49 0.97 0.07 0.81 0.91 0.63 0.91 0.95 0.73 0.84 0.67\n",
      " 0.85 0.14 0.92 0.96 0.94 0.96 0.83 0.89 0.92 0.79 0.97 0.79 0.9  0.84\n",
      " 0.97 0.62 0.93 0.06 0.51 0.91 0.48 0.67 0.86 0.43 0.86 0.86 0.77 0.53\n",
      " 0.92 0.78 0.58 0.35 0.96 0.97 0.79 0.79 0.92 0.46 0.37 0.6  0.82 0.77\n",
      " 0.9  0.62 0.88 0.97 0.77 0.71 0.87 0.81 0.93 0.96 0.91 0.8  0.73 0.87\n",
      " 0.75 0.82 0.92 0.74 0.95 0.91 0.75 0.79 0.85 0.7  0.49 0.87 0.87 0.86\n",
      " 0.02 0.98 0.87 0.59 0.96 0.7  0.85 0.76 0.39 0.82 0.93 0.91 0.97 0.92\n",
      " 0.88 0.77 0.85 0.84 0.65 0.54 0.97 0.61 0.88 0.87 0.68 0.8  0.53 0.79\n",
      " 0.53 0.41 0.96 0.82 0.8  0.5  0.76 0.27 0.83 0.14 0.83 0.96 0.81 0.56\n",
      " 0.88 0.97 0.83 0.58 0.03 0.95 0.88 0.83 0.78 0.61 0.76 0.82 0.5  0.8\n",
      " 0.96 0.96 0.73 0.74 0.96 0.87 0.91 0.83 0.76 0.54 0.73 0.45 0.86 0.87\n",
      " 0.46 0.88 0.64 0.71 0.84 0.91 0.76 0.87 0.48 0.78 0.9  0.76 0.78 0.34\n",
      " 0.14 0.61 0.9  0.92 0.76 0.87 0.91 0.88 0.96 0.83 0.53 0.91 0.77 0.89\n",
      " 0.92 0.96 0.88 0.59 0.84 0.92 0.35 0.89 0.82 0.84 0.74 0.88 0.85 0.86\n",
      " 0.87 0.84 0.92 0.76 0.84 0.78 0.44 0.79 0.91 0.22 0.84 0.92 0.85 0.87\n",
      " 0.93 0.92 0.72 0.83 0.87 0.9  0.95 0.38 0.68 0.83 0.9  0.71 0.9  0.62\n",
      " 0.87 0.82 0.96 0.29 0.67 0.75 0.19 0.58 0.93 0.83 0.56 0.98 0.92 0.81\n",
      " 0.57 0.79 0.84 0.97 0.97 0.91 0.79 0.97 0.89 0.53 0.97 0.04 0.93 0.58\n",
      " 0.82 0.86 0.49 0.76 0.84 0.91 0.85 0.52 0.91 0.8  0.91 0.75 0.45 0.9\n",
      " 0.02 0.55 0.69 0.92 0.74 0.93 0.75 0.94 0.7  0.87 0.88 0.03 0.89 0.89\n",
      " 0.72 0.9  0.98 0.61 0.7  0.89 0.82 0.88 0.13 0.48 0.91 0.8  0.45 0.87\n",
      " 0.86 0.54 0.64 0.76 0.9  0.84 0.96 0.91 0.52 0.5  0.91 0.96 0.97 0.91\n",
      " 0.8  0.61 0.87 0.86 0.51 0.65 0.77 0.6  0.83 0.88 0.91 0.92 0.92 0.9\n",
      " 0.77 0.71 0.87 0.92 0.02 0.68 0.76 0.73 0.55 0.75 0.71 0.65 0.75 0.47\n",
      " 0.69 0.89 0.88 0.52 0.52 0.87 0.91 0.92 0.78 0.88 0.83 0.96 0.7  0.86\n",
      " 0.83 0.89 0.9  0.91 0.48 0.74 0.83 0.82 0.53 0.85 0.86 0.51 0.92 0.54\n",
      " 0.07 0.23 0.63 0.93 0.86 0.59 0.69 0.54 0.45 0.79 0.6  0.91 0.51 0.97\n",
      " 0.6  0.6  0.84 0.84 0.56 0.96 0.62 0.5  0.86 0.63 0.95 0.15 0.84 0.82\n",
      " 0.48 0.88 0.84 0.85 0.48 0.69 0.44 0.97 0.75 0.9  0.89 0.58 0.51 0.5\n",
      " 0.91 0.68 0.54 0.48 0.95 0.83 0.74 0.9  0.82 0.85 0.78 0.82 0.85 0.44\n",
      " 0.72 0.88 0.89 0.91 0.87 0.9  0.94 0.77 0.93 0.77 0.96 0.89 0.84 0.92\n",
      " 0.84 0.94 0.64 0.97 0.71 0.03 0.91 0.76 0.39 0.35 0.78 0.8  0.97 0.85\n",
      " 0.81 0.06 0.87 0.37 0.59 0.55 0.94 0.97 0.88 0.43 0.93 0.76 0.8  0.9\n",
      " 0.87 0.48 0.92 0.79 0.93 0.96 0.86 0.88 0.97 0.11 0.45 0.86 0.86 0.88\n",
      " 0.94 0.84 0.95 0.87 0.9  0.89 0.89 0.77 0.74 0.38 0.86 0.68 0.88 0.44\n",
      " 0.79 0.41 0.9  0.73 0.88 0.25 0.76 0.71 0.89 0.84 0.77 0.74 0.82 0.05\n",
      " 0.92 0.55 0.55 0.91 0.34 0.67 0.85 0.71 0.92 0.83 0.82 0.83 0.97 0.5\n",
      " 0.91 0.57 0.88 0.97 0.6  0.83 0.8  0.97 0.66 0.1  0.92 0.45 0.85 0.93\n",
      " 0.83 0.86 0.98 0.95 0.84 0.78 0.87 0.24 0.9  0.87 0.87 0.87 0.78 0.77\n",
      " 0.81 0.38 0.67 0.83 0.79 0.63 0.87 0.92 0.51 0.84 0.84 0.93 0.96 0.87\n",
      " 0.02 0.92 0.53 0.86 0.47 0.75 0.89 0.78 0.8  0.8  0.97 0.92 0.91 0.91\n",
      " 0.81 0.76 0.97 0.88 0.95 0.6  0.82 0.83 0.93 0.92 0.84 0.91 0.94 0.53\n",
      " 0.83 0.64 0.62 0.87 0.88 0.41 0.79 0.87 0.58 0.84 0.81 0.64 0.77 0.95\n",
      " 0.9  0.66 0.83 0.86 0.69 0.85 0.81 0.65 0.96 0.79 0.97 0.87 0.45 0.89\n",
      " 0.97 0.44 0.81 0.91 0.77 0.87 0.42 0.97 0.97 0.04 0.92 0.38 0.44 0.73\n",
      " 0.76 0.51 0.94 0.67 0.96 0.54 0.97 0.79 0.59 0.82 0.9  0.81 0.63 0.71\n",
      " 0.94 0.24 0.81 0.83 0.79 0.91 0.74 0.95 0.83 0.89 0.59 0.71 0.79 0.43\n",
      " 0.91 0.81 0.79 0.85 0.85 0.96 0.83 0.5  0.87 0.95 0.74 0.82 0.85 0.89\n",
      " 0.5  0.51 0.91 0.05 0.6  0.49 0.77 0.93 0.73 0.82 0.54 0.49 0.09 0.82\n",
      " 0.75 0.97 0.49 0.84 0.76 0.96 0.83 0.55 0.9  0.75 0.16 0.9  0.87 0.65\n",
      " 0.97 0.76 0.92 0.07 0.98 0.95 0.93 0.59 0.84 0.93 0.5  0.51 0.84 0.85\n",
      " 0.81 0.94 0.85 0.48 0.81 0.52 0.77 0.93 0.75 0.93 0.76 0.8  0.88 0.95\n",
      " 0.91 0.75 0.87 0.58 0.88 0.94 0.81 0.88 0.91 0.92 0.8  0.54 0.88 0.49\n",
      " 0.84 0.34 0.88 0.8  0.72 0.81 0.64 0.78 0.03 0.37 0.6  0.62 0.55 0.97\n",
      " 0.48 0.98 0.89 0.54 0.76 0.9  0.79 0.9  0.83 0.02 0.83 0.88 0.92 0.95\n",
      " 0.95 0.54 0.89 0.85 0.95 0.29 0.79 0.82 0.82 0.86 0.82 0.49 0.92 0.59\n",
      " 0.68 0.91 0.91 0.87 0.77 0.55 0.09 0.89 0.48 0.79 0.96 0.92 0.98 0.85\n",
      " 0.83 0.87 0.97 0.93 0.92 0.96 0.74 0.88 0.82 0.69 0.86 0.76 0.51 0.68\n",
      " 0.93 0.24 0.98 0.8  0.86 0.46 0.81 0.19 0.85 0.93 0.75 0.92 0.97 0.79\n",
      " 0.81 0.89 0.87 0.97 0.86 0.88 0.93 0.23 0.28 0.67 0.85 0.49 0.83 0.53\n",
      " 0.95 0.88 0.47 0.86 0.8  0.87 0.5  0.84 0.54 0.42 0.85 0.59 0.75 0.19\n",
      " 0.85 0.48 0.92 0.94 0.76 0.96 0.83 0.96 0.48 0.85 0.89 0.33 0.86 0.49\n",
      " 0.5  0.49 0.82 0.02 0.82 0.97 0.77 0.31 0.84 0.82 0.78 0.84 0.59 0.03\n",
      " 0.6  0.55 0.97 0.88 0.87 0.68 0.49 0.83 0.88 0.95 0.93 0.86 0.92 0.83\n",
      " 0.91 0.96 0.53 0.78 0.86 0.97 0.07 0.25 0.59 0.66 0.96 0.79 0.48 0.87\n",
      " 0.72 0.45 0.88 0.49 0.95 0.42 0.79 0.84 0.44 0.34 0.89 0.79 0.36 0.58\n",
      " 0.55 0.82 0.85 0.52 0.42 0.07 0.46 0.82 0.86 0.84 0.91 0.07 0.46 0.93\n",
      " 0.82 0.81 0.87 0.34 0.57 0.91 0.77 0.58 0.55 0.52 0.56 0.85 0.96 0.81\n",
      " 0.53 0.88 0.86 0.85 0.87 0.87 0.51 0.56 0.71 0.88 0.84 0.98 0.86 0.91\n",
      " 0.93 0.89 0.75 0.48 0.92 0.77 0.86 0.47 0.7  0.05 0.81 0.82 0.89 0.73\n",
      " 0.95 0.62 0.4  0.92 0.64 0.97 0.92 0.76 0.57 0.81 0.9  0.6  0.37 0.46\n",
      " 0.77 0.97 0.94 0.81 0.97 0.59 0.91 0.92 0.96 0.89 0.84 0.89 0.9  0.63\n",
      " 0.75 0.96 0.89 0.86 0.87 0.8  0.92 0.98 0.98 0.88 0.98 0.82 0.75 0.83\n",
      " 0.92 0.88 0.76 0.59 0.58 0.93 0.23 0.8  0.61 0.81 0.89 0.92 0.84 0.62\n",
      " 0.93 0.92 0.86 0.6  0.91 0.56 0.78 0.97 0.53 0.52 0.91 0.84 0.51 0.86\n",
      " 0.83 0.95 0.74 0.93 0.63 0.91 0.86 0.76 0.76 0.12 0.82 0.85 0.91 0.28\n",
      " 0.86 0.68 0.82 0.97 0.97 0.92 0.89 0.79 0.23 0.86 0.95 0.91 0.88 0.8\n",
      " 0.92 0.88 0.81 0.27 0.83 0.8  0.97 0.13 0.59 0.93 0.76 0.74 0.37 0.07\n",
      " 0.79 0.64 0.97 0.41 0.52 0.5  0.92 0.88 0.54 0.73 0.5  0.53 0.8  0.91\n",
      " 0.83 0.85 0.75 0.81 0.87 0.44 0.79 0.96 0.82 0.43 0.9  0.91 0.78 0.85\n",
      " 0.84 0.88 0.8  0.81 0.95 0.88 0.95 0.87 0.44 0.96 0.6  0.86 0.8  0.59\n",
      " 0.81 0.89 0.49 0.91 0.74 0.97 0.86 0.44 0.9  0.87 0.55 0.91 0.53 0.7\n",
      " 0.82 0.88 0.62 0.56 0.83 0.03 0.92 0.83 0.03 0.91 0.97 0.44 0.85 0.88\n",
      " 0.65 0.96 0.8  0.95 0.86 0.93 0.65 0.12 0.85 0.96 0.78 0.77 0.85 0.92\n",
      " 0.97 0.71 0.88 0.87 0.72 0.91 0.87 0.78 0.87 0.85 0.65 0.91 0.87 0.97\n",
      " 0.92 0.86 0.73 0.85 0.58 0.82 0.89 0.53 0.88 0.84 0.82 0.76 0.61 0.8\n",
      " 0.91 0.53 0.29 0.74 0.9  0.7  0.55 0.88 0.9  0.92 0.91 0.26 0.61 0.84\n",
      " 0.82 0.83 0.39 0.96 0.89 0.86 0.92 0.58 0.77 0.56 0.85 0.92 0.96 0.16\n",
      " 0.82 0.93 0.88 0.54 0.84 0.92 0.91 0.83 0.8  0.82 0.59 0.94 0.8  0.41\n",
      " 0.59 0.55 0.97 0.48 0.86 0.87 0.29 0.6  0.85 0.84 0.95 0.97 0.84 0.45\n",
      " 0.96 0.86 0.07 0.9  0.73 0.86 0.9  0.82 0.89 0.85 0.02 0.02 0.83 0.86\n",
      " 0.44 0.76 0.97 0.91 0.82 0.73 0.58 0.57 0.98 0.81 0.72 0.77 0.54 0.71\n",
      " 0.73 0.65 0.72 0.86 0.91 0.22 0.73 0.88 0.28 0.86 0.52 0.57 0.4  0.85\n",
      " 0.83 0.29 0.76 0.49 0.81 0.08 0.82 0.5  0.93 0.79 0.85 0.91 0.87 0.89\n",
      " 0.87 0.5  0.7  0.85 0.45 0.93 0.94 0.81 0.74 0.59 0.81 0.08 0.81 0.65\n",
      " 0.54 0.94 0.89 0.92 0.7  0.72 0.5  0.8  0.59 0.9  0.88 0.78 0.88 0.49\n",
      " 0.74 0.91 0.97 0.19 0.48 0.96 0.74 0.76 0.61 0.84 0.82 0.62 0.39 0.88\n",
      " 0.08 0.77 0.06 0.52 0.84 0.87 0.82 0.83 0.74 0.96 0.93 0.55 0.8  0.92\n",
      " 0.91 0.92 0.88 0.84 0.84 0.88 0.57 0.54 0.9  0.88 0.73 0.45 0.73 0.53\n",
      " 0.9  0.96 0.86 0.85 0.9  0.91 0.94 0.88 0.7  0.9  0.27 0.91 0.87 0.75\n",
      " 0.92 0.03 0.97 0.47 0.7  0.56 0.94 0.45 0.72 0.84 0.83 0.95 0.92 0.75\n",
      " 0.49 0.07 0.59 0.72 0.93 0.41 0.3  0.86 0.9  0.72 0.94 0.6  0.94 0.74\n",
      " 0.05 0.86 0.89 0.85 0.85 0.85 0.72 0.88 0.67 0.48 0.83 0.93 0.35 0.58\n",
      " 0.91 0.44 0.66 0.78 0.95 0.97 0.6  0.85 0.97 0.93 0.66 0.59 0.11 0.05\n",
      " 0.9  0.73 0.91 0.95 0.05 0.79 0.88 0.82 0.9  0.97 0.89 0.91 0.81 0.85\n",
      " 0.03 0.79 0.77 0.48 0.85 0.8  0.04 0.43 0.16 0.78 0.92 0.44 0.76 0.74\n",
      " 0.83 0.46 0.89 0.86 0.14 0.88 0.93 0.88 0.93 0.63 0.88 0.89 0.85 0.17\n",
      " 0.93 0.96 0.57 0.66 0.91 0.53 0.91 0.72 0.45 0.51 0.44 0.55 0.87 0.85\n",
      " 0.98 0.79 0.8  0.83 0.97 0.9  0.62 0.91 0.76 0.97 0.66 0.91 0.53 0.89\n",
      " 0.6  0.27 0.49 0.5  0.74 0.86 0.91 0.87 0.39 0.94 0.92 0.44 0.83 0.57\n",
      " 0.83 0.93 0.87 0.12 0.09 0.8  0.45 0.84 0.52 0.81 0.78 0.53 0.94 0.9\n",
      " 0.87 0.89 0.87 0.91 0.85 0.79 0.86 0.91 0.82 0.9  0.57 0.91 0.68 0.94\n",
      " 0.81 0.88 0.94 0.86 0.95 0.5  0.96 0.92 0.6  0.82 0.87 0.92 0.44 0.96\n",
      " 0.87 0.82 0.56 0.93 0.92 0.88 0.49 0.91 0.66 0.88 0.58 0.55 0.17 0.81\n",
      " 0.78 0.77 0.59 0.58 0.93 0.39 0.91 0.76 0.65 0.94 0.04 0.81 0.89 0.56\n",
      " 0.91 0.91 0.35 0.51 0.21 0.79 0.86 0.52 0.38 0.05 0.96 0.88 0.81 0.86\n",
      " 0.49 0.72 0.53 0.51 0.84 0.89 0.82 0.94 0.87 0.65 0.67 0.71 0.89 0.82\n",
      " 0.86 0.44 0.91 0.84 0.87 0.97 0.19 0.73 0.82 0.85 0.79 0.59 0.85 0.87\n",
      " 0.94 0.72 0.9  0.91 0.85 0.59 0.75 0.83 0.79 0.27 0.78 0.9  0.88 0.82\n",
      " 0.07 0.89 0.82 0.57 0.97 0.79 0.97 0.85 0.86 0.47 0.93 0.62 0.95 0.81\n",
      " 0.56 0.54 0.83 0.89 0.88 0.41 0.82 0.85 0.86 0.86 0.91 0.78 0.04 0.88\n",
      " 0.96 0.92 0.91 0.38 0.8  0.79 0.88 0.73 0.58 0.96 0.87 0.78 0.53 0.45\n",
      " 0.91 0.83 0.31 0.92 0.82 0.77 0.91 0.58 0.77 0.05 0.83 0.83 0.11 0.93\n",
      " 0.56 0.65 0.89 0.78 0.84 0.85 0.52 0.88 0.76 0.91 0.83 0.55 0.22 0.7\n",
      " 0.53 0.88 0.94 0.82 0.98 0.88 0.8  0.94 0.93 0.82 0.86 0.5  0.85 0.88\n",
      " 0.85 0.95 0.56 0.94 0.55 0.77 0.56 0.96 0.89 0.85 0.97 0.78 0.57 0.6\n",
      " 0.87 0.81 0.86 0.97 0.86 0.89 0.81 0.73 0.9  0.82 0.94 0.05 0.43 0.51\n",
      " 0.54 0.67 0.98 0.52 0.47 0.91 0.91 0.77 0.48 0.39 0.97 0.97 0.76 0.87\n",
      " 0.04 0.5  0.04 0.88 0.84 0.83 0.86 0.88 0.86 0.83 0.94 0.33 0.89 0.45\n",
      " 0.91 0.48 0.94 0.92 0.95 0.84 0.87 0.89 0.6  0.48 0.7  0.84 0.82 0.91\n",
      " 0.82 0.81 0.86 0.82 0.49 0.28 0.63 0.49 0.86 0.9  0.48 0.77 0.92 0.79\n",
      " 0.44 0.88 0.92 0.61 0.81 0.89 0.23 0.74 0.92 0.54 0.65 0.91 0.86 0.88\n",
      " 0.86 0.78 0.29 0.9  0.42 0.92 0.91 0.51 0.6  0.9  0.92 0.89 0.49 0.97\n",
      " 0.87 0.8  0.34 0.45 0.93 0.96 0.92 0.77 0.79 0.73 0.35 0.57 0.86 0.79\n",
      " 0.04 0.85 0.55 0.73 0.87 0.25 0.93 0.93 0.94 0.76 0.86 0.98 0.46 0.91\n",
      " 0.91 0.91 0.82 0.93 0.85 0.88 0.73 0.76 0.89 0.91 0.54 0.96 0.75 0.6\n",
      " 0.98 0.82 0.89 0.63 0.81 0.84 0.81 0.34 0.96 0.85 0.81 0.79 0.01 0.8\n",
      " 0.89 0.51 0.85 0.94 0.93 0.46 0.5  0.76 0.59 0.86 0.92 0.87 0.37 0.81\n",
      " 0.35 0.83 0.92 0.38 0.98 0.92 0.78 0.89 0.87 0.03 0.53 0.81 0.62 0.44\n",
      " 0.96 0.32 0.91 0.47 0.62 0.94 0.97 0.97 0.64 0.9  0.48 0.74 0.84 0.95\n",
      " 0.25 0.69 0.72 0.78 0.85 0.88 0.59 0.72 0.68 0.47 0.77 0.89 0.87 0.85\n",
      " 0.83 0.92 0.85 0.03 0.95 0.82 0.76 0.26 0.86 0.91 0.92 0.9  0.94 0.67\n",
      " 0.54 0.79 0.86 0.83 0.61 0.96 0.71 0.78 0.91 0.73 0.48 0.91 0.66 0.56\n",
      " 0.49 0.96 0.9  0.95 0.93 0.84 0.79 0.79 0.82 0.85 0.96 0.17 0.56 0.87\n",
      " 0.86 0.75 0.15 0.86 0.56 0.88 0.44 0.5  0.55 0.73 0.12 0.96 0.88 0.84\n",
      " 0.92 0.14 0.86 0.92 0.51 0.9  0.93 0.75 0.87 0.74 0.87 0.44 0.79 0.8\n",
      " 0.37 0.94 0.82 0.46 0.83 0.54 0.77 0.84 0.53 0.62 0.79 0.78 0.87 0.91\n",
      " 0.89 0.81 0.86 0.92 0.92 0.55 0.83 0.92 0.68 0.62 0.96 0.85 0.6  0.95\n",
      " 0.83 0.58 0.63 0.47 0.04 0.94 0.83 0.96 0.11 0.96 0.63 0.93 0.89 0.85\n",
      " 0.96 0.84 0.88 0.91 0.89 0.83 0.91 0.56 0.94 0.88 0.76 0.65 0.92 0.82\n",
      " 0.83 0.88 0.83 0.74 0.93 0.86 0.83 0.51 0.92 0.91 0.97 0.5  0.87 0.89\n",
      " 0.74 0.86 0.89 0.8  0.87 0.97 0.85 0.42 0.91 0.81 0.87 0.51 0.71 0.7\n",
      " 0.93 0.48 0.89 0.86 0.74 0.9  0.85 0.95 0.43 0.84 0.93 0.87 0.89 0.86\n",
      " 0.55 0.82 0.53 0.89 0.8  0.92 0.52 0.83 0.1  0.55 0.92 0.91 0.94 0.51\n",
      " 0.46 0.33 0.67 0.92 0.71 0.84 0.81 0.91 0.1  0.85 0.9  0.87 0.96 0.78\n",
      " 0.44 0.75 0.87 0.07 0.8  0.87 0.03 0.85 0.87 0.76 0.92 0.89 0.92 0.84\n",
      " 0.96 0.93 0.52 0.83 0.81 0.55 0.68 0.74 0.88 0.74 0.86 0.91 0.98 0.44\n",
      " 0.49 0.95 0.75 0.88 0.03 0.72 0.3  0.92 0.23 0.84 0.61 0.03 0.86 0.86\n",
      " 0.41 0.56 0.53 0.78 0.96 0.76 0.97 0.85 0.61 0.9  0.83 0.9  0.92 0.8\n",
      " 0.67 0.54 0.81 0.82 0.03 0.48 0.96 0.54 0.98 0.58 0.93 0.85 0.91 0.67\n",
      " 0.78 0.95 0.44 0.53 0.16 0.92 0.89 0.9  0.8  0.01 0.85 0.8  0.33 0.11\n",
      " 0.52 0.44 0.82 0.68 0.85 0.92 0.85 0.88 0.71 0.9  0.83 0.81 0.79 0.36\n",
      " 0.09 0.89 0.85 0.58 0.88 0.04 0.97 0.83 0.76 0.86 0.8  0.12 0.41 0.65\n",
      " 0.34 0.66 0.92 0.72 0.78 0.83 0.78 0.84 0.79 0.82 0.5  0.91 0.82 0.83\n",
      " 0.84 0.92 0.74 0.9  0.92 0.39 0.57 0.88 0.82 0.8  0.98 0.92 0.85 0.85\n",
      " 0.87 0.94 0.87 0.84 0.83 0.81 0.59 0.54 0.41 0.28 0.56 0.77 0.79 0.91\n",
      " 0.39 0.49 0.94 0.59 0.58 0.88 0.87 0.87 0.56 0.95 0.85 0.84 0.79 0.97\n",
      " 0.7  0.92 0.36 0.97 0.89 0.82 0.87 0.97 0.89 0.43 0.78 0.92 0.82 0.83\n",
      " 0.9  0.64 0.9  0.58 0.5  0.46 0.82 0.76 0.73 0.27 0.8  0.77 0.75 0.9\n",
      " 0.49 0.8  0.47 0.53 0.88 0.82 0.8  0.87 0.95 0.6  0.62 0.6  0.7  0.5\n",
      " 0.85 0.42 0.75 0.74 0.59 0.48 0.84 0.74 0.57 0.96 0.85 0.69 0.86 0.83\n",
      " 0.92 0.84 0.85 0.84 0.85 0.96 0.93 0.86 0.75 0.83 0.95 0.95 0.88 0.85\n",
      " 0.95 0.87 0.8  0.93 0.83 0.88 0.94 0.91 0.8  0.85 0.95 0.21 0.77 0.75\n",
      " 0.91 0.83 0.34 0.84 0.84 0.75 0.9  0.63 0.86 0.81 0.77 0.89 0.92 0.9\n",
      " 0.93 0.69 0.93 0.9  0.95 0.91 0.95 0.82 0.76 0.49 0.9  0.81 0.84 0.96\n",
      " 0.92 0.84 0.48 0.56 0.46 0.4  0.83 0.49 0.95 0.8  0.86 0.52 0.53 0.89\n",
      " 0.87 0.9  0.98 0.91 0.91 0.64 0.19 0.86 0.58 0.58 0.57 0.85 0.85 0.83\n",
      " 0.58 0.27 0.74 0.69 0.91 0.92 0.82 0.81 0.49 0.94 0.42 0.86 0.83 0.92\n",
      " 0.89 0.55 0.87 0.87 0.82 0.82 0.9  0.79 0.1  0.96 0.83 0.95 0.06 0.51\n",
      " 0.89 0.76 0.91 0.48 0.84 0.04 0.44 0.65 0.96 0.72 0.84 0.85 0.08 0.5\n",
      " 0.67 0.69 0.73 0.59 0.91 0.86 0.97 0.89 0.91 0.97 0.82 0.97 0.86 0.09\n",
      " 0.82 0.91 0.4  0.8  0.94 0.25 0.97 0.83 0.96 0.81 0.84 0.86 0.92 0.88\n",
      " 0.84 0.82 0.97 0.83 0.56 0.26 0.79 0.93 0.13 0.93 0.88 0.5  0.84 0.92\n",
      " 0.86 0.8  0.92 0.93 0.88 0.91 0.3  0.07 0.92 0.62 0.84 0.7  0.91 0.83\n",
      " 0.96 0.85 0.21 0.49 0.8  0.54 0.86 0.92 0.98 0.39 0.54 0.97 0.16 0.87\n",
      " 0.91 0.92 0.5  0.57 0.51 0.8  0.81 0.55 0.82 0.79 0.51 0.83 0.92 0.89\n",
      " 0.69 0.87 0.97 0.83 0.85 0.93 0.19 0.88 0.11 0.71 0.86 0.89 0.87 0.85\n",
      " 0.59 0.73 0.73 0.89 0.8  0.87 0.43 0.87 0.77 0.87 0.49 0.76 0.85 0.9\n",
      " 0.85 0.74 0.83 0.05 0.26 0.54 0.96 0.92 0.91 0.92 0.92 0.87 0.09 0.92\n",
      " 0.5  0.08 0.51 0.87 0.78 0.73 0.88 0.91 0.76 0.38 0.87 0.92 0.86 0.51\n",
      " 0.87 0.63 0.24 0.78 0.9  0.9  0.85 0.82 0.39 0.87 0.49 0.97 0.93 0.95\n",
      " 0.56 0.88 0.88 0.89 0.85 0.75 0.72 0.89 0.82 0.86 0.82 0.87 0.97 0.97\n",
      " 0.87 0.1  0.73 0.88 0.88 0.9  0.54 0.82 0.58 0.91 0.8  0.82 0.74 0.86\n",
      " 0.15 0.92 0.86 0.77 0.23 0.8  0.95 0.92 0.9  0.93 0.76 0.89 0.77 0.87\n",
      " 0.9  0.89 0.97 0.94 0.45 0.9  0.89 0.82 0.87 0.89 0.24 0.8  0.6  0.84\n",
      " 0.58 0.81 0.78 0.87 0.11 0.85 0.91 0.44 0.9  0.87 0.68 0.87 0.78 0.78\n",
      " 0.67 0.95 0.51 0.86 0.94 0.76 0.81 0.64 0.9  0.86 0.97 0.94 0.98 0.82\n",
      " 0.87 0.43 0.73 0.82 0.63 0.51 0.86 0.27 0.72 0.34 0.82 0.76 0.94 0.78\n",
      " 0.33 0.78 0.18 0.23 0.9  0.55 0.5  0.33 0.48 0.74 0.97 0.9  0.53 0.86\n",
      " 0.86 0.43 0.55 0.77 0.85 0.88 0.73 0.13 0.79 0.92 0.62 0.49 0.84 0.69\n",
      " 0.8  0.84 0.52 0.52 0.94 0.78 0.58 0.79 0.81 0.78 0.92 0.88 0.6  0.15\n",
      " 0.58 0.55 0.49 0.82 0.91 0.06 0.62 0.89 0.83 0.8  0.5  0.81 0.77 0.15\n",
      " 0.62 0.55 0.87 0.74 0.96 0.97 0.94 0.71 0.92 0.83 0.96 0.92 0.86 0.92\n",
      " 0.55 0.88 0.44 0.79 0.89 0.93 0.64 0.86 0.69 0.95 0.72 0.82 0.92 0.48\n",
      " 0.72 0.86 0.68 0.49 0.55 0.97 0.83 0.65 0.63 0.88 0.81 0.64 0.84 0.7\n",
      " 0.84 0.02 0.8  0.78 0.87 0.04 0.91 0.46 0.79 0.95 0.76 0.88 0.55 0.7\n",
      " 0.82 0.88 0.83 0.77 0.86 0.8  0.74 0.97 0.83 0.79 0.92 0.91 0.97 0.88\n",
      " 0.91 0.89 0.42 0.83 0.08 0.93 0.56 0.1  0.93 0.87 0.92 0.54 0.8  0.96\n",
      " 0.79 0.76 0.96 0.93 0.52 0.89 0.94 0.63 0.95 0.97 0.87 0.91 0.9  0.94\n",
      " 0.87 0.48 0.67 0.73 0.86 0.49 0.95 0.86 0.64 0.65 0.11 0.49 0.85 0.87\n",
      " 0.86 0.71 0.89 0.87 0.61 0.71 0.07 0.87 0.86 0.85 0.65 0.9  0.93 0.7\n",
      " 0.96 0.91 0.05 0.89 0.83 0.95 0.92 0.98 0.76 0.7  0.59 0.49 0.85 0.59\n",
      " 0.94 0.1  0.82 0.72 0.6  0.85 0.13 0.9  0.51 0.85 0.97 0.7  0.03 0.9\n",
      " 0.89 0.97 0.93 0.76 0.97 0.81 0.62 0.81 0.75 0.77 0.96 0.72 0.96 0.98\n",
      " 0.74 0.42 0.86 0.96 0.49 0.16 0.89 0.96 0.59 0.9  0.93 0.95 0.34 0.94\n",
      " 0.94 0.88 0.89 0.92 0.87 0.35 0.9  0.51 0.77 0.91 0.43 0.89 0.88 0.87\n",
      " 0.93 0.56 0.79 0.13 0.74 0.1  0.6  0.88 0.96 0.62 0.93 0.91 0.92 0.51\n",
      " 0.83 0.54 0.84 0.88 0.91 0.67 0.85 0.88 0.93 0.93 0.48 0.91 0.91 0.15\n",
      " 0.91 0.1  0.61 0.16 0.9  0.82 0.37 0.06 0.82 0.9  0.43 0.17 0.03 0.9\n",
      " 0.71 0.62 0.83 0.25 0.85 0.93 0.08 0.9  0.03 0.86 0.97 0.92 0.92 0.8\n",
      " 0.86 0.51 0.85 0.89 0.88 0.52 0.97 0.84 0.86 0.81 0.75 0.83 0.61 0.82\n",
      " 0.62 0.86 0.46 0.97 0.91 0.96 0.7  0.78 0.84 0.79 0.44 0.57 0.06 0.82\n",
      " 0.91 0.03 0.83 0.88 0.9  0.93 0.79 0.38 0.87 0.77 0.85 0.95 0.87 0.86\n",
      " 0.97 0.94 0.78 0.95 0.91 0.84 0.67 0.79 0.47 0.94 0.05 0.82 0.8  0.86\n",
      " 0.97 0.73 0.75 0.8  0.88 0.8  0.17 0.77 0.84 0.93 0.75 0.87 0.88 0.97\n",
      " 0.86 0.75 0.8  0.84 0.88 0.83 0.07 0.86 0.74 0.67 0.92 0.81 0.88 0.87\n",
      " 0.9  0.97 0.94 0.97 0.96 0.91 0.64 0.89 0.55 0.8  0.39 0.73 0.85 0.85\n",
      " 0.83 0.6  0.56 0.86 0.55 0.88 0.54 0.93 0.89 0.81 0.48 0.93 0.95 0.49\n",
      " 0.09 0.52 0.5  0.57 0.9  0.93 0.91 0.89 0.87 0.92 0.89 0.79 0.86 0.33\n",
      " 0.94 0.98 0.83 0.91 0.43 0.75 0.87 0.72 0.92 0.6  0.54 0.2  0.92 0.88\n",
      " 0.66 0.53 0.91 0.73 0.87 0.46 0.78 0.91 0.2  0.61 0.91 0.57 0.48 0.87\n",
      " 0.84 0.37 0.89 0.81 0.96 0.95 0.52 0.33 0.82 0.86 0.59 0.66 0.98 0.57\n",
      " 0.92 0.84 0.8  0.06 0.93 0.49 0.57 0.97 0.03 0.55 0.86 0.85 0.58 0.59\n",
      " 0.59 0.86 0.72 0.78 0.6  0.9  0.8  0.75 0.74 0.8  0.77 0.88 0.76 0.84\n",
      " 0.39 0.82 0.64 0.88 0.92 0.6  0.89 0.88 0.97 0.55 0.87 0.44 0.84 0.58\n",
      " 0.97 0.88 0.93 0.95 0.64 0.84 0.87 0.94 0.56 0.83 0.61 0.93 0.86 0.86\n",
      " 0.51 0.51 0.89 0.74 0.91 0.83 0.6  0.88 0.93 0.86 0.61 0.52 0.6  0.93\n",
      " 0.44 0.85 0.58 0.84 0.92 0.92 0.71 0.66 0.87 0.04 0.94 0.87 0.9  0.88\n",
      " 0.57 0.7  0.96 0.09 0.83 0.81 0.91 0.9  0.62 0.85 0.12 0.5  0.86 0.96\n",
      " 0.62 0.89 0.55 0.85 0.8  0.92 0.81 0.73 0.89 0.63 0.92 0.92 0.89 0.7\n",
      " 0.46 0.84 0.59 0.96 0.21 0.67 0.86 0.84 0.97 0.78 0.67 0.91 0.67 0.92\n",
      " 0.89 0.8  0.86 0.94 0.72 0.96 0.13 0.89 0.92 0.29 0.85 0.51 0.96 0.91\n",
      " 0.56 0.47 0.83 0.87 0.9  0.56 0.87 0.92 0.93 0.55 0.06 0.79 0.79 0.97\n",
      " 0.86 0.52 0.87 0.96 0.86 0.78 0.5  0.55 0.9  0.53 0.78 0.04 0.97 0.91\n",
      " 0.92 0.84 0.42 0.87 0.97 0.53 0.54 0.97 0.95 0.08 0.29 0.83 0.92 0.66\n",
      " 0.61 0.6  0.94 0.88 0.89 0.93 0.96 0.51 0.85 0.95 0.91 0.93 0.88 0.84\n",
      " 0.75 0.6  0.59 0.78 0.38 0.98 0.52 0.54 0.92 0.44 0.62 0.56 0.6  0.83\n",
      " 0.79 0.64 0.97 0.79 0.98 0.81 0.71 0.94 0.85 0.49 0.91 0.97 0.91 0.85\n",
      " 0.04 0.8  0.91 0.89 0.97 0.85 0.68 0.8  0.09 0.78 0.87 0.84 0.78 0.82\n",
      " 0.69 0.86 0.78 0.93 0.96 0.87 0.84 0.42 0.82 0.67 0.81 0.74 0.51 0.56\n",
      " 0.59 0.09 0.78 0.8  0.87 0.9  0.87 0.92 0.92 0.95 0.91 0.62 0.35 0.53\n",
      " 0.88 0.97 0.95 0.77 0.88 0.56 0.8  0.07 0.96 0.89 0.97 0.81 0.87 0.89\n",
      " 0.92 0.68 0.1  0.89 0.9  0.85 0.88 0.92 0.97 0.8  0.86 0.96 0.73 0.85\n",
      " 0.74 0.85 0.54 0.84 0.56 0.79 0.86 0.02 0.86 0.91 0.54 0.79 0.87 0.81\n",
      " 0.83 0.76 0.91 0.83 0.84 0.91 0.84 0.52 0.94 0.96 0.9  0.81 0.88 0.67\n",
      " 0.91 0.84 0.93 0.58 0.36 0.72 0.58 0.8  0.59 0.71 0.88 0.98 0.83 0.89\n",
      " 0.86 0.86 0.98 0.94 0.55 0.83 0.86 0.58 0.87 0.97 0.94 0.47 0.75 0.68\n",
      " 0.72 0.95 0.93 0.57 0.57 0.86 0.85 0.88 0.82 0.83 0.83 0.85 0.95 0.76\n",
      " 0.81 0.96 0.69 0.82 0.95 0.59 0.87 0.97 0.97 0.6  0.74 0.82 0.93 0.96\n",
      " 0.5  0.54 0.96 0.93 0.73 0.6  0.96 0.85 0.97 0.93 0.87 0.88 0.87 0.86\n",
      " 0.88 0.93 0.96 0.81 0.67 0.78 0.3  0.76 0.86 0.77 0.61 0.79 0.96 0.43\n",
      " 0.96 0.84 0.46 0.79 0.96 0.86 0.78 0.9  0.93 0.58 0.5  0.55 0.79 0.79\n",
      " 0.41 0.56 0.55 0.96 0.76 0.82 0.94 0.88 0.82 0.88 0.85 0.97 0.69 0.73\n",
      " 0.83 0.68 0.97 0.81 0.83 0.82 0.8  0.31 0.74 0.9  0.61 0.89 0.16 0.87\n",
      " 0.96 0.78 0.81 0.53 0.81 0.91 0.59 0.59 0.85 0.47 0.34 0.97 0.91 0.76\n",
      " 0.77 0.97 0.82 0.83 0.51 0.95 0.71 0.86 0.89 0.53 0.95 0.86 0.59 0.78\n",
      " 0.9  0.4  0.97 0.95 0.61 0.52 0.92 0.59 0.73 0.9  0.82 0.87 0.84 0.31\n",
      " 0.9  0.97 0.82 0.86 0.86 0.19 0.49 0.67 0.81 0.95 0.86 0.52 0.88 0.87\n",
      " 0.82 0.58 0.71 0.57 0.87 0.94 0.85 0.89 0.31 0.87 0.53 0.87 0.57 0.97\n",
      " 0.83 0.13 0.77 0.67 0.9  0.87 0.91 0.85 0.89 0.92 0.19 0.87 0.58 0.55\n",
      " 0.83 0.72 0.84 0.67 0.81 0.81 0.91 0.96 0.83 0.78 0.41 0.83 0.93 0.89\n",
      " 0.79 0.71 0.92 0.94 0.86 0.6  0.57 0.76 0.82 0.86 0.93 0.46 0.8  0.91\n",
      " 0.82 0.96 0.51 0.45 0.95 0.84 0.69 0.95 0.64 0.9  0.8  0.57 0.31 0.94\n",
      " 0.92 0.62 0.97 0.94 0.85 0.92 0.59 0.87 0.77 0.54 0.72 0.84 0.21 0.91\n",
      " 0.97 0.68 0.48 0.94 0.88 0.97 0.8  0.89 0.55 0.78 0.9  0.62 0.52 0.08\n",
      " 0.96 0.88 0.84 0.82 0.81 0.84 0.96 0.02 0.92 0.92 0.45 0.94 0.84 0.93\n",
      " 0.6  0.53 0.81 0.9  0.87 0.92 0.58 0.8  0.65 0.95 0.6  0.51 0.86 0.62\n",
      " 0.79 0.53 0.91 0.55 0.97 0.81 0.69 0.26 0.91 0.46 0.89 0.64 0.9  0.78\n",
      " 0.76 0.94 0.92 0.8  0.93 0.92 0.89 0.86 0.7  0.4  0.86 0.02 0.78 0.9\n",
      " 0.7  0.03 0.43 0.81 0.93 0.72 0.81 0.81 0.42 0.81 0.92 0.03 0.96 0.51\n",
      " 0.77 0.22 0.8  0.5  0.89 0.88 0.86 0.94 0.63 0.31 0.54 0.69 0.96 0.83\n",
      " 0.71 0.81 0.9  0.91 0.83 0.75 0.97 0.12 0.86 0.87 0.89 0.93 0.82 0.93\n",
      " 0.74 0.46 0.81 0.92 0.79 0.88 0.53 0.84 0.08 0.77 0.84 0.5  0.81 0.9\n",
      " 0.79 0.89 0.18 0.8  0.94 0.97 0.54 0.85 0.88 0.92 0.94 0.79 0.91 0.52\n",
      " 0.49 0.78 0.82 0.88 0.87 0.9  0.48 0.56 0.77 0.57 0.1  0.97 0.76 0.62\n",
      " 0.88 0.16 0.08 0.82 0.87 0.97 0.96 0.9  0.65 0.08 0.83 0.66 0.73 0.93\n",
      " 0.98 0.92 0.93 0.92 0.82 0.97 0.6  0.65 0.29 0.03 0.82 0.87 0.08 0.08\n",
      " 0.77 0.98 0.89 0.52 0.78 0.91 0.89 0.94 0.94 0.83 0.53 0.55 0.86 0.84\n",
      " 0.96 0.93 0.95 0.95 0.53 0.58 0.81 0.82 0.76 0.83 0.84 0.75 0.96 0.93\n",
      " 0.94 0.95 0.91 0.83 0.19 0.8  0.91 0.67 0.78 0.68 0.9  0.78 0.02 0.76\n",
      " 0.95 0.7  0.23 0.75 0.45 0.96 0.88 0.83 0.51 0.93 0.54 0.97 0.54 0.55\n",
      " 0.78 0.87 0.91 0.89 0.86 0.09 0.44 0.86 0.85 0.54 0.81 0.89 0.71 0.92\n",
      " 0.55 0.41 0.97 0.92 0.49 0.91 0.85 0.94 0.91 0.82 0.31 0.5  0.88 0.58\n",
      " 0.92 0.42 0.95 0.62 0.87 0.78 0.66 0.55 0.87 0.89 0.45 0.9  0.87 0.9\n",
      " 0.79 0.81 0.96 0.78 0.4  0.42 0.92 0.88 0.85 0.87 0.6  0.79 0.81 0.97\n",
      " 0.92 0.89 0.36 0.82 0.75 0.61 0.15 0.82 0.98 0.81 0.18 0.97 0.49 0.13\n",
      " 0.84 0.96 0.63 0.25 0.91 0.89 0.85 0.92 0.88 0.83 0.91 0.92 0.87 0.91\n",
      " 0.86 0.81 0.96 0.76 0.85 0.84 0.97 0.66 0.92 0.69 0.82 0.84 0.6  0.26\n",
      " 0.9  0.91 0.78 0.76 0.54 0.81 0.81 0.61 0.72 0.86 0.92 0.57 0.82 0.88\n",
      " 0.4  0.71 0.93 0.41 0.78 0.86 0.92 0.9  0.96 0.81 0.51 0.63 0.95 0.97\n",
      " 0.89 0.36 0.9  0.85 0.74 0.9  0.88 0.84 0.81 0.41 0.84 0.5  0.87 0.91\n",
      " 0.41 0.89 0.77 0.89 0.97 0.48 0.88 0.91 0.52 0.92 0.86 0.88 0.96 0.48\n",
      " 0.86 0.52 0.92 0.88 0.59 0.94 0.55 0.79 0.61 0.07 0.87 0.86 0.78 0.71\n",
      " 0.22 0.93 0.87 0.45 0.83 0.42 0.84 0.53 0.98 0.89 0.65 0.85 0.92 0.49\n",
      " 0.39 0.9  0.88 0.51 0.94 0.79 0.97 0.65 0.42 0.73 0.89 0.77 0.84 0.82\n",
      " 0.49 0.94 0.82 0.6  0.9  0.49 0.91 0.91 0.85 0.35 0.51 0.79 0.8  0.83\n",
      " 0.19 0.94 0.62 0.02 0.62 0.87 0.42 0.93 0.85 0.45 0.02 0.73 0.54 0.48\n",
      " 0.66 0.92 0.79 0.86 0.37 0.81 0.78 0.9  0.95 0.98 0.91 0.71 0.48 0.48\n",
      " 0.81 0.73 0.95 0.86 0.91 0.73 0.9  0.88 0.03 0.91 0.36 0.92 0.8  0.95\n",
      " 0.91 0.84 0.78 0.91 0.72 0.55 0.58 0.73 0.44 0.94 0.8  0.05 0.56 0.03\n",
      " 0.91 0.91 0.98 0.88 0.03 0.97 0.85 0.86 0.79 0.88 0.81 0.92 0.66 0.82\n",
      " 0.81 0.9  0.81 0.8  0.9  0.85 0.89 0.59 0.62 0.9  0.84 0.85 0.48 0.56\n",
      " 0.71 0.79 0.48 0.95 0.97 0.48 0.25 0.58 0.87 0.75 0.96 0.86 0.77 0.78\n",
      " 0.92 0.57 0.93 0.31 0.87 0.91 0.2  0.59 0.55 0.44 0.78 0.48 0.55 0.61\n",
      " 0.88 0.73 0.63 0.93 0.19 0.8  0.85 0.44 0.47 0.14 0.81 0.71 0.69 0.78\n",
      " 0.9  0.96 0.74 0.96 0.92 0.85 0.97 0.92 0.91 0.91 0.94 0.64 0.38 0.96\n",
      " 0.86 0.85 0.91 0.77 0.94 0.86 0.82 0.96 0.51 0.87 0.85 0.84 0.87 0.11\n",
      " 0.52 0.75 0.83 0.83 0.81 0.87 0.14 0.93 0.97 0.91 0.93 0.81 0.44 0.93\n",
      " 0.76 0.93 0.62 0.79 0.96 0.55 0.63 0.86 0.79 0.82 0.92 0.95 0.87 0.45\n",
      " 0.83 0.78 0.83 0.94 0.57 0.73 0.78 0.94 0.87 0.05 0.55 0.71 0.89 0.58\n",
      " 0.87 0.78 0.72 0.89 0.42 0.89 0.94 0.15 0.71 0.83 0.48 0.49 0.84 0.88\n",
      " 0.56 0.91 0.87 0.54 0.83 0.79 0.46 0.82 0.65 0.82 0.03 0.84 0.96 0.85\n",
      " 0.92 0.9  0.82 0.62 0.79 0.9  0.83 0.93 0.35 0.98 0.87 0.96 0.87 0.04\n",
      " 0.86 0.29 0.59 0.58 0.85 0.92 0.87 0.8  0.93 0.55 0.91 0.92 0.65 0.88\n",
      " 0.55 0.83 0.82 0.94 0.9  0.88 0.96 0.51 0.87 0.86 0.81 0.81 0.87 0.54\n",
      " 0.82 0.9  0.93 0.68 0.43 0.31 0.86 0.77 0.75 0.94 0.45 0.66 0.93 0.91\n",
      " 0.02 0.78 0.75 0.86 0.92 0.95 0.84 0.13 0.88 0.85 0.96 0.88 0.73 0.89\n",
      " 0.45 0.88 0.46 0.92 0.05 0.54 0.51 0.06 0.83 0.73 0.68 0.82 0.6  0.91\n",
      " 0.83 0.93 0.53 0.94 0.53 0.48 0.86 0.9  0.82 0.82 0.45 0.7  0.84 0.11\n",
      " 0.81 0.69 0.07 0.92 0.87 0.26 0.5  0.9  0.88 0.67 0.84 0.45 0.97 0.95\n",
      " 0.82 0.79 0.91 0.93 0.97 0.57 0.55 0.55 0.84 0.62 0.96 0.77 0.05 0.46\n",
      " 0.57 0.77 0.92 0.96 0.89 0.87 0.83 0.79 0.94 0.94 0.97 0.85 0.89 0.46\n",
      " 0.72 0.49 0.96 0.89 0.43 0.97 0.86 0.89 0.81 0.9  0.91 0.71 0.96 0.66\n",
      " 0.48 0.91 0.87 0.93 0.93 0.74 0.93 0.6  0.54 0.86 0.86 0.78 0.58 0.98\n",
      " 0.87 0.81 0.52 0.45 0.74 0.81 0.9  0.49 0.8  0.87 0.03 0.97 0.84 0.37\n",
      " 0.92 0.93 0.71 0.52 0.48 0.97 0.93 0.54 0.89 0.92 0.92 0.61 0.78 0.92\n",
      " 0.48 0.81 0.51 0.91 0.65 0.92 0.86 0.3  0.87 0.89 0.85 0.85 0.58 0.92\n",
      " 0.53 0.88 0.71 0.51 0.56 0.64 0.85 0.92 0.8  0.89 0.94 0.49 0.07 0.89\n",
      " 0.77 0.93 0.95 0.9  0.65 0.81 0.85 0.63 0.58 0.88 0.03 0.88 0.79 0.78\n",
      " 0.11 0.6  0.6  0.88 0.74 0.33 0.57 0.33 0.81 0.79 0.67 0.81 0.89 0.83\n",
      " 0.96 0.76 0.9  0.48 0.86 0.67 0.92 0.91 0.81 0.62 0.92 0.74 0.01 0.8\n",
      " 0.83 0.86 0.23 0.89 0.84 0.33 0.82 0.89 0.7  0.47 0.95 0.82 0.95 0.5\n",
      " 0.87 0.84 0.87 0.85 0.9  0.92 0.9  0.74 0.51 0.77 0.83 0.92 0.49 0.81\n",
      " 0.96 0.27 0.65 0.93 0.47 0.82 0.7  0.79 0.86 0.16 0.8  0.16 0.61 0.06\n",
      " 0.05 0.9  0.86 0.9  0.54 0.92 0.8  0.79 0.81 0.05 0.89 0.85 0.93 0.95\n",
      " 0.9  0.7  0.28 0.91 0.98 0.58 0.96 0.92 0.88 0.43 0.86 0.88 0.93 0.93\n",
      " 0.85 0.92 0.73 0.81 0.88 0.85 0.64 0.56 0.9  0.52 0.94 0.94 0.97 0.91\n",
      " 0.67 0.91 0.68 0.96 0.82 0.79 0.6  0.49 0.63 0.63 0.95 0.87 0.53 0.89\n",
      " 0.92 0.82 0.91 0.02 0.6  0.85 0.82 0.88 0.85 0.72 0.78 0.82 0.84 0.77\n",
      " 0.55 0.88 0.96 0.86 0.42 0.92 0.97 0.22 0.8  0.54 0.95 0.84 0.82 0.95\n",
      " 0.35 0.86 0.89 0.94 0.92 0.77 0.94 0.53 0.62 0.98 0.91 0.92 0.94 0.94\n",
      " 0.55 0.35 0.81 0.79 0.27 0.37 0.49 0.92 0.91 0.91 0.79 0.8  0.81 0.94\n",
      " 0.84 0.94 0.81 0.37 0.72 0.83 0.81 0.62 0.83 0.83 0.75 0.9  0.73 0.91\n",
      " 0.89 0.97 0.95 0.6  0.95 0.77 0.15 0.94 0.81 0.82 0.92 0.65 0.88 0.97\n",
      " 0.6  0.83 0.96 0.56 0.56 0.96 0.43 0.04 0.35 0.9  0.96 0.79 0.84 0.77\n",
      " 0.03 0.98 0.51 0.93 0.47 0.86 0.85 0.76 0.51 0.96 0.5  0.83 0.87 0.93\n",
      " 0.83 0.88 0.44 0.5  0.97 0.89 0.96 0.6  0.94 0.86 0.65 0.08 0.66 0.78\n",
      " 0.27 0.97 0.97 0.53 0.84 0.75 0.86 0.46 0.69 0.46 0.68 0.38 0.9  0.81\n",
      " 0.81 0.87 0.86 0.42 0.71 0.02 0.72 0.85 0.96 0.87 0.89 0.03 0.89 0.96\n",
      " 0.98 0.8  0.59 0.87 0.82 0.9  0.5  0.75 0.04 0.54 0.48 0.85 0.62 0.91\n",
      " 0.84 0.77 0.09 0.83 0.93 0.94 0.91 0.88 0.47 0.77 0.97 0.93 0.84 0.96\n",
      " 0.89 0.86 0.81 0.74 0.98 0.1  0.79 0.84 0.81 0.82 0.15 0.91 0.64 0.86\n",
      " 0.87 0.84 0.86 0.92 0.76 0.87 0.55 0.88 0.77 0.93 0.63 0.82 0.09 0.59\n",
      " 0.1  0.84 0.93 0.8  0.87 0.91 0.9  0.93 0.6  0.37 0.78 0.79 0.86 0.28\n",
      " 0.88 0.83 0.97 0.55 0.82 0.81 0.9  0.76 0.86 0.62 0.48 0.82 0.08 0.79\n",
      " 0.82 0.85 0.73 0.58 0.97 0.55 0.77 0.12 0.55 0.94 0.44 0.71 0.02 0.97\n",
      " 0.84 0.97 0.81 0.8  0.98 0.39 0.86 0.52 0.87 0.92 0.55 0.43 0.89 0.82\n",
      " 0.56 0.81 0.85 0.89 0.73 0.45 0.85 0.89 0.81 0.83 0.58 0.57 0.91 0.92\n",
      " 0.63 0.76 0.62 0.94 0.37 0.96 0.54 0.75 0.71 0.96 0.91 0.48 0.95 0.36\n",
      " 0.72 0.34 0.88 0.86 0.93 0.3  0.86 0.54 0.69 0.87 0.83 0.79 0.45 0.93\n",
      " 0.84 0.72 0.82 0.77 0.13 0.35 0.83 0.49 0.51 0.94 0.97 0.62 0.77 0.78\n",
      " 0.8  0.02 0.81 0.57 0.82 0.51 0.49 0.87 0.87 0.91 0.91 0.88 0.92 0.79\n",
      " 0.93 0.82 0.91 0.81 0.84 0.82 0.58 0.93 0.95 0.82 0.94 0.9  0.75 0.82\n",
      " 0.33 0.34 0.55 0.54 0.84 0.89 0.68 0.81 0.68 0.1  0.24 0.81 0.93 0.96\n",
      " 0.85 0.44 0.92 0.72 0.84 0.85 0.53 0.41 0.77 0.85 0.85 0.96 0.87 0.92\n",
      " 0.23 0.03 0.88 0.8  0.57 0.95 0.91 0.32 0.8  0.88 0.63 0.39 0.43 0.82\n",
      " 0.84 0.53 0.43 0.95 0.91 0.21 0.79 0.73 0.92 0.49 0.91 0.91 0.77 0.64\n",
      " 0.92 0.88 0.86 0.87 0.81 0.92 0.07 0.92 0.52 0.71 0.77 0.82 0.86 0.94\n",
      " 0.76 0.94 0.78 0.89 0.57 0.9  0.72 0.96 0.97 0.87 0.32 0.97 0.88 0.83\n",
      " 0.91 0.79 0.79 0.32 0.05 0.88 0.54 0.16 0.77 0.7  0.36 0.9  0.77 0.07\n",
      " 0.11 0.83 0.92 0.46 0.93 0.83 0.91 0.84 0.87 0.82 0.9  0.66 0.86 0.44\n",
      " 0.91 0.84 0.62 0.78 0.72 0.74 0.95 0.64 0.97 0.93 0.83 0.86 0.92 0.85\n",
      " 0.64 0.95 0.56 0.94 0.83 0.92 0.59 0.81 0.86 0.82 0.47 0.86 0.85 0.96\n",
      " 0.59 0.69 0.89 0.96 0.82 0.85 0.77 0.52 0.8  0.83 0.79 0.13 0.6  0.55\n",
      " 0.82 0.94 0.92 0.81 0.84 0.39 0.96 0.93 0.79 0.55 0.92 0.96 0.88 0.97\n",
      " 0.96 0.95 0.87 0.63 0.63 0.89 0.68 0.75 0.88 0.07 0.97 0.31 0.96 0.56\n",
      " 0.08 0.13 0.56 0.8  0.68 0.53 0.39 0.6  0.43 0.85 0.41 0.08 0.55 0.81\n",
      " 0.88 0.78 0.03 0.71 0.96 0.97 0.55 0.79 0.96 0.97 0.88 0.87 0.64 0.74\n",
      " 0.56 0.66 0.79 0.54 0.55 0.78 0.87 0.87 0.83 0.86 0.74 0.87 0.85 0.89\n",
      " 0.75 0.81 0.93 0.97 0.86 0.78 0.97 0.89 0.97 0.91 0.49 0.61 0.78 0.91\n",
      " 0.94 0.32 0.84 0.78 0.83 0.83 0.83 0.82 0.83 0.53 0.95 0.38 0.91 0.96\n",
      " 0.84 0.88 0.88 0.19 0.91 0.55 0.92 0.64 0.89 0.91 0.9  0.79 0.78 0.62\n",
      " 0.96 0.84 0.08 0.97 0.87 0.8  0.73 0.78 0.89 0.8  0.51 0.93 0.73 0.96\n",
      " 0.77 0.67 0.79 0.03 0.56 0.14 0.93 0.84 0.82 0.54 0.97 0.97 0.97 0.9\n",
      " 0.71 0.77 0.7  0.71 0.91 0.6  0.74 0.84 0.88 0.85 0.97 0.86 0.82 0.82\n",
      " 0.81 0.97 0.91 0.82 0.96 0.48 0.83 0.91 0.84 0.87 0.96 0.91 0.84 0.94\n",
      " 0.86 0.76 0.6  0.91 0.84 0.91 0.77 0.8  0.81 0.85 0.85 0.87 0.97 0.81\n",
      " 0.84 0.87 0.77 0.95 0.64 0.82 0.6  0.9  0.6  0.77 0.86 0.86 0.4  0.57\n",
      " 0.79 0.96 0.79 0.82 0.51 0.79 0.58 0.89 0.79 0.82 0.98 0.79 0.88 0.97\n",
      " 0.9  0.95 0.42 0.82 0.93 0.49 0.95 0.61 0.86 0.75 0.76 0.89 0.5  0.74\n",
      " 0.46 0.86 0.9  0.97 0.85]\n"
     ]
    },
    {
     "data": {
      "text/plain": [
       "0.83"
      ]
     },
     "execution_count": 187,
     "metadata": {},
     "output_type": "execute_result"
    }
   ],
   "source": [
    "f = model.predict_proba(X_test)[:,0].round(2)\n",
    "print(f)\n",
    "np.median(f)"
   ]
  },
  {
   "cell_type": "code",
   "execution_count": 242,
   "metadata": {},
   "outputs": [
    {
     "data": {
      "text/plain": [
       "9049"
      ]
     },
     "execution_count": 242,
     "metadata": {},
     "output_type": "execute_result"
    }
   ],
   "source": [
    "ff = model.transform(X_test)\n",
    "import sys\n",
    "import numpy\n",
    "numpy.set_printoptions(threshold=sys.maxsize)\n",
    "\n",
    "len(X_test)\n"
   ]
  },
  {
   "cell_type": "code",
   "execution_count": 184,
   "metadata": {
    "scrolled": false
   },
   "outputs": [],
   "source": [
    "fff = model.transform(X_test)\n",
    "import sys\n",
    "import numpy\n",
    "numpy.set_printoptions(threshold=sys.maxsize)\n",
    "\n",
    "for i in range(0,len(fff)):\n",
    "    for j in range(0,len(fff[i])):\n",
    "        if fff[i][j][0] >= 0.5:\n",
    "            fff[i][j][0] = 1\n",
    "        else:\n",
    "            fff[i][j][0] = 0\n",
    "        if(fff[i][j][1] < 0.5):\n",
    "            fff[i][j][1] = 0\n",
    "        else:\n",
    "            fff[i][j][1] = 1\n"
   ]
  },
  {
   "cell_type": "code",
   "execution_count": 221,
   "metadata": {},
   "outputs": [],
   "source": [
    "def count_elements(seq) -> dict:\n",
    "    \"\"\"Tally elements from `seq`.\"\"\"\n",
    "    hist = {}\n",
    "    for i in seq:\n",
    "        hist[i] = hist.get(i, 0) + 1\n",
    "    return hist\n",
    "\n",
    "final2 = []\n",
    "final_final = []\n",
    "for i in range(0, len(ff)):\n",
    "    for j in range(0, len(ff[i])):\n",
    "        final_value = (max(ff[i][j]))\n",
    "        if np.argmax(ff[i][j]) == 0:\n",
    "            final2.append(final_value)\n",
    "        \n",
    "    final_final.append(final2) \n",
    "    final2 = []\n",
    "    "
   ]
  },
  {
   "cell_type": "code",
   "execution_count": 223,
   "metadata": {},
   "outputs": [
    {
     "name": "stdout",
     "output_type": "stream",
     "text": [
      "[0. 0. 0. 0. 0. 0. 0. 0. 0. 0.]\n"
     ]
    },
    {
     "data": {
      "image/png": "[encoded data removed]",
      "text/plain": [
       "<Figure size 432x288 with 1 Axes>"
      ]
     },
     "metadata": {
      "needs_background": "light"
     },
     "output_type": "display_data"
    }
   ],
   "source": [
    "import matplotlib.pyplot as plt\n",
    "\n",
    "# An \"interface\" to matplotlib.axes.Axes.hist() method\n",
    "n, bins, patches = plt.hist(x=final2[9050:18098], bins=[0,0.1,0.2,0.3,0.4,0.5,0.6,0.7,0.8,0.9,1], color='#0504aa',\n",
    "                            alpha=0.7, rwidth=0.85)\n",
    "\n",
    "print(n)\n",
    "#plt.grid(axis='y', alpha=0.75)\n",
    "#plt.xlabel('Value')\n",
    "#plt.ylabel('Frequency')\n",
    "#plt.title('My Very Own Histogram')\n",
    "#plt.text(23, 45, r'$\\mu=15, b=3$')\n",
    "#maxfreq = n.max()\n",
    "# Set a clean upper y-axis limit.\n",
    "#plt.ylim(ymax=np.ceil(maxfreq / 10) * 10 if maxfreq % 10 else maxfreq + 10)"
   ]
  },
  {
   "cell_type": "code",
   "execution_count": 213,
   "metadata": {},
   "outputs": [
    {
     "data": {
      "text/plain": [
       "<matplotlib.legend.Legend at 0x1f5da3d4fd0>"
      ]
     },
     "execution_count": 213,
     "metadata": {},
     "output_type": "execute_result"
    },
    {
     "data": {
      "image/png": "[encoded data removed]",
      "text/plain": [
       "<Figure size 432x288 with 1 Axes>"
      ]
     },
     "metadata": {
      "needs_background": "light"
     },
     "output_type": "display_data"
    }
   ],
   "source": [
    "plt.legend(['LR', 'RF', 'KNN', 'DT'])\n",
    "n,b1in, patches= plt.hist(final_final, align='left', bins=[0.5, 0.6, 0.7, 0.8, 0.9, 1], rwidth=0.5, stacked=True, edgecolor='black')\n",
    "plt.legend(['LR', 'RF', 'KNN', 'DT'])"
   ]
  },
  {
   "cell_type": "code",
   "execution_count": 216,
   "metadata": {
    "scrolled": false
   },
   "outputs": [
    {
     "data": {
      "text/plain": [
       "<matplotlib.legend.Legend at 0x1f5da5a4280>"
      ]
     },
     "execution_count": 216,
     "metadata": {},
     "output_type": "execute_result"
    },
    {
     "data": {
      "image/png": "[encoded data removed]",
      "text/plain": [
       "<Figure size 432x288 with 1 Axes>"
      ]
     },
     "metadata": {
      "needs_background": "light"
     },
     "output_type": "display_data"
    }
   ],
   "source": [
    "plt.legend(['LR', 'RF', 'KNN', 'DT'])\n",
    "n,b1in, patches= plt.hist(final_final, align='left', bins=[0.5, 0.6, 0.7, 0.8, 0.9, 1], rwidth=0.5, stacked=True, edgecolor='black')\n",
    "plt.legend(['LR', 'RF', 'KNN', 'DT'])"
   ]
  },
  {
   "cell_type": "code",
   "execution_count": 255,
   "metadata": {},
   "outputs": [
    {
     "data": {
      "image/png": "[encoded data removed]",
      "text/plain": [
       "<Figure size 432x201.6 with 2 Axes>"
      ]
     },
     "metadata": {
      "needs_background": "light"
     },
     "output_type": "display_data"
    }
   ],
   "source": [
    "f, (ax1, ax2) = plt.subplots(1, 2)\n",
    "ax1.hist(final_final, align='left', bins=[0.5, 0.6, 0.7, 0.8, 0.9, 1], rwidth=0.5, stacked=True, edgecolor='black')\n",
    "ax1.set_title('Class 0')\n",
    "ax2.hist(final_final1, align='left', bins=[0.5, 0.6, 0.7, 0.8, 0.9, 1], rwidth=0.5, stacked=True, edgecolor='black')\n",
    "ax2.set_title('Class 1')\n",
    "f.tight_layout()\n",
    "plt.legend(['LR', 'RF', 'KNN', 'DT'])\n",
    "f.set_size_inches(6,2.8)\n",
    "plt.savefig('voting.pdf')\n",
    "plt.show()"
   ]
  },
  {
   "cell_type": "code",
   "execution_count": 243,
   "metadata": {},
   "outputs": [
    {
     "data": {
      "text/plain": [
       "<Figure size 432x288 with 0 Axes>"
      ]
     },
     "metadata": {},
     "output_type": "display_data"
    }
   ],
   "source": []
  },
  {
   "cell_type": "code",
   "execution_count": 107,
   "metadata": {
    "scrolled": true
   },
   "outputs": [
    {
     "data": {
      "text/html": [
       "<div>\n",
       "<style scoped>\n",
       "    .dataframe tbody tr th:only-of-type {\n",
       "        vertical-align: middle;\n",
       "    }\n",
       "\n",
       "    .dataframe tbody tr th {\n",
       "        vertical-align: top;\n",
       "    }\n",
       "\n",
       "    .dataframe thead th {\n",
       "        text-align: right;\n",
       "    }\n",
       "</style>\n",
       "<table border=\"1\" class=\"dataframe\">\n",
       "  <thead>\n",
       "    <tr style=\"text-align: right;\">\n",
       "      <th></th>\n",
       "      <th>classifier</th>\n",
       "      <th>T0</th>\n",
       "      <th>T1</th>\n",
       "      <th>T2</th>\n",
       "      <th>T3</th>\n",
       "    </tr>\n",
       "  </thead>\n",
       "  <tbody>\n",
       "    <tr>\n",
       "      <th>accuracy</th>\n",
       "      <td>0.812576</td>\n",
       "      <td>0.781302</td>\n",
       "      <td>0.806498</td>\n",
       "      <td>0.808156</td>\n",
       "      <td>0.812576</td>\n",
       "    </tr>\n",
       "    <tr>\n",
       "      <th>f1</th>\n",
       "      <td>0.440264</td>\n",
       "      <td>0.407662</td>\n",
       "      <td>0.405029</td>\n",
       "      <td>0.448539</td>\n",
       "      <td>0.440264</td>\n",
       "    </tr>\n",
       "    <tr>\n",
       "      <th>statistical_parity_difference</th>\n",
       "      <td>-0.066572</td>\n",
       "      <td>-0.063687</td>\n",
       "      <td>-0.059564</td>\n",
       "      <td>-0.074546</td>\n",
       "      <td>-0.066572</td>\n",
       "    </tr>\n",
       "    <tr>\n",
       "      <th>equal_opportunity_difference</th>\n",
       "      <td>-0.032983</td>\n",
       "      <td>-0.002994</td>\n",
       "      <td>-0.027154</td>\n",
       "      <td>-0.039369</td>\n",
       "      <td>-0.032983</td>\n",
       "    </tr>\n",
       "    <tr>\n",
       "      <th>average_abs_odds_difference</th>\n",
       "      <td>0.020277</td>\n",
       "      <td>0.010964</td>\n",
       "      <td>0.017036</td>\n",
       "      <td>0.027194</td>\n",
       "      <td>0.020277</td>\n",
       "    </tr>\n",
       "    <tr>\n",
       "      <th>disparate_impact</th>\n",
       "      <td>-1.079553</td>\n",
       "      <td>-0.643027</td>\n",
       "      <td>-1.106966</td>\n",
       "      <td>-1.022627</td>\n",
       "      <td>-1.079553</td>\n",
       "    </tr>\n",
       "    <tr>\n",
       "      <th>theil_index</th>\n",
       "      <td>0.203083</td>\n",
       "      <td>0.214830</td>\n",
       "      <td>0.211923</td>\n",
       "      <td>0.201688</td>\n",
       "      <td>0.203083</td>\n",
       "    </tr>\n",
       "  </tbody>\n",
       "</table>\n",
       "</div>"
      ],
      "text/plain": [
       "                               classifier        T0        T1        T2  \\\n",
       "accuracy                         0.812576  0.781302  0.806498  0.808156   \n",
       "f1                               0.440264  0.407662  0.405029  0.448539   \n",
       "statistical_parity_difference   -0.066572 -0.063687 -0.059564 -0.074546   \n",
       "equal_opportunity_difference    -0.032983 -0.002994 -0.027154 -0.039369   \n",
       "average_abs_odds_difference      0.020277  0.010964  0.017036  0.027194   \n",
       "disparate_impact                -1.079553 -0.643027 -1.106966 -1.022627   \n",
       "theil_index                      0.203083  0.214830  0.211923  0.201688   \n",
       "\n",
       "                                     T3  \n",
       "accuracy                       0.812576  \n",
       "f1                             0.440264  \n",
       "statistical_parity_difference -0.066572  \n",
       "equal_opportunity_difference  -0.032983  \n",
       "average_abs_odds_difference    0.020277  \n",
       "disparate_impact              -1.079553  \n",
       "theil_index                    0.203083  "
      ]
     },
     "execution_count": 107,
     "metadata": {},
     "output_type": "execute_result"
    }
   ],
   "source": [
    "import numpy as np\n",
    "final_result = pd.DataFrame(final_metrics)\n",
    "final_result[3] = np.log(final_result[3])\n",
    "final_result = final_result.transpose()\n",
    "acc_f1 = pd.DataFrame(accuracy)\n",
    "acc_f1['f1'] = f1\n",
    "acc_f1 = pd.DataFrame(acc_f1).transpose()\n",
    "acc = acc_f1.rename(index={0: 'accuracy', 1: 'f1'})\n",
    "final_result = final_result.rename(index={0: 'statistical_parity_difference', 1: 'equal_opportunity_difference', 2: 'average_abs_odds_difference', 3: 'disparate_impact', 4: 'theil_index'})\n",
    "final_result = pd.concat([acc,final_result])\n",
    "final_result.columns = ['T' + str(col) for col in final_result.columns]\n",
    "final_result.insert(0, \"classifier\", final_result['T' + str(len(list_estimators) - 1)])   ##Add final metrics add the beginning of the df\n",
    "#final_result.to_csv('../../Results/VotingClassifier/' + nb_fname + '.csv')\n",
    "final_result"
   ]
  },
  {
   "cell_type": "code",
   "execution_count": null,
   "metadata": {},
   "outputs": [],
   "source": []
  }
 ],
 "metadata": {
  "kernelspec": {
   "display_name": "Python 3",
   "language": "python",
   "name": "python3"
  },
  "language_info": {
   "codemirror_mode": {
    "name": "ipython",
    "version": 3
   },
   "file_extension": ".py",
   "mimetype": "text/x-python",
   "name": "python",
   "nbconvert_exporter": "python",
   "pygments_lexer": "ipython3",
   "version": "3.8.5"
  }
 },
 "nbformat": 4,
 "nbformat_minor": 1
}
